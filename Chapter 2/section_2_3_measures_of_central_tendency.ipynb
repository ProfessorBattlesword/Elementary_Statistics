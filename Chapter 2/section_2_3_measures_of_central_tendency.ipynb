{
 "cells": [
  {
   "cell_type": "markdown",
   "metadata": {
    "slideshow": {
     "slide_type": "slide"
    }
   },
   "source": [
    "# Chapter 2: Descriptive Statistics"
   ]
  },
  {
   "cell_type": "markdown",
   "metadata": {
    "slideshow": {
     "slide_type": "slide"
    }
   },
   "source": [
    "### Section 2.3: Measures of Central Tendency\n",
    "\n",
    "### Section Objectives:\n",
    "##### Objective 1: How to find the mean, median, and mode of a population and of a sample\n",
    "##### Objective 2: How to find a weighted mean of a dataset and the mean of a frequency distribution\n",
    "##### Objective 3: How to describe the shape of a distribution as symmetric, uniform, or skewed, and how to compare the mean and median for each"
   ]
  },
  {
   "cell_type": "markdown",
   "metadata": {
    "slideshow": {
     "slide_type": "slide"
    }
   },
   "source": [
    "##### Objective 1: How to find the mean, median, and mode of a population and of a sample"
   ]
  },
  {
   "cell_type": "markdown",
   "metadata": {
    "slideshow": {
     "slide_type": "fragment"
    }
   },
   "source": [
    "##### Mean\n",
    "\n",
    "* The **mean (average)** of a data set is the sum of all the data divided by the total number of data entries.\n",
    "    * Population mean: $\\mu = \\cfrac{\\sum{x}}{N}$\n",
    "        * The greek letter, $\\mu$, (pronounced \"mu\") represents the population mean and $N$ repreesents the total entries of the population.\n",
    "    * Sample mean: $\\bar{x} = \\cfrac{\\sum{x}}{n}$\n",
    "        * $\\bar{x}$ (pronounced \"$x$ bar\") represents a sample mean and $n$ represents the sample size."
   ]
  },
  {
   "cell_type": "markdown",
   "metadata": {
    "slideshow": {
     "slide_type": "fragment"
    }
   },
   "source": [
    "##### Example 1\n",
    "\n",
    "The weights (in pounds) for a sample of adults before starting a weight-loss study are listed. What is the mean weight of the adults?\n",
    "\n",
    "||||||||\n",
    "|:-:|:-:|:-:|:-:|:-:|:-:|:-:|\n",
    "|274|235|223|268|290|285|235|"
   ]
  },
  {
   "cell_type": "markdown",
   "metadata": {
    "slideshow": {
     "slide_type": "fragment"
    }
   },
   "source": [
    "##### Solution:\n",
    "\n",
    "Since we are working with a *sample* we require the formula $\\bar{x} = \\cfrac{\\sum{x}}{n}$. Since $\\sum{x} = 274+235+223+268+290+285+235 = 1810$, we end up with\n",
    "\n",
    "\\begin{align}\n",
    "\\bar{x} & = \\cfrac{\\sum{x}}{n} \\\\\n",
    "& = \\cfrac{1810}{7} \\\\\n",
    "& \\approx \\boxed{258.6 \\text{ lbs}}\n",
    "\\end{align}"
   ]
  },
  {
   "cell_type": "markdown",
   "metadata": {
    "slideshow": {
     "slide_type": "fragment"
    }
   },
   "source": [
    "##### Example 2\n",
    "\n",
    "The heights (in inches) of the players on a professional basketball team are shown below. What is the mean height?\n",
    "\n",
    "|||||||||\n",
    "|:-:|:-:|:-:|:-:|:-:|:-:|:-:|:-:|\n",
    "|74|78|81|87|81|80|77|80|\n",
    "|85|78|80|83|75|81|73||"
   ]
  },
  {
   "cell_type": "markdown",
   "metadata": {
    "slideshow": {
     "slide_type": "fragment"
    }
   },
   "source": [
    "##### Solution:\n",
    "\n",
    "$$\\mu = \\cfrac{\\sum{x}}{N} = \\cfrac{1193}{15} \\approx \\boxed{79.5}$$"
   ]
  },
  {
   "cell_type": "markdown",
   "metadata": {
    "slideshow": {
     "slide_type": "fragment"
    }
   },
   "source": [
    "##### Rounding and Calculations\n",
    "\n",
    "* In *all* calculations do not round until the final calculation.\n",
    "* When rounding the mean of a data set round to one *more* decimal place than the original data provides."
   ]
  },
  {
   "cell_type": "markdown",
   "metadata": {
    "slideshow": {
     "slide_type": "fragment"
    }
   },
   "source": [
    "##### Median\n",
    "\n",
    "* The **median** of a data set is the value that lies in the middle of the data when it is ordered.\n",
    "* The median divides the data into two separate parts:\n",
    "    * Half of the data is below the median\n",
    "    * Half of the data is above the median\n",
    "* The median is the *center* of an organized data set:\n",
    "    * Data set contains an odd number of entries:\n",
    "        * Median is equal to the number that is in the middle of the ordered data set\n",
    "    * Data set contains an even number of entries:\n",
    "        * Median is the mean of the two middle data entries of the ordered data set"
   ]
  },
  {
   "cell_type": "markdown",
   "metadata": {
    "slideshow": {
     "slide_type": "fragment"
    }
   },
   "source": [
    "##### Example 3\n",
    "\n",
    "Find the median for the data given in the first example.\n",
    "\n",
    "||||||||\n",
    "|:-:|:-:|:-:|:-:|:-:|:-:|:-:|\n",
    "|274|235|223|268|290|285|235|"
   ]
  },
  {
   "cell_type": "markdown",
   "metadata": {
    "slideshow": {
     "slide_type": "fragment"
    }
   },
   "source": [
    "##### Solution:\n",
    "\n",
    "Arrange data in order:\n",
    "\n",
    "||||||||\n",
    "|:-:|:-:|:-:|:-:|:-:|:-:|:-:|\n",
    "|223|235|235|$\\boxed{268}$|274|285|290|\n",
    "\n",
    "Odd number of data $\\Rightarrow$ the median is the *middle* number: $$\\boxed{Med = 268}$$"
   ]
  },
  {
   "cell_type": "markdown",
   "metadata": {
    "slideshow": {
     "slide_type": "fragment"
    }
   },
   "source": [
    "##### Example 4\n",
    "\n",
    "Suppose the individual who weights 285 lbs from the previous example decides not to participate. Find the median for the data given below.\n",
    "\n",
    "|||||||\n",
    "|:-:|:-:|:-:|:-:|:-:|:-:|\n",
    "|274|235|223|268|290|235|"
   ]
  },
  {
   "cell_type": "markdown",
   "metadata": {
    "slideshow": {
     "slide_type": "fragment"
    }
   },
   "source": [
    "##### Solution:\n",
    "\n",
    "Arrange data in order:\n",
    "\n",
    "||||||||\n",
    "|:-:|:-:|:-:|:-:|:-:|:-:|:-:|\n",
    "|223|235|$\\boxed{235}$|$\\boxed{268}$|274|290|\n",
    "\n",
    "Even number of data $\\Rightarrow$ the median is the average of the two middle most numbers: $$Med = \\cfrac{235 + 268}{2} = \\boxed{251.5}$$"
   ]
  },
  {
   "cell_type": "markdown",
   "metadata": {
    "slideshow": {
     "slide_type": "fragment"
    }
   },
   "source": [
    "##### Mode\n",
    "\n",
    "* The **mode** of a data set is the data entry that occurs the most (greatest frequency).\n",
    "* Data sets can have exactly one mode, more than one mode, or no mode.\n",
    "* Data that conmtains two sets of entries that occur with the same greatest frequency are called **bimodal.**\n",
    "* Data that contains no repeated entries has no mode."
   ]
  },
  {
   "cell_type": "markdown",
   "metadata": {
    "slideshow": {
     "slide_type": "fragment"
    }
   },
   "source": [
    "##### Example 5\n",
    "\n",
    "Find the mode of the weights from the first example:\n",
    "\n",
    "||||||||\n",
    "|:-:|:-:|:-:|:-:|:-:|:-:|:-:|\n",
    "|274|235|223|268|290|285|235|"
   ]
  },
  {
   "cell_type": "markdown",
   "metadata": {
    "slideshow": {
     "slide_type": "fragment"
    }
   },
   "source": [
    "##### Solution:\n",
    "\n",
    "Again, arranging data in order:\n",
    "\n",
    "||||||||\n",
    "|:-:|:-:|:-:|:-:|:-:|:-:|:-:|\n",
    "|223|$\\boxed{235}$|$\\boxed{235}$|268|274|285|290|\n",
    "\n",
    "Arranging in order is not necessary, but makes it easier to identify the number that appears most often: $$Mode = \\boxed{235}$$"
   ]
  },
  {
   "cell_type": "markdown",
   "metadata": {
    "slideshow": {
     "slide_type": "fragment"
    }
   },
   "source": [
    "##### Example 6\n",
    "\n",
    "Find the mean, median, and mode of the following data set.\n",
    "\n",
    "* Prices (in dollars per sq ft) for a sample of South Beach condominiums:\n",
    "\n",
    "|||||||||||\n",
    "|:-:|:-:|:-:|:-:|:-:|:-:|:-:|:-:|:-:|:-:|\n",
    "|324|462|540|450|638|564|670|618|624|825|\n",
    "|540|980|1650|1420|670|830|912|750|1260|450|\n",
    "|975|670|1100|980|750|723|705|385|475|720|"
   ]
  },
  {
   "cell_type": "markdown",
   "metadata": {
    "slideshow": {
     "slide_type": "fragment"
    }
   },
   "source": [
    "##### Solution:\n",
    "\n",
    "* $\\bar{x} = 755.3$\n",
    "* $Med = 687.5$\n",
    "* $Mode = 670$"
   ]
  },
  {
   "cell_type": "markdown",
   "metadata": {
    "slideshow": {
     "slide_type": "slide"
    }
   },
   "source": [
    "##### Objective 2: How to find a weighted mean of a dataset and the mean of a frequency distribution"
   ]
  },
  {
   "cell_type": "markdown",
   "metadata": {
    "slideshow": {
     "slide_type": "fragment"
    }
   },
   "source": [
    "##### Weighted Mean\n",
    "\n",
    "* A **weighted mean** is the mean of a data set whose entries have varying weights.\n",
    "    * Calculated using the formula $\\bar{x} = \\cfrac{\\sum{x \\cdot w}}{\\sum{w}}$\n",
    "        * $x$ is a data entry\n",
    "        * $w$ is a weight corresponding to data entry"
   ]
  },
  {
   "cell_type": "markdown",
   "metadata": {
    "slideshow": {
     "slide_type": "fragment"
    }
   },
   "source": [
    "##### Example 7\n",
    "\n",
    "Determine the grade for the following individual:\n",
    "\n",
    "<table width=\"50%\" style=\"width: 1000px\">\n",
    "    <tr>\n",
    "        <th>Catagory</th>\n",
    "        <th>Score ($x$)</th>\n",
    "        <th>Weight ($w$)</th>\n",
    "    </tr>\n",
    "    <tr>\n",
    "        <td>Test average</td>\n",
    "        <td>86</td>\n",
    "        <td>0.50</td>\n",
    "    </tr>\n",
    "    <tr>\n",
    "        <td>Midterm</td>\n",
    "        <td>96</td>\n",
    "        <td>0.15</td>\n",
    "    </tr>\n",
    "    <tr>\n",
    "        <td>Final exam</td>\n",
    "        <td>82</td>\n",
    "        <td>0.20</td>\n",
    "    </tr>\n",
    "    <tr>\n",
    "        <td>Computer lab</td>\n",
    "        <td>98</td>\n",
    "        <td>0.10</td>\n",
    "    </tr>\n",
    "    <tr>\n",
    "        <td>Homework</td>\n",
    "        <td>100</td>\n",
    "        <td>0.05</td>\n",
    "    </tr>\n",
    "</table>"
   ]
  },
  {
   "cell_type": "markdown",
   "metadata": {
    "slideshow": {
     "slide_type": "fragment"
    }
   },
   "source": [
    "##### Solution:\n",
    "\n",
    "<table width=\"50%\" style=\"width: 1000px\">\n",
    "    <tr>\n",
    "        <th>Catagory</th>\n",
    "        <th>Score ($x$)</th>\n",
    "        <th>Weight ($w$)</th>\n",
    "        <th>$x \\cdot w$</th>\n",
    "    </tr>\n",
    "    <tr>\n",
    "        <td>Test average</td>\n",
    "        <td>86</td>\n",
    "        <td>0.50</td>\n",
    "        <td>43.0</td>\n",
    "    </tr>\n",
    "    <tr>\n",
    "        <td>Midterm</td>\n",
    "        <td>96</td>\n",
    "        <td>0.15</td>\n",
    "        <td>14.4</td>\n",
    "    </tr>\n",
    "    <tr>\n",
    "        <td>Final exam</td>\n",
    "        <td>82</td>\n",
    "        <td>0.20</td>\n",
    "        <td>16.4</td>\n",
    "    </tr>\n",
    "    <tr>\n",
    "        <td>Computer lab</td>\n",
    "        <td>98</td>\n",
    "        <td>0.10</td>\n",
    "        <td>9.8</td>\n",
    "    </tr>\n",
    "    <tr>\n",
    "        <td>Homework</td>\n",
    "        <td>100</td>\n",
    "        <td>0.05</td>\n",
    "        <td>5.0</td>\n",
    "    </tr>\n",
    "    <tr>\n",
    "        <td></td> <td></td> <td>$\\sum{w} = 1$</td> <td>$\\sum{(x \\cdot w)} = 88.6$</td>    </tr>\n",
    "</table>\n",
    "\n",
    "$$\\bar{x} = \\cfrac{\\sum{(x \\cdot w)}}{\\sum{w}} = \\cfrac{88.6}{1} = \\boxed{88.6}$$"
   ]
  },
  {
   "cell_type": "markdown",
   "metadata": {
    "slideshow": {
     "slide_type": "fragment"
    }
   },
   "source": [
    "##### Example 8\n",
    "\n",
    "For the month of April, a checking account has a balance of \\\\$523 for 24 days, \\\\$2415 for 2 days, and \\\\$250 for 4 days. What is the account's mean daily balance for April?"
   ]
  },
  {
   "cell_type": "markdown",
   "metadata": {
    "slideshow": {
     "slide_type": "fragment"
    }
   },
   "source": [
    "##### Solution:\n",
    "\n",
    "<table width=\"50%\" style=\"width: 1000px\">\n",
    "    <tr>\n",
    "        <th>Balance ($x$)</th>\n",
    "        <th>Days ($w$)</th>\n",
    "        <th>$x \\cdot w$</th>\n",
    "    </tr>\n",
    "    <tr>\n",
    "        <td>523</td>\n",
    "        <td>24</td>\n",
    "        <td>12552</td>\n",
    "    </tr>\n",
    "    <tr>\n",
    "        <td>2415</td>\n",
    "        <td>2</td>\n",
    "        <td>4830</td>\n",
    "    </tr>\n",
    "    <tr>\n",
    "        <td>250</td>\n",
    "        <td>4</td>\n",
    "        <td>1000</td>\n",
    "    </tr>\n",
    "    <tr>\n",
    "        <td></td> <td>$\\sum{w} = 30$</td> <td>$\\sum{(x \\cdot w)} = 18382$</td>    </tr>\n",
    "</table>\n",
    "\n",
    "$$\\bar{x} = \\cfrac{\\sum{(x \\cdot w)}}{\\sum{w}} = \\cfrac{18382}{30} \\approx \\boxed{\\$612.70}$$"
   ]
  },
  {
   "cell_type": "markdown",
   "metadata": {
    "slideshow": {
     "slide_type": "fragment"
    }
   },
   "source": [
    "##### Mean of a Frequency Distribution\n",
    "\n",
    "* The **mean of a frequency distribution** for a sample is *approximated* by $\\bar{x} = \\cfrac{\\sum{x \\cdot f}}{n}$\n",
    "    * $x$ is the midpoiont of a class\n",
    "    * $f$ is the frequency corresponding to $x$"
   ]
  },
  {
   "cell_type": "markdown",
   "metadata": {
    "slideshow": {
     "slide_type": "fragment"
    }
   },
   "source": [
    "##### Steps for Approximating Mean of a Frequency Distribution\n",
    "\n",
    "1. Find the midpoint of each class $x$\n",
    "2. Find the sum of products: $\\sum(x \\cdot f)$\n",
    "3. Find the sum of frequencies: $\\sum{f} = n$\n",
    "4. Find the mean: $\\bar{x} = \\cfrac{\\sum{(x \\cdot f)}}{n}$"
   ]
  },
  {
   "cell_type": "markdown",
   "metadata": {
    "slideshow": {
     "slide_type": "fragment"
    }
   },
   "source": [
    "##### Example 9\n",
    "\n",
    "Find the mean of the frequency distribution shown below.\n",
    "\n",
    "<table width=\"50%\" style=\"width: 1000px\">\n",
    "    <tr>\n",
    "        <th>Class</th>\n",
    "        <th>Frequency, $f$</th>\n",
    "    </tr>\n",
    "    <tr>\n",
    "        <td>1 - 5</td>\n",
    "        <td>5</td>\n",
    "    </tr>\n",
    "    <tr>\n",
    "        <td>6 - 10</td>\n",
    "        <td>8</td>\n",
    "    </tr>\n",
    "    <tr>\n",
    "        <td>11 - 15</td>\n",
    "        <td>6</td>\n",
    "    </tr>\n",
    "        <tr>\n",
    "        <td>16 - 20</td>\n",
    "        <td>8</td>\n",
    "    </tr>\n",
    "        <tr>\n",
    "        <td>21 - 25</td>\n",
    "        <td>5</td>\n",
    "    </tr>\n",
    "        <tr>\n",
    "        <td>26 - 30</td>\n",
    "        <td>4</td>\n",
    "    </tr>\n",
    "</table>"
   ]
  },
  {
   "cell_type": "markdown",
   "metadata": {
    "slideshow": {
     "slide_type": "fragment"
    }
   },
   "source": [
    "##### Solution:\n",
    "\n",
    "<table width=\"50%\" style=\"width: 1000px\">\n",
    "    <tr>\n",
    "        <th>Class</th>\n",
    "        <th>Frequency, $f$</th>\n",
    "        <th>Midpoint, $x$</th>\n",
    "        <th>$x \\cdot f$</th>\n",
    "    </tr>\n",
    "    <tr>\n",
    "        <td>1 - 5</td>\n",
    "        <td>5</td>\n",
    "        <td>3</td>\n",
    "        <td>15</td>\n",
    "    </tr>\n",
    "    <tr>\n",
    "        <td>6 - 10</td>\n",
    "        <td>8</td>\n",
    "        <td>8</td>\n",
    "        <td>64</td>\n",
    "    </tr>\n",
    "    <tr>\n",
    "        <td>11 - 15</td>\n",
    "        <td>6</td>\n",
    "        <td>13</td>\n",
    "        <td>78</td>\n",
    "    </tr>\n",
    "        <tr>\n",
    "        <td>16 - 20</td>\n",
    "        <td>8</td>\n",
    "        <td>18</td>\n",
    "        <td>144</td>\n",
    "    </tr>\n",
    "        <tr>\n",
    "        <td>21 - 25</td>\n",
    "        <td>5</td>\n",
    "        <td>23</td>\n",
    "        <td>115</td>\n",
    "    </tr>\n",
    "        <tr>\n",
    "        <td>26 - 30</td>\n",
    "        <td>4</td>\n",
    "        <td>28</td>\n",
    "        <td>112</td>\n",
    "    </tr>\n",
    "    <tr>\n",
    "        <td></td>\n",
    "        <td>$n = \\sum{f} = 36$</td>\n",
    "        <td></td>\n",
    "        <td>$\\sum{(x \\cdot f)} = 528$</td>\n",
    "    </tr>\n",
    "</table>\n",
    "\n",
    "$$\\bar{x} = \\cfrac{\\sum{(x \\cdot f)}}{n} = \\cfrac{528}{36} \\approx \\boxed{14.7}$$"
   ]
  },
  {
   "cell_type": "markdown",
   "metadata": {
    "slideshow": {
     "slide_type": "slide"
    }
   },
   "source": [
    "##### Objective 3: How to describe the shape of a distribution as symmetric, uniform, or skewed, and how to compare the mean and median for each"
   ]
  },
  {
   "cell_type": "markdown",
   "metadata": {
    "slideshow": {
     "slide_type": "fragment"
    }
   },
   "source": [
    "##### Shapes of Distributions\n",
    "\n",
    "* Symmetric\n",
    "* Uniform (rectangular)\n",
    "* Skewed left (negatively skewed)\n",
    "* Skewed right (positively skewed)"
   ]
  },
  {
   "cell_type": "markdown",
   "metadata": {
    "slideshow": {
     "slide_type": "fragment"
    }
   },
   "source": [
    "##### Symmetric Distribution\n",
    "\n",
    "* A frequency distribution is **symmetric** when a vertical line can be drawn through the middle of a graph of the distribution and the resulting halves are mirror images\n",
    "    * Mean, median, and mode are all *equal*\n",
    "* A frequency distribution is **approximately symmetric** when a vertical line can be drawn through the middle of a graph of the distribution and the resulting halves are *approximately* mirror images\n",
    "    * Mean, median, and mode are all *approximately equal*"
   ]
  },
  {
   "cell_type": "markdown",
   "metadata": {
    "slideshow": {
     "slide_type": "fragment"
    }
   },
   "source": [
    "##### Uniform (Rectangular) Distribution\n",
    "\n",
    "* A frequency distribution is **uniform (rectangular)** when all entries, or classes, in the distribution have equal frequencies\n",
    "    * A uniform distribution is also symmetric\n",
    "* A frequency distribution is **approximately uniform (rectangular)** when all entries, or classes, in the distribution have approximately equal frequencies\n",
    "    * An approximately uniform distribution is also approximately symmetric"
   ]
  },
  {
   "cell_type": "markdown",
   "metadata": {
    "slideshow": {
     "slide_type": "fragment"
    }
   },
   "source": [
    "##### Skewed Distributions\n",
    "\n",
    "* A frequency distribution is **skewed** when the tail of the graph elongates more to one side than the other\n",
    "    * A frequency distribution is **skewed left (negatively skewed)** when its tail extends to the left\n",
    "        * The mean is less than the median and the median is usually less than the mode\n",
    "    * A frequency distribution is **skewed right (positively skewed)** when its tail extends to the right\n",
    "        * The mean is greater than the median and the median is usually greater than the mode"
   ]
  },
  {
   "cell_type": "code",
   "execution_count": 1,
   "metadata": {
    "slideshow": {
     "slide_type": "fragment"
    }
   },
   "outputs": [],
   "source": [
    "import warnings\n",
    "\n",
    "warnings.filterwarnings('ignore')\n",
    "\n",
    "import numpy as np\n",
    "import scipy.stats as ss\n",
    "import matplotlib.pyplot as plt\n",
    "import seaborn as sns\n",
    "%matplotlib inline\n",
    "\n",
    "plt.style.use('fivethirtyeight')"
   ]
  },
  {
   "cell_type": "code",
   "execution_count": 3,
   "metadata": {
    "slideshow": {
     "slide_type": "fragment"
    }
   },
   "outputs": [
    {
     "data": {
      "image/png": "[encoded data removed]",
      "text/plain": [
       "<Figure size 1800x720 with 4 Axes>"
      ]
     },
     "metadata": {},
     "output_type": "display_data"
    }
   ],
   "source": [
    "data1 = np.array([1,2,3,4,4,5,5,5,6,6,\n",
    "                  6,6,7,7,7,7,7,7,8,8,\n",
    "                  8,8,9,9,9,10,10,11,12,13])\n",
    "\n",
    "data2 = np.array([1,1,1,2,2,2,3,3,3,4,\n",
    "                  4,4,5,5,5,6,6,6,7,7,\n",
    "                  7,8,8,8,9,9,9,10,10,10])\n",
    "\n",
    "data3 = np.array([0,1,1,2,2,2,2,2,2,3,\n",
    "                  3,3,3,3,3,3,3,3,4,4,\n",
    "                  4,4,4,4,5,5,5,5,5,6,6,6,\n",
    "                  6,7,7,7,7,8,8,8,9,9,9,10,10,11,11,12,\n",
    "                 13,14,15,18,22])\n",
    "\n",
    "data4 = 22 - np.array([0,1,1,2,2,2,2,2,2,3,\n",
    "                  3,3,3,3,3,3,3,3,4,4,\n",
    "                  4,4,4,4,5,5,5,5,5,6,6,6,\n",
    "                  6,7,7,7,7,8,8,8,9,9,9,10,10,11,11,12,\n",
    "                 13,14,15,18,22])\n",
    "\n",
    "fig, (ax1, ax2, ax3, ax4) = plt.subplots(1,4,figsize=(25,10))\n",
    "\n",
    "##### Symmetric distribution\n",
    "sns.histplot(data1, kde=True, discrete=True, stat='frequency', ax=ax1)\n",
    "\n",
    "ax1.set_xticks(np.arange(0,max(data1)+1))\n",
    "ax1.set_title('Symmetric Distribution',fontsize=35)\n",
    "ax1.set_xlabel('$x$',fontsize=35)\n",
    "\n",
    "##### Symmetric distribution\n",
    "sns.histplot(data2, kde=False, discrete=True, stat='frequency', ax=ax2)\n",
    "\n",
    "ax2.set_xticks(np.arange(0,max(data2)+1))\n",
    "ax2.set_title('Uniform Distribution',fontsize=35)\n",
    "ax2.set_xlabel('$x$',fontsize=35)\n",
    "ax2.set_ylim(0,5)\n",
    "\n",
    "##### Skewed left distribution\n",
    "sns.histplot(data3, kde=True, discrete=True, stat='frequency', ax=ax3)\n",
    "\n",
    "ax3.set_xticks(np.arange(0,max(data3)+1))\n",
    "ax3.set_xticklabels(np.arange(0,max(data3)+1), rotation=90)\n",
    "ax3.set_title('Skewed Right Distribution',fontsize=35)\n",
    "ax3.set_xlabel('$x$',fontsize=35)\n",
    "\n",
    "##### Skewed right distribution\n",
    "sns.histplot(data4, kde=True, discrete=True, stat='frequency', ax=ax4)\n",
    "\n",
    "ax4.set_xticks(np.arange(0,max(data4)+1))\n",
    "ax4.set_xticklabels(np.arange(0,max(data4)+1), rotation=90)\n",
    "ax4.set_title('Skewed Left Distribution',fontsize=35)\n",
    "ax4.set_xlabel('$x$',fontsize=35)\n",
    "\n",
    "fig.tight_layout()"
   ]
  },
  {
   "cell_type": "markdown",
   "metadata": {
    "slideshow": {
     "slide_type": "slide"
    }
   },
   "source": [
    "##### End of Section"
   ]
  }
 ],
 "metadata": {
  "celltoolbar": "Slideshow",
  "kernelspec": {
   "display_name": "Python 3",
   "language": "python",
   "name": "python3"
  },
  "language_info": {
   "codemirror_mode": {
    "name": "ipython",
    "version": 3
   },
   "file_extension": ".py",
   "mimetype": "text/x-python",
   "name": "python",
   "nbconvert_exporter": "python",
   "pygments_lexer": "ipython3",
   "version": "3.7.6"
  },
  "rise": {
   "enable_chalkboard": true,
   "theme": "sky",
   "transition": "zoom"
  }
 },
 "nbformat": 4,
 "nbformat_minor": 4
}
