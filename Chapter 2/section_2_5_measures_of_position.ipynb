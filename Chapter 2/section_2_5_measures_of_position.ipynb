{
 "cells": [
  {
   "cell_type": "markdown",
   "metadata": {
    "slideshow": {
     "slide_type": "slide"
    }
   },
   "source": [
    "# Chapter 2: Descriptive Statistics"
   ]
  },
  {
   "cell_type": "markdown",
   "metadata": {
    "slideshow": {
     "slide_type": "slide"
    }
   },
   "source": [
    "### Section 2.5: Measures of Position\n",
    "\n",
    "### Section Objectives:\n",
    "##### Objective 1: How to find the first, second, and third quartiles of a dataset\n",
    "##### Objective 2: How to find the interquartile range of a dataset\n",
    "##### Objective 3: How to represent a dataset graphically using a box-and-whisker plot\n",
    "##### Objective 4: How to find percentiles for a specific data entry\n",
    "##### Objective 5: How to find and interpret the standard score ($z$-score)"
   ]
  },
  {
   "cell_type": "markdown",
   "metadata": {
    "slideshow": {
     "slide_type": "slide"
    }
   },
   "source": [
    "##### Objective 1: How to find the first, second, and third quartiles of a dataset"
   ]
  },
  {
   "cell_type": "markdown",
   "metadata": {
    "slideshow": {
     "slide_type": "fragment"
    }
   },
   "source": [
    "##### Quartiles\n",
    "\n",
    "* **Fractiles** are numbers that partition an ordered data set into equal parts (for example, the median)\n",
    "\n",
    "* A **quartile** is a number that divides data into quarters\n",
    "    * The **first quartile,** $Q_1$, lies above about one-quarter of the data set\n",
    "    * The **second quartile (median),** $Q_2$, lies above about half of the data set\n",
    "    * The **third quartile,** $Q_3$, lies above about three-quarters of the data set"
   ]
  },
  {
   "cell_type": "markdown",
   "metadata": {
    "slideshow": {
     "slide_type": "fragment"
    }
   },
   "source": [
    "##### Example 1\n",
    "\n",
    "The number of nuclear power plants in the top 15 nuclear power-producing countries in the world are listed. Find the first, second, and third quartiles of the data set. What do you observe?\n",
    "\n",
    "|||||||||\n",
    "|:-:|:-:|:-:|:-:|:-:|:-:|:-:|:-:|\n",
    "|7|20|16|6|58|9|20|50|\n",
    "|23|33|8|10|15|16|104||"
   ]
  },
  {
   "cell_type": "markdown",
   "metadata": {
    "slideshow": {
     "slide_type": "fragment"
    }
   },
   "source": [
    "##### Solution:\n",
    "\n",
    "Organizing the data:\n",
    "\n",
    "||||||||||||||||\n",
    "|:-:|:-:|:-:|:-:|:-:|:-:|:-:|:-:|:-:|:-:|:-:|:-:|:-:|:-:|:-:|\n",
    "|6|7|8|9|10|15|16|16|20|20|23|33|50|58|104|"
   ]
  },
  {
   "cell_type": "markdown",
   "metadata": {
    "slideshow": {
     "slide_type": "fragment"
    }
   },
   "source": [
    "Identify $Q_2$ (median):\n",
    "\n",
    "||||||||||||||||\n",
    "|:-:|:-:|:-:|:-:|:-:|:-:|:-:|:-:|:-:|:-:|:-:|:-:|:-:|:-:|:-:|\n",
    "|6|7|8|9|10|15|16|$\\overbrace{16}^{Q_2}$|20|20|23|33|50|58|104|"
   ]
  },
  {
   "cell_type": "markdown",
   "metadata": {
    "slideshow": {
     "slide_type": "fragment"
    }
   },
   "source": [
    "Now find the median of the *lower half* (this is $Q_1$):\n",
    "\n",
    "||||||||||||||||\n",
    "|:-:|:-:|:-:|:-:|:-:|:-:|:-:|:-:|:-:|:-:|:-:|:-:|:-:|:-:|:-:|\n",
    "|6|7|8|$\\overbrace{9}^{Q_1}$|10|15|16|$\\overbrace{16}^{Q_2}$|20|20|23|33|50|58|104|"
   ]
  },
  {
   "cell_type": "markdown",
   "metadata": {
    "slideshow": {
     "slide_type": "fragment"
    }
   },
   "source": [
    "Finally, find the median of the *upper half* (this is $Q_3$):\n",
    "\n",
    "||||||||||||||||\n",
    "|:-:|:-:|:-:|:-:|:-:|:-:|:-:|:-:|:-:|:-:|:-:|:-:|:-:|:-:|:-:|\n",
    "|6|7|8|$\\overbrace{9}^{Q_1}$|10|15|16|$\\overbrace{16}^{Q_2}$|20|20|23|$\\overbrace{33}^{Q_3}$|50|58|104|\n",
    "\n",
    "So we have $\\boxed{Q_1 = 9, Q_2 = 16 \\text{ and } Q_3 = 33}$"
   ]
  },
  {
   "cell_type": "markdown",
   "metadata": {
    "slideshow": {
     "slide_type": "fragment"
    }
   },
   "source": [
    "##### Example 2\n",
    "\n",
    "The tuition costs (in thousands of dollars) for 25 liberal arts colleges are listed. Find the first, second, and third quartiles. What do you observe?\n",
    "\n",
    "||||||||||||||\n",
    "|:-:|:-:|:-:|:-:|:-:|:-:|:-:|:-:|:-:|:-:|:-:|:-:|:-:|\n",
    "|38|33|40|42|34|27|44|38|32|34|45|32|23|\n",
    "|46|27|23|30|27|41|22|26|45|31|26|19||"
   ]
  },
  {
   "cell_type": "markdown",
   "metadata": {
    "slideshow": {
     "slide_type": "fragment"
    }
   },
   "source": [
    "##### Solution:\n",
    "\n",
    "Organizing the data:\n",
    "\n",
    "|||||||||||||||||||||\n",
    "|:-:|:-:|:-:|:-:|:-:|:-:|:-:|:-:|:-:|:-:|:-:|:-:|:-:|:-:|:-:|:-:|:-:|:-:|:-:|:-:|\n",
    "|19|22|23|23|26|26|27|27|27|30|31|32|32|33|34|34|38|38|40|41|\n",
    "|42|44|45|45|46||||||||||||||||"
   ]
  },
  {
   "cell_type": "markdown",
   "metadata": {
    "slideshow": {
     "slide_type": "fragment"
    }
   },
   "source": [
    "Identify $Q_2$ (median):\n",
    "\n",
    "|||||||||||||||||||||\n",
    "|:-:|:-:|:-:|:-:|:-:|:-:|:-:|:-:|:-:|:-:|:-:|:-:|:-:|:-:|:-:|:-:|:-:|:-:|:-:|:-:|\n",
    "|19|22|23|23|26|26|27|27|27|30|31|32|$\\overbrace{32}^{Q_2}$|33|34|34|38|38|40|41||||||\n",
    "|42|44|45|45|46||||||||||||||||"
   ]
  },
  {
   "cell_type": "markdown",
   "metadata": {
    "slideshow": {
     "slide_type": "fragment"
    }
   },
   "source": [
    "Now find the median of the *lower half* ($Q_1$) and the median of the *upper half* ($Q_3$):\n",
    "\n",
    "* We have an *even* number of entries for the lower and upper halves\n",
    "    * We need to average the two middle most numbers of each half\n",
    "        * This gives us $Q_1 = \\cfrac{26 + 27}{2} = 26.5$ and $Q_3 = \\cfrac{40 + 41}{2} = 40.5$\n",
    "\n",
    "||||||||||||||||||||||||||\n",
    "|:-:|:-:|:-:|:-:|:-:|:-:|:-:|:-:|:-:|:-:|:-:|:-:|:-:|:-:|:-:|:-:|:-:|:-:|:-:|:-:|:-:|:-:|:-:|:-:|:-:|\n",
    "|19|22|23|23|26|$\\boxed{26}$|$\\boxed{27}$|27|27|30|31|32|$\\overbrace{32}^{Q_2}$|33|34|34|38|38|$\\boxed{40}$|\n",
    "|$\\boxed{41}$|42|44|45|45|46|\n",
    "\n",
    "So we have $\\boxed{Q_1 = 26.5, Q_2 = 32, \\text{ and } Q_3 = 40.5}$"
   ]
  },
  {
   "cell_type": "markdown",
   "metadata": {
    "slideshow": {
     "slide_type": "fragment"
    }
   },
   "source": [
    "##### Using a TI-84 Calculator\n",
    "\n",
    "Alternatively, we could use a calculator with the summary stats menu:\n",
    "\n",
    "1. Enter the data in desired list\n",
    "2. Press \"stat\"\n",
    "2. Navigate to \"CALC\" menu\n",
    "3. Select \"1-Var Stats\"\n",
    "4. Press \"2nd\" and then the number corresponding the the list where the data was entered\n",
    "5. Select \"Calculate\" or press \"enter\"\n",
    "6. Scroll to the bottom of the summary menu with the down arrow \"$\\downarrow$\""
   ]
  },
  {
   "cell_type": "markdown",
   "metadata": {
    "slideshow": {
     "slide_type": "fragment"
    }
   },
   "source": [
    "The last five numbers of the summary stats menu is known as the *five number summary* (more on this later)."
   ]
  },
  {
   "cell_type": "markdown",
   "metadata": {
    "slideshow": {
     "slide_type": "slide"
    }
   },
   "source": [
    "##### Objective 2: How to find the interquartile range of a dataset"
   ]
  },
  {
   "cell_type": "markdown",
   "metadata": {
    "slideshow": {
     "slide_type": "fragment"
    }
   },
   "source": [
    "##### Interquartile Range (IQR)\n",
    "\n",
    "* The **interquartile range (IQR)** of a data set is a measure of variation that gives the range of the *middle* portion (about the middle half) of the data set\n",
    "    * The IQR is calculated with the formula $IQR = Q_3 - Q_1$\n",
    "    * This is useful in identifying outliers\n",
    "    * An **outlier** is a data entry that is far removed from the other data entries (unusually small or unusually large values)"
   ]
  },
  {
   "cell_type": "markdown",
   "metadata": {
    "slideshow": {
     "slide_type": "fragment"
    }
   },
   "source": [
    "##### Identifying Outliers\n",
    "\n",
    "1. Find $Q_1$ and $Q_3$\n",
    "2. Find the IQR: $IQR = Q_3 - Q_1$\n",
    "3. Multiply IQR by 1.5\n",
    "    * **Note:** Multiplying by a factor of 1.5 is simply the convention used in practice and this is the value we will use when identifying outliers\n",
    "4. Calculate $Q_1 - 1.5 \\cdot IQR$\n",
    "    * **All data entries below this calculated value are outliers**\n",
    "        * These are the unusually small values or \"small\" outliers\n",
    "5. Calculate $Q_3 + 1.5 \\cdot IQR$\n",
    "    * **All data entries above this calculated value are outliers**\n",
    "        * These values are the unusually large values or \"large\" outliers\n"
   ]
  },
  {
   "cell_type": "markdown",
   "metadata": {
    "slideshow": {
     "slide_type": "fragment"
    }
   },
   "source": [
    "##### Example 3\n",
    "\n",
    "Find the interquartile range of the data from Example 1 and identify any outliers.\n",
    "\n",
    "|||||||||\n",
    "|:-:|:-:|:-:|:-:|:-:|:-:|:-:|:-:|\n",
    "|7|20|16|6|58|9|20|50|\n",
    "|23|33|8|10|15|16|104||"
   ]
  },
  {
   "cell_type": "markdown",
   "metadata": {
    "slideshow": {
     "slide_type": "fragment"
    }
   },
   "source": [
    "##### Solution:\n",
    "\n",
    "We have already found $Q_1$ and $Q_3$ from the first example:\n",
    "\n",
    "$$Q_1 = 9 \\\\ Q_3 = 33$$"
   ]
  },
  {
   "cell_type": "markdown",
   "metadata": {
    "slideshow": {
     "slide_type": "fragment"
    }
   },
   "source": [
    "Next, calculate the IQR:\n",
    "\n",
    "$$IQR = Q_3 - Q_1 = 33 - 9 = 24$$"
   ]
  },
  {
   "cell_type": "markdown",
   "metadata": {
    "slideshow": {
     "slide_type": "fragment"
    }
   },
   "source": [
    "Multiply by 1.5:\n",
    "\n",
    "$$1.5 \\cdot IQR = 1.5 \\cdot 24 = 36$$"
   ]
  },
  {
   "cell_type": "markdown",
   "metadata": {
    "slideshow": {
     "slide_type": "fragment"
    }
   },
   "source": [
    "Add and subtract with $Q_3$ and $Q_1$, respectively:\n",
    "\n",
    "$$Q_1 - 1.5 \\cdot IQR = 9 - 36 = - 27 \\\\ Q_3 + 1.5 \\cdot IQR = 33 + 36 = 69$$\n",
    "\n",
    "* Since there are no negative values (and negative values have no meaning in the context of the data), we clearly do not have any unusually small values (no values less than $-27$)\n",
    "\n",
    "* However, since $104 > 69$, $\\boxed{104 \\text{ is an outlier}}$ and $104$ is considered unusually large"
   ]
  },
  {
   "cell_type": "markdown",
   "metadata": {
    "slideshow": {
     "slide_type": "fragment"
    }
   },
   "source": [
    "##### Example 4\n",
    "\n",
    "Find the quartiles, interquartile range, and identify any outliers for the following data.\n",
    "\n",
    "|||||||||||\n",
    "|:-:|:-:|:-:|:-:|:-:|:-:|:-:|:-:|:-:|:-:|\n",
    "|42|53|36|28|26|41|37|40|48|45|\n",
    "|19|38|36|56|43|34|52|38|50|43|"
   ]
  },
  {
   "cell_type": "markdown",
   "metadata": {
    "slideshow": {
     "slide_type": "fragment"
    }
   },
   "source": [
    "##### Solution:\n",
    "\n",
    "Using a calculator to find the quartiles:\n",
    "\n",
    "$$Q_1 = 36 \\\\ Q_2 = 40.5 \\\\ Q_3 = 46.5$$"
   ]
  },
  {
   "cell_type": "markdown",
   "metadata": {
    "slideshow": {
     "slide_type": "fragment"
    }
   },
   "source": [
    "Calculating the IQR:\n",
    "\n",
    "$$IQR = Q_3 - Q_1 = 10.5$$"
   ]
  },
  {
   "cell_type": "markdown",
   "metadata": {
    "slideshow": {
     "slide_type": "fragment"
    }
   },
   "source": [
    "Calculating the cutoff values that determine outliers:\n",
    "\n",
    "$$Q_1 - 1.5 \\cdot IQR = 20.25 \\\\ Q_3 + 1.5 \\cdot IQR = 62.25$$"
   ]
  },
  {
   "cell_type": "markdown",
   "metadata": {
    "slideshow": {
     "slide_type": "fragment"
    }
   },
   "source": [
    "Comparing cutoff values with the data set given:\n",
    "\n",
    "* There is a single value below $20.25$: $\\boxed{19 \\text{ is an outlier}}$\n",
    "* There are no values larger than $62.25$: No outliers that are unusually large\n",
    "\n",
    "The only outlier is $19$, which is unusually small."
   ]
  },
  {
   "cell_type": "markdown",
   "metadata": {
    "slideshow": {
     "slide_type": "slide"
    }
   },
   "source": [
    "##### Objective 3: How to represent a dataset graphically using a box-and-whisker plot"
   ]
  },
  {
   "cell_type": "markdown",
   "metadata": {
    "slideshow": {
     "slide_type": "fragment"
    }
   },
   "source": [
    "##### Box-and-Whisker Plot\n",
    "\n",
    "* A **box-and-whisker plot (boxplot)** is an exploratory data analysis tool that highlights the important features of a data set\n",
    "\n",
    "* To construct a box-and-whisker plot we need the **five-number summary:**\n",
    "    * **Minimum**\n",
    "    * $Q_1$\n",
    "    * $Q_2$\n",
    "    * $Q_3$\n",
    "    * **Maximum**\n",
    "\n",
    "* Determine the horizontal scale that spans the range of the data\n",
    "\n",
    "* Draw a box above the horizontal scale from $Q_1$ to $Q_3$ and then draw a vertical line in the box at $Q_2$\n",
    "\n",
    "* Draw whiskers from the box to the minimum and maximum entries"
   ]
  },
  {
   "cell_type": "markdown",
   "metadata": {
    "slideshow": {
     "slide_type": "fragment"
    }
   },
   "source": [
    "##### Example 5\n",
    "\n",
    "Construct a boxplot for the data set given in Example 1.\n",
    "\n",
    "|||||||||\n",
    "|:-:|:-:|:-:|:-:|:-:|:-:|:-:|:-:|\n",
    "|7|20|16|6|58|9|20|50|\n",
    "|23|33|8|10|15|16|104||"
   ]
  },
  {
   "cell_type": "markdown",
   "metadata": {
    "slideshow": {
     "slide_type": "fragment"
    }
   },
   "source": [
    "##### Solution:"
   ]
  },
  {
   "cell_type": "code",
   "execution_count": 1,
   "metadata": {
    "slideshow": {
     "slide_type": "fragment"
    }
   },
   "outputs": [],
   "source": [
    "import warnings\n",
    "\n",
    "warnings.filterwarnings('ignore')\n",
    "\n",
    "import numpy as np\n",
    "import matplotlib.pyplot as plt\n",
    "import seaborn as sns\n",
    "%matplotlib inline\n",
    "\n",
    "plt.style.use('fivethirtyeight')"
   ]
  },
  {
   "cell_type": "code",
   "execution_count": 2,
   "metadata": {
    "slideshow": {
     "slide_type": "fragment"
    }
   },
   "outputs": [
    {
     "data": {
      "text/plain": [
       "Text(0.5, 1.0, 'Box-and-Whisker Plot')"
      ]
     },
     "execution_count": 2,
     "metadata": {},
     "output_type": "execute_result"
    },
    {
     "data": {
      "image/png": "[encoded data removed]",
      "text/plain": [
       "<Figure size 1800x720 with 1 Axes>"
      ]
     },
     "metadata": {},
     "output_type": "display_data"
    }
   ],
   "source": [
    "data = [7,20,16,6,58,9,20,50,23,33,8,10,15,16,104]\n",
    "\n",
    "fig, ax = plt.subplots(figsize=(25,10))\n",
    "\n",
    "ax.boxplot(data,vert=False, whiskerprops=dict(lw=5), boxprops=dict(lw=5),\n",
    "           medianprops=dict(lw=5), capprops=dict(lw=5),\n",
    "           flierprops=dict(markersize=15,markerfacecolor='red'), whis=2)\n",
    "\n",
    "ax.set_xticks(np.array([min(data),np.quantile(data,0.25),\n",
    "              np.quantile(data,0.5),np.quantile(data,0.75), max(data)]))         \n",
    "ax.set_xticklabels(['Min $=$ ' + str(min(data)),\n",
    "                    '$Q_1 = 9$','$Q_2 = 16$',\n",
    "                    '$Q_3 = 33$', 'Max $=$ ' + str(max(data))],\n",
    "                   rotation = 90, fontsize = 25)\n",
    "ax.set_title('Box-and-Whisker Plot', fontsize = 35)"
   ]
  },
  {
   "cell_type": "markdown",
   "metadata": {
    "slideshow": {
     "slide_type": "slide"
    }
   },
   "source": [
    "##### Objective 4: How to find percentiles for a specific data entry"
   ]
  },
  {
   "cell_type": "markdown",
   "metadata": {
    "slideshow": {
     "slide_type": "fragment"
    }
   },
   "source": [
    "##### Percentiles and Other Fractiles\n",
    "\n",
    "<table width=\"50%\" style=\"width: 1000px\">\n",
    "    <tr>\n",
    "        <th>Fractiles</th>\n",
    "        <th>Summary</th>\n",
    "        <th>Symbols</th>\n",
    "    </tr>\n",
    "    <tr>\n",
    "        <td>Quartiles</td>\n",
    "        <td>Divide a data set into 4 equal parts</td>\n",
    "        <td>$Q_1, Q_2, Q_3$</td>\n",
    "    </tr>\n",
    "    <tr>\n",
    "        <td>Deciles</td>\n",
    "        <td>Divide a data set into 10 equal parts</td>\n",
    "        <td>$D_1, D_2, D_3, \\dots, D_9$</td>\n",
    "    </tr>\n",
    "    <tr>\n",
    "        <td>Percentiles</td>\n",
    "        <td>Divide a data set into 100 equal parts</td>\n",
    "        <td>$P_1, P_2, P_3, \\dots, P_{99}$</td>\n",
    "    </tr>\n",
    "</table>\n",
    "\n",
    "The percentile that corresponds to a specific data entry $x$ is given by $$\\text{Percentile of $x$} = \\left( \\cfrac{\\text{number of data entries less than $x$}}{\\text{total number of data entries}} \\right) \\cdot 100$$"
   ]
  },
  {
   "cell_type": "markdown",
   "metadata": {
    "slideshow": {
     "slide_type": "fragment"
    }
   },
   "source": [
    "##### Example 6\n",
    "\n",
    "Find the percentile that corresponds to $\\$30000$ for the data set given in Example 2 (tuition costs in thousands of dollars).\n",
    "\n",
    "||||||||||||||\n",
    "|:-:|:-:|:-:|:-:|:-:|:-:|:-:|:-:|:-:|:-:|:-:|:-:|:-:|\n",
    "|38|33|40|42|34|27|44|38|32|34|45|32|23|\n",
    "|46|27|23|30|27|41|22|26|45|31|26|19||"
   ]
  },
  {
   "cell_type": "markdown",
   "metadata": {
    "slideshow": {
     "slide_type": "fragment"
    }
   },
   "source": [
    "##### Solution:\n",
    "\n",
    "First we note what $\\$30000$ means in the context of the table: $\\$30000$ corresponds to a value of $30$ since the table numbers are in *thousands of dollars.*\n",
    "\n",
    "This means we need to find the number of data entries *below* $30$. There are 9 data entries that are *strictly* below $30$."
   ]
  },
  {
   "cell_type": "markdown",
   "metadata": {
    "slideshow": {
     "slide_type": "fragment"
    }
   },
   "source": [
    "Therefore,\n",
    "\n",
    "$$\\text{Percentile of $30$} = \\cfrac{\\text{number of data entries $< 30$}}{\\text{total number of data entries}} \\cdot 100 = \\cfrac{9}{25} \\cdot 100 = 36$$"
   ]
  },
  {
   "cell_type": "markdown",
   "metadata": {
    "slideshow": {
     "slide_type": "fragment"
    }
   },
   "source": [
    "So $30000$ corresponds to the $36^{\\text{th}}$ percentile or $P_{36}$. Stated as a formal mathematical statement: $$\\boxed{P_{36} = 30000}$$"
   ]
  },
  {
   "cell_type": "markdown",
   "metadata": {
    "slideshow": {
     "slide_type": "slide"
    }
   },
   "source": [
    "##### Objective 5: How to find and interpret the standard score ($z$-score)"
   ]
  },
  {
   "cell_type": "markdown",
   "metadata": {
    "slideshow": {
     "slide_type": "fragment"
    }
   },
   "source": [
    "##### The Standard Score ($z$-Score)\n",
    "\n",
    "* The **standard score ($z$-score)** is given by $$z = \\cfrac{\\text{value} - \\text{mean}}{\\text{standard deviation}} = \\cfrac{x - \\mu}{\\sigma}$$\n",
    "\n",
    "* The $z$-score represents the number of standard deviations a value $x$ lies from the mean $\\mu$\n",
    "\n",
    "* $z$-scores can be positive, negative, or zero\n",
    "    * Negative $z$-scores mean that the value $x$ is *less* than the mean ($x$ lies below the mean)\n",
    "    * Positive $z$-scores mean that the value $x$ is *greater* than the mean ($x$ lies above the mean)\n",
    "    * A $z$-score of zero means that the value $x$ is *equal* to the mean\n",
    "\n",
    "* $z$-scores relate to the Empirical Rule in the following ways:\n",
    "    * If $z < -2$ or $z > 2$, then the value $x$ is said to be *unusual*\n",
    "    * If $z < -3$ or $z > 3$, then the value $x$ is said to be *very unusual*\n",
    "    \n",
    "**Note:** The convention is to round to *two* decimal places when calculating a $z$-score (we will see why in a later chapter)"
   ]
  },
  {
   "cell_type": "markdown",
   "metadata": {
    "slideshow": {
     "slide_type": "fragment"
    }
   },
   "source": [
    "##### Example 7\n",
    "\n",
    "The mean speed of vehicles along a stretch of highway is 56 miles per hour with a standard deviation of 4 miles per hour. You measure the speeds of three cars traveling along this stretch of highway as 62 miles per hour, 47 miles per hour, and 56 miles per hour. Find the $z$-score that corresponds to each speed. Assume the distribution of the speeds is approximately bell-shaped."
   ]
  },
  {
   "cell_type": "markdown",
   "metadata": {
    "slideshow": {
     "slide_type": "fragment"
    }
   },
   "source": [
    "First, we note that we are given the accepted mean and standard deviation for the *populatin:* $\\mu = 56$ and $\\sigma = 4$"
   ]
  },
  {
   "cell_type": "markdown",
   "metadata": {
    "slideshow": {
     "slide_type": "fragment"
    }
   },
   "source": [
    "* We have three different values of $x$ to find $z$-scores for:\n",
    "    * $x = 62$\n",
    "    * $x = 47$\n",
    "    * $x = 56$"
   ]
  },
  {
   "cell_type": "markdown",
   "metadata": {
    "slideshow": {
     "slide_type": "fragment"
    }
   },
   "source": [
    "* Using the formula $z = \\cfrac{x - \\mu}{\\sigma}$ we calculate the $z$-score for each:\n",
    "    * For $x = 62$\n",
    "        * $\\boxed{z = \\cfrac{62 - 56}{4} = \\cfrac{6}{4} = 1.5}$\n",
    "            * i.e. $62$ mph lies 1.5 st dev above the mean\n",
    "            * This value is **not unusual** since $-2 < z < 2$\n",
    "    * For $x = 47$\n",
    "        * $\\boxed{z = \\cfrac{47 - 56}{4} = \\cfrac{-9}{4} = -2.25}$\n",
    "            * i.e. $47$ mph lies 2.25 st dev below the mean\n",
    "            * This value is **unusual** (unusually slow) since $z < -2$\n",
    "    * For $x = 56$\n",
    "        * $\\boxed{z = \\cfrac{56 - 56}{4} = \\cfrac{0}{4} = 0}$\n",
    "            * i.e. $56$ mph is *equal* to the mean\n",
    "            * This value is **not unusual** since $-2 < z < 2$"
   ]
  },
  {
   "cell_type": "markdown",
   "metadata": {
    "slideshow": {
     "slide_type": "slide"
    }
   },
   "source": [
    "##### End of Section"
   ]
  }
 ],
 "metadata": {
  "celltoolbar": "Slideshow",
  "kernelspec": {
   "display_name": "Python 3",
   "language": "python",
   "name": "python3"
  },
  "language_info": {
   "codemirror_mode": {
    "name": "ipython",
    "version": 3
   },
   "file_extension": ".py",
   "mimetype": "text/x-python",
   "name": "python",
   "nbconvert_exporter": "python",
   "pygments_lexer": "ipython3",
   "version": "3.7.6"
  },
  "rise": {
   "enable_chalkboard": true,
   "theme": "sky",
   "transition": "zoom",
   "width": "90%"
  }
 },
 "nbformat": 4,
 "nbformat_minor": 4
}
