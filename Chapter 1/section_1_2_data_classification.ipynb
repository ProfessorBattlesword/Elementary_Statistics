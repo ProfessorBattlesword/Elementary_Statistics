{
 "cells": [
  {
   "cell_type": "markdown",
   "metadata": {
    "slideshow": {
     "slide_type": "slide"
    }
   },
   "source": [
    "# Chapter 1: Introduction to Statistics"
   ]
  },
  {
   "cell_type": "markdown",
   "metadata": {
    "slideshow": {
     "slide_type": "slide"
    }
   },
   "source": [
    "### Section 1.2: Data Classification\n",
    "\n",
    "### Section Objectives:\n",
    "##### Objective 1: How to distinguish between qualitative data and quantitative data\n",
    "##### Objective 2: How to classify data with respect to the four levels of measurement"
   ]
  },
  {
   "cell_type": "markdown",
   "metadata": {
    "slideshow": {
     "slide_type": "slide"
    }
   },
   "source": [
    "##### Objective 1: How to distinguish between qualitative data and quantitative data"
   ]
  },
  {
   "cell_type": "markdown",
   "metadata": {
    "slideshow": {
     "slide_type": "subslide"
    }
   },
   "source": [
    "##### Definitions: Types of Data\n",
    "\n",
    "* **Qualitative data** is data that consists of attributes, labels, or nonnumerical entries (e.g. birth stone, eye color, pizza topping).\n",
    "* **Quantitative data** is data that consists of numerical measurements or counts (e.g. age, temperature, weight)."
   ]
  },
  {
   "cell_type": "markdown",
   "metadata": {
    "slideshow": {
     "slide_type": "fragment"
    }
   },
   "source": [
    "##### Example:\n",
    "\n",
    "The basic prices of several vehicles are shown in the table. Which data are qualitative data and which are quantitative data?\n",
    "\n",
    "|Model|Suggested retail price|\n",
    "|:-----:|:----------------------:|\n",
    "|Focus Sedan|\\$15,995|\n",
    "|Fusion|\\$19,270|\n",
    "|Mustang|\\$20,995|\n",
    "|Edge|\\$26,920|\n",
    "|Flex|\\$28,495|\n",
    "|Escape Hybrid|\\$32,260|\n",
    "|Expedition|\\$35,085|\n",
    "|F-450|\\$44,145|"
   ]
  },
  {
   "cell_type": "markdown",
   "metadata": {
    "slideshow": {
     "slide_type": "fragment"
    }
   },
   "source": [
    "##### Solution:\n",
    "\n",
    "|Model (qualitative data)|Suggested retail price (quantitative data)|\n",
    "|:-:|:-:|\n",
    "|Focus Sedan|\\$15,995|\n",
    "|Fusion|\\$19,270|\n",
    "|Mustang|\\$20,995|\n",
    "|Edge|\\$26,920|\n",
    "|Flex|\\$28,495|\n",
    "|Escape Hybrid|\\$32,260|\n",
    "|Expedition|\\$35,085|\n",
    "|F-450|\\$44,145|\n",
    "\n",
    "* The names of vehicle models are nonnumerical entries $\\rightarrow$ left column consists of qualitative data\n",
    "* The suggested retail prices are numerical entries $\\rightarrow$ right column consists of quantitative data"
   ]
  },
  {
   "cell_type": "markdown",
   "metadata": {
    "slideshow": {
     "slide_type": "slide"
    }
   },
   "source": [
    "##### Objective 2: How to classify data with respect to the four levels of measurement"
   ]
  },
  {
   "cell_type": "markdown",
   "metadata": {},
   "source": [
    "##### Four Levels of Measurement\n",
    "\n",
    "1. Nominal\n",
    "2. Ordinal\n",
    "3. Interval\n",
    "4. Ratio"
   ]
  },
  {
   "cell_type": "markdown",
   "metadata": {
    "slideshow": {
     "slide_type": "subslide"
    }
   },
   "source": [
    "##### Levels of Measurement\n",
    "\n",
    "1. **Nominal level of measurement** is classified as\n",
    "    * Qualitative data only\n",
    "    * Categorized using names, labels, or qualities\n",
    "    * No mathematical computations can be made\n",
    "\n",
    "2. **Ordinal level of measurement** is classified as\n",
    "    * Qualitative or quantitative data\n",
    "    * Data can be arranged in order, or ranked\n",
    "    * Differences between data entries is not meaningful"
   ]
  },
  {
   "cell_type": "markdown",
   "metadata": {
    "slideshow": {
     "slide_type": "fragment"
    }
   },
   "source": [
    "##### Example:\n",
    "\n",
    "Two data sets are shown. Which data set consists of data at the nominal level? Which data set consists of data at the ordinal level?\n",
    "\n",
    "<!-- <table> -->\n",
    "<!--     <tr><th>Table 1</th><th>Table 2</th></tr> -->\n",
    "<!-- <tr><td> -->\n",
    "        \n",
    "|Top Five TV Programs (from 5/4/09 to 5/10/09)|\n",
    "|:-|\n",
    "|1. American Idol-Wednesday|\n",
    "|2. American Idol-Tuesday|\n",
    "|3. Dancing with the Stars|\n",
    "|4. NCIS|\n",
    "|5. The Mentalist|\n",
    "\n",
    "<!-- </td><td> -->\n",
    "        \n",
    "|Network Affiliates in Pittsburgh, PA|\n",
    "|:-:|\n",
    "|WTAE (ABC)|\n",
    "|WPXI (NBC)|\n",
    "|KDKA (CBS)|\n",
    "|WPGH (FOX)|\n",
    "        \n",
    "<!-- </td></tr></table> -->"
   ]
  },
  {
   "cell_type": "markdown",
   "metadata": {
    "slideshow": {
     "slide_type": "fragment"
    }
   },
   "source": [
    "##### Solution:\n",
    "\n",
    "<!-- <table>\n",
    "    <tr><th>Table 1</th><th>Table 2</th></tr>\n",
    "    <tr><td> -->\n",
    "        \n",
    "|$\\overbrace{\\text{Top Five TV Programs (from 5/4/09 to 5/10/09)}}^{\\Large{\\text{Ordinal}}}$|\n",
    "|:-|\n",
    "|1. American Idol-Wednesday|\n",
    "|2. American Idol-Tuesday|\n",
    "|3. Dancing with the Stars|\n",
    "|4. NCIS|\n",
    "|5. The Mentalist|\n",
    "\n",
    "<!-- </td><td> -->\n",
    "        \n",
    "|$\\overbrace{\\text{Network Affiliates in Pittsburgh, PA}}^{\\Large{\\text{Nominal}}}$|\n",
    "|:-:|\n",
    "|WTAE (ABC)|\n",
    "|WPXI (NBC)|\n",
    "|KDKA (CBS)|\n",
    "|WPGH (FOX)|\n",
    "        \n",
    "<!-- </td></tr></table> -->\n",
    "\n",
    "* Table 1 lists the rank of five TV programs; the data can be ordered; the difference between ranks is not meaningful $\\rightarrow$ the table data falls under ordinal level of measurement.\n",
    "* Table 2 lists the call letters of each network affiliate; call letters are names of network affiliates $\\rightarrow$ the table data falls under the nominal level of measurement."
   ]
  },
  {
   "cell_type": "markdown",
   "metadata": {
    "slideshow": {
     "slide_type": "fragment"
    }
   },
   "source": [
    "##### Levels of Measurement\n",
    "\n",
    "3. **Interval level of measurement** is classified as\n",
    "    * Quantitative data\n",
    "    * Data can be ordered\n",
    "    * Differences between data entries is meaningful\n",
    "    * Zero represents a position on a scale (not an **inherent zero**; i.e. zero does not imply \"none\")\n",
    "4. **Ratio level of measurement** is classified as\n",
    "    * Quantitative data\n",
    "    * Data can be ordered\n",
    "    * Differences between entries is meaningful\n",
    "    * Zero entry *is* an **inherent zero** (i.e. zero implies \"none\")\n",
    "    * A meaningful ratio of two data values can be formed\n",
    "    * One data value can be expressed as a multiple of another"
   ]
  },
  {
   "cell_type": "markdown",
   "metadata": {
    "slideshow": {
     "slide_type": "fragment"
    }
   },
   "source": [
    "##### Example:\n",
    "\n",
    "Two data sets are shown. Which data set consists of data at the interval level of measurement? Which data set consists of data at the ratio level of measurement?\n",
    "\n",
    "<!-- <table>\n",
    "    <tr><th>Table 1</th><th>Table 2</th></tr>\n",
    "<tr><td width=\"20%\"> -->\n",
    "        \n",
    "|New York Yankees' World Series Victories (Years)|\n",
    "    |:-:|\n",
    "    |1923|\n",
    "    |1927|\n",
    "    |1928|\n",
    "    |1932|\n",
    "    |1936|\n",
    "    |1937|\n",
    "    |1938|\n",
    "    |1939|\n",
    "    |1941|\n",
    "    |1943|\n",
    "    |1947|\n",
    "    |1949|\n",
    "    |1950|\n",
    "    |1951|\n",
    "    |1952|\n",
    "    |1953|\n",
    "    |1956|\n",
    "    |1958|\n",
    "    |1961|\n",
    "    |1962|\n",
    "    |1977|\n",
    "    |1978|\n",
    "    |1996|\n",
    "    |1998|\n",
    "    |1999|\n",
    "    |2000|\n",
    "    |2009|\n",
    "    \n",
    "\n",
    "<!-- </td><td width=\"25%\"> -->\n",
    "        \n",
    "|2009 American League Home Run Totals (by Team)||\n",
    "    |:-:|:-:|\n",
    "    |Team|Home Runs|\n",
    "    |Baltimore|160|\n",
    "    |Boston|212|\n",
    "    |Chicago|184|\n",
    "    |Cleveland|161|\n",
    "    |Detroit|183|\n",
    "    |Kansas City|144|\n",
    "    |Los Angeles|173|\n",
    "    |Minnesota|172|\n",
    "    |New York|244|\n",
    "    |Oakland|135|\n",
    "    |Seattle|160|\n",
    "    |Tampa Bay|199|\n",
    "    |Texas|224|\n",
    "    |Toronto|209|\n",
    "        \n",
    "<!-- </td></tr></table> -->"
   ]
  },
  {
   "cell_type": "markdown",
   "metadata": {
    "slideshow": {
     "slide_type": "fragment"
    }
   },
   "source": [
    "##### Solution:\n",
    "\n",
    "<!-- <table>\n",
    "    <tr><th>Table 1</th><th>Table 2</th></tr>\n",
    "<tr><td width=\"20%\"> -->\n",
    "        \n",
    "|$\\overbrace{\\text{New York Yankees' World Series Victories (Years)}}^{\\Large{\\text{Interval}}}$|\n",
    "    |:-:|\n",
    "    |1923|\n",
    "    |1927|\n",
    "    |1928|\n",
    "    |1932|\n",
    "    |1936|\n",
    "    |1937|\n",
    "    |1938|\n",
    "    |1939|\n",
    "    |1941|\n",
    "    |1943|\n",
    "    |1947|\n",
    "    |1949|\n",
    "    |1950|\n",
    "    |1951|\n",
    "    |1952|\n",
    "    |1953|\n",
    "    |1956|\n",
    "    |1958|\n",
    "    |1961|\n",
    "    |1962|\n",
    "    |1977|\n",
    "    |1978|\n",
    "    |1996|\n",
    "    |1998|\n",
    "    |1999|\n",
    "    |2000|\n",
    "    |2009|\n",
    "    \n",
    "\n",
    "<!-- </td><td width=\"25%\"> -->\n",
    "        \n",
    "|$\\overbrace{\\text{2009 American League Home Run Totals (by Team)}}^{\\Large{\\text{Ratio}}}$||\n",
    "    |:-:|:-:|\n",
    "    |Team|Home Runs|\n",
    "    |Baltimore|160|\n",
    "    |Boston|212|\n",
    "    |Chicago|184|\n",
    "    |Cleveland|161|\n",
    "    |Detroit|183|\n",
    "    |Kansas City|144|\n",
    "    |Los Angeles|173|\n",
    "    |Minnesota|172|\n",
    "    |New York|244|\n",
    "    |Oakland|135|\n",
    "    |Seattle|160|\n",
    "    |Tampa Bay|199|\n",
    "    |Texas|224|\n",
    "    |Toronto|209|\n",
    "        \n",
    "<!-- </td></tr></table> -->\n",
    "\n",
    "* Table 1 contains quantitative data; difference between years has meaning; zero does not mean \"none\" $\\rightarrow$ the data is at the interval level of measurement.\n",
    "* Table 2 contains quantitative data; differences have meaning; zero *does* mean \"none\" $\\rightarrow$ the data is at the ratio level of measurement."
   ]
  },
  {
   "cell_type": "markdown",
   "metadata": {
    "slideshow": {
     "slide_type": "slide"
    }
   },
   "source": [
    "##### End of Section"
   ]
  }
 ],
 "metadata": {
  "celltoolbar": "Slideshow",
  "kernelspec": {
   "display_name": "Python 3",
   "language": "python",
   "name": "python3"
  },
  "language_info": {
   "codemirror_mode": {
    "name": "ipython",
    "version": 3
   },
   "file_extension": ".py",
   "mimetype": "text/x-python",
   "name": "python",
   "nbconvert_exporter": "python",
   "pygments_lexer": "ipython3",
   "version": "3.7.7"
  },
  "rise": {
   "enable_chalkboard": true,
   "theme": "sky",
   "transition": "zoom"
  }
 },
 "nbformat": 4,
 "nbformat_minor": 4
}
