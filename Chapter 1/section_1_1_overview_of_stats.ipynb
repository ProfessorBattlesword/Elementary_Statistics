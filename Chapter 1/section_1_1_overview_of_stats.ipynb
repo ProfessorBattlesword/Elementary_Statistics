{
 "cells": [
  {
   "cell_type": "markdown",
   "metadata": {
    "slideshow": {
     "slide_type": "slide"
    }
   },
   "source": [
    "# Chapter 1: Introduction to Statistics"
   ]
  },
  {
   "cell_type": "markdown",
   "metadata": {
    "slideshow": {
     "slide_type": "slide"
    }
   },
   "source": [
    "### Section 1.1: An Overview of Statistics\n",
    "\n",
    "### Section Objectives:\n",
    "##### Objective 1: The definition of statistics\n",
    "##### Objective 2: How to distinguish between a population and a sample and between a parameter and a statistic\n",
    "##### Objective 3: How to distinguish between descriptive statistics and inferential statistics"
   ]
  },
  {
   "cell_type": "markdown",
   "metadata": {
    "slideshow": {
     "slide_type": "slide"
    }
   },
   "source": [
    "##### Objective 1: The definition of statistics"
   ]
  },
  {
   "cell_type": "markdown",
   "metadata": {
    "slideshow": {
     "slide_type": "subslide"
    }
   },
   "source": [
    "##### Definition: Data\n",
    "\n",
    "**Data** consist of information coming from observations, counts, measurements, or responses.\n",
    "\n",
    "##### Examples:\n",
    "\n",
    "* The number of die rolls during a board game.\n",
    "* 63\\% of students in a class responded to a survey that they like strawberry ice cream"
   ]
  },
  {
   "cell_type": "markdown",
   "metadata": {
    "slideshow": {
     "slide_type": "fragment"
    }
   },
   "source": [
    "##### Definition: Statistics\n",
    "\n",
    "**Statistics** is the science of collecting, organizing, analyzing, and interpreting data in order to make decisions."
   ]
  },
  {
   "cell_type": "markdown",
   "metadata": {
    "slideshow": {
     "slide_type": "slide"
    }
   },
   "source": [
    "##### Objective 2: How to distinguish between a population and a sample and between a parameter and a statistic"
   ]
  },
  {
   "cell_type": "markdown",
   "metadata": {
    "slideshow": {
     "slide_type": "subslide"
    }
   },
   "source": [
    "##### Definitions: Population and Sample\n",
    "\n",
    "A **population** is the collection of *all* outcomes, responses, measurements, or counts that are of interest.\n",
    "\n",
    "A **sample** is a subset, or part, of the population."
   ]
  },
  {
   "cell_type": "markdown",
   "metadata": {
    "slideshow": {
     "slide_type": "fragment"
    }
   },
   "source": [
    "##### Example: Identifying Data Sets\n",
    "\n",
    "In a recent survey, 1500 adults in the United States were asked if they thought there was solid evidence for global warming. Eight hundred fifty-five of the adults said yes. Identify the population and the sample. Describe the data set."
   ]
  },
  {
   "cell_type": "markdown",
   "metadata": {
    "slideshow": {
     "slide_type": "fragment"
    }
   },
   "source": [
    "##### Solution:\n",
    "\n",
    "* The population consists of the responses of all adults in the U.S.\n",
    "* The sample consists of the responses of the 1500 adults in the U.S. in the survey.\n",
    "* The sample is a subset of the responses of all adults in the U.S.\n",
    "* The data set consists of 855 yes's and 645 no's."
   ]
  },
  {
   "cell_type": "markdown",
   "metadata": {
    "slideshow": {
     "slide_type": "fragment"
    }
   },
   "source": [
    "##### Definition: Parameter\n",
    "\n",
    "A **parameter** is a numerical description of a population charactersic.\n",
    "\n",
    "##### Example: Parameter\n",
    "\n",
    "The average age of all people in the United States."
   ]
  },
  {
   "cell_type": "markdown",
   "metadata": {
    "slideshow": {
     "slide_type": "fragment"
    }
   },
   "source": [
    "##### Definition: Statistic\n",
    "\n",
    "A **statistic** is a numerical description of a sample characteristic.\n",
    "\n",
    "##### Example: Statistic\n",
    "\n",
    "The average age of people from a sample of three states."
   ]
  },
  {
   "cell_type": "markdown",
   "metadata": {
    "slideshow": {
     "slide_type": "slide"
    }
   },
   "source": [
    "##### Objective 3: How to distinguish between descriptive statistics and inferential statistics"
   ]
  },
  {
   "cell_type": "markdown",
   "metadata": {
    "slideshow": {
     "slide_type": "subslide"
    }
   },
   "source": [
    "##### Branches of Statistics\n",
    "\n",
    "##### Definition: Descriptive Statistics\n",
    "\n",
    "**Descriptive statistics** is the branch of statistics that involves organizing, summarizing, and displaying data (e.g. tables, charts, averages, etc).\n",
    "\n",
    "##### Definition: Inferential Statistics\n",
    "\n",
    "**Inferential statistics** is the branch of statistics that involves using *sample data* to draw conclusions about a *population*."
   ]
  },
  {
   "cell_type": "markdown",
   "metadata": {
    "slideshow": {
     "slide_type": "fragment"
    }
   },
   "source": [
    "##### Example:\n",
    "\n",
    "Decide which part of the study represents the descriptive branch of statistics. What conclusions might be drawn from the study using inferential statistics?\n",
    "\n",
    "A large sample of men, aged 48, was studied for 18 years. For unmarried men, approximately 70\\% were alive at age 65. For married men, 90\\% were alive at age 65.\n",
    "\n",
    "<img src=\"married.png\" alt=\"Married men statistic\" style=\"width:400px;height:300px;\">"
   ]
  },
  {
   "cell_type": "markdown",
   "metadata": {
    "slideshow": {
     "slide_type": "fragment"
    }
   },
   "source": [
    "##### Solution:\n",
    "\n",
    "* Descriptive statistics involves statements such as \"For unmarried men, approximately 70\\% were alive at age 65\" and \"For married men, 90\\% were alive at 65.\"\n",
    "\n",
    "* A possible inference drawn from the study is that being married is associated with a longer life for men."
   ]
  },
  {
   "cell_type": "markdown",
   "metadata": {
    "slideshow": {
     "slide_type": "slide"
    }
   },
   "source": [
    "##### End of Section"
   ]
  }
 ],
 "metadata": {
  "celltoolbar": "Slideshow",
  "kernelspec": {
   "display_name": "Python 3",
   "language": "python",
   "name": "python3"
  },
  "language_info": {
   "codemirror_mode": {
    "name": "ipython",
    "version": 3
   },
   "file_extension": ".py",
   "mimetype": "text/x-python",
   "name": "python",
   "nbconvert_exporter": "python",
   "pygments_lexer": "ipython3",
   "version": "3.7.7"
  },
  "rise": {
   "enable_chalkboard": true,
   "theme": "sky",
   "transition": "zoom"
  }
 },
 "nbformat": 4,
 "nbformat_minor": 4
}
