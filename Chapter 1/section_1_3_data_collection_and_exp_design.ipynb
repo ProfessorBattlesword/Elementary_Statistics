{
 "cells": [
  {
   "cell_type": "markdown",
   "metadata": {
    "slideshow": {
     "slide_type": "slide"
    }
   },
   "source": [
    "# Chapter 1: Introduction to Statistics"
   ]
  },
  {
   "cell_type": "markdown",
   "metadata": {
    "slideshow": {
     "slide_type": "slide"
    }
   },
   "source": [
    "### Section 1.3: Data Collection and Experimental Design\n",
    "\n",
    "### Section Objectives:\n",
    "##### Objective 1: How to design a statistical study and how to distinguish between an observational study and an experiment\n",
    "##### Objective 2: How to collect data by using a survey or a simulation\n",
    "##### Objective 3: How to design an experiment\n",
    "##### Objective 4: How to create a sample using random sampling, simple random sampling, stratified sampling, cluster sampling, and systematic sampling"
   ]
  },
  {
   "cell_type": "markdown",
   "metadata": {
    "slideshow": {
     "slide_type": "slide"
    }
   },
   "source": [
    "##### Objective 1: How to design a statistical study and how to distinguish between an observational study and an experiment"
   ]
  },
  {
   "cell_type": "markdown",
   "metadata": {
    "slideshow": {
     "slide_type": "subslide"
    }
   },
   "source": [
    "##### Designing a Statistical Study"
   ]
  },
  {
   "cell_type": "markdown",
   "metadata": {
    "slideshow": {
     "slide_type": "fragment"
    }
   },
   "source": [
    "* Identify the variable(s) of interest (the focus) and the population of the study."
   ]
  },
  {
   "cell_type": "markdown",
   "metadata": {
    "slideshow": {
     "slide_type": "fragment"
    }
   },
   "source": [
    "* Develop a detailed plan for collecting data. *If you use a sample, make sure the sample is representative of the population*."
   ]
  },
  {
   "cell_type": "markdown",
   "metadata": {
    "slideshow": {
     "slide_type": "fragment"
    }
   },
   "source": [
    "* Collect the data"
   ]
  },
  {
   "cell_type": "markdown",
   "metadata": {
    "slideshow": {
     "slide_type": "fragment"
    }
   },
   "source": [
    "* Describe the data using descriptive statistics techniques."
   ]
  },
  {
   "cell_type": "markdown",
   "metadata": {
    "slideshow": {
     "slide_type": "fragment"
    }
   },
   "source": [
    "* Interpret the data and make decisions about the population using inferential statistics."
   ]
  },
  {
   "cell_type": "markdown",
   "metadata": {
    "slideshow": {
     "slide_type": "fragment"
    }
   },
   "source": [
    "* Identify any possible errors."
   ]
  },
  {
   "cell_type": "markdown",
   "metadata": {
    "slideshow": {
     "slide_type": "slide"
    }
   },
   "source": [
    "##### Objective 2: How to collect data by using a survey or a simulation"
   ]
  },
  {
   "cell_type": "markdown",
   "metadata": {
    "slideshow": {
     "slide_type": "subslide"
    }
   },
   "source": [
    "##### Types of Data Collection"
   ]
  },
  {
   "cell_type": "markdown",
   "metadata": {
    "slideshow": {
     "slide_type": "fragment"
    }
   },
   "source": [
    "1. Observation\n",
    "    * ##### Example:\n",
    "    Researchers observed and recorded the mouthing behavior on nonfood objects of children up to three years old.\n",
    "\n",
    "2. Experiment\n",
    "    * ##### Example:\n",
    "    An experiment was performed in which diabetics took cinnamon extract daily while a control group took none. After 40 days, the diabetics who had the cinnamon reduced their risk of heart disease while the control group experienced no change.\n",
    "    \n",
    "3. Simulation\n",
    "    * ##### Example:\n",
    "    Automobile manufacturers use simulations with dummies to study the effects of crashes on humans.\n",
    "    \n",
    "4. Survey\n",
    "    * ##### Example:\n",
    "    A survey is conducted on a sample of female physicians to determine whether the primary reason for their career choice is financial stability."
   ]
  },
  {
   "cell_type": "markdown",
   "metadata": {
    "slideshow": {
     "slide_type": "fragment"
    }
   },
   "source": [
    "##### Further Examples of Data Collection"
   ]
  },
  {
   "cell_type": "markdown",
   "metadata": {
    "slideshow": {
     "slide_type": "fragment"
    }
   },
   "source": [
    "##### Examples:\n",
    "\n",
    "Consider the following statistical studies. Which method of data collection would you use to collect data for each study?\n",
    "\n",
    "1. A study of the effect of changing flight patters on the number of airplane accidents.\n",
    "\n",
    "2. A study of the effect of eating oatmeal on lowering blood pressure.\n",
    "\n",
    "3. A study of how fourth grade students solve a puzzle.\n",
    "\n",
    "4. A study of U.S. residents approval rating of the U.S. president."
   ]
  },
  {
   "cell_type": "markdown",
   "metadata": {
    "slideshow": {
     "slide_type": "fragment"
    }
   },
   "source": [
    "##### Solutions:\n",
    "\n",
    "Consider the following statistical studies. Which method of data collection would you use to collect data for each study?\n",
    "\n",
    "1. A study of the effect of changing flight patters on the number of airplane accidents.\n",
    "    * ##### Solution:\n",
    "    Simulation (it's impractical to create this situation)\n",
    "2. A study of the effect of eating oatmeal on lowering blood pressure.\n",
    "    * ##### Solution:\n",
    "    Experiment (measure the effect of a treatment eating otatmeal)\n",
    "3. A study of how fourth grade students solve a puzzle.\n",
    "    * ##### Solution:\n",
    "    Observational study (observe and measure certain characteristics of part of a population)\n",
    "4. A study of U.S. residents approval rating of the U.S. president.\n",
    "    * ##### Solution:\n",
    "    Survey (ask \"do you approve of the way the president is handling his job?\")"
   ]
  },
  {
   "cell_type": "markdown",
   "metadata": {
    "slideshow": {
     "slide_type": "slide"
    }
   },
   "source": [
    "##### Objective 3: How to design an experiment"
   ]
  },
  {
   "cell_type": "markdown",
   "metadata": {
    "slideshow": {
     "slide_type": "subslide"
    }
   },
   "source": [
    "##### Key Elements of Experimental Design\n",
    "\n",
    "* Control\n",
    "* Randomization\n",
    "* Sample Size\n",
    "* Replication"
   ]
  },
  {
   "cell_type": "markdown",
   "metadata": {
    "slideshow": {
     "slide_type": "fragment"
    }
   },
   "source": [
    "##### Key Element: Control\n",
    "\n",
    "* You want to **control** for effects other than the one being measured.\n",
    "    * **Confounding variables** occur when an experimenter cannot tell the difference between the effects of different factors on a variable.\n",
    "        * ##### Example:\n",
    "        A coffee shop owner remodels her shop at the same time a nearby mall has its grand opening. If business at the coffee shop increases, it cannot be determined whether it is because of the remodeling or the new mall.\n",
    "    * **Pacebo effect:** a subject reacts favorably to a placebo when in fact he or she has been given no medical treatment at all.\n",
    "    * **Blinding** is a technique where the subject does not know whether he or she is receiving a treatment or a placebo.\n",
    "    * A **double-blind** experiment is a technique where neighter the subject nor the experimenter knows if the subject is receiving a treatment or a placebo."
   ]
  },
  {
   "cell_type": "markdown",
   "metadata": {
    "slideshow": {
     "slide_type": "fragment"
    }
   },
   "source": [
    "##### Key Element: Randomization\n",
    "\n",
    "* **Randomization** is the process of randomly assigning subjects to different treatment groups.\n",
    "    * **Completely randomized design** is when subjects are assigned to different treatment groups through random selection.\n",
    "    * **Randomized block design** is when subjects are divided up into blocks of similar characteristics and then the subjects are randomly assigned from within each block to treatment groups.\n",
    "        * ##### Example:\n",
    "        An experimenter testing the effects of a new weight loss drink may first divide the subjects into age categories. Then within each age group, randomly assign subjects to either the treatment group or control group.\n",
    "        <img src=\"Block_design.jpg\">\n",
    "    * **Matched-pairs design** is when subjects are paired up according to similarity. One subject in the pair is then randomly selected to receive one treatment whiile the other subject receives a different treatment."
   ]
  },
  {
   "cell_type": "markdown",
   "metadata": {
    "slideshow": {
     "slide_type": "fragment"
    }
   },
   "source": [
    "##### Key Element: Sample Size\n",
    "\n",
    "* Number of subjects in a study is very imporant to experimental design\n",
    "* Generally, bigger is better\n",
    "    * ##### Example:\n",
    "        * You conduct two surveys and find that survey 1 suggests that 50\\% of people have dark hair and survey 2 suggests that 78\\% of people have dark hair.\n",
    "        * If survey 1 only had a sample size of two people and survey 2 had a sample size of 1000 people, which is more representative of the population?\n",
    "        * Generally, *large* samples that have been *randomly* selected are better representative of population."
   ]
  },
  {
   "cell_type": "markdown",
   "metadata": {
    "slideshow": {
     "slide_type": "fragment"
    }
   },
   "source": [
    "##### Key Element: Replication\n",
    "\n",
    "* **Replication** is the repetition of an experiment using a large group of subjects.\n",
    "    * ##### Example:\n",
    "    To test a vaccine against a strain of influenza, 10,000 people are given the vaccine and another 10,000 people are given a placebo. Because of the sample size, the effectiveness of the vaccine would most likely be observed."
   ]
  },
  {
   "cell_type": "markdown",
   "metadata": {
    "slideshow": {
     "slide_type": "slide"
    }
   },
   "source": [
    "##### Objective 4: How to create a sample using random sampling, simple random sampling, stratified sampling, cluster sampling, and systematic sampling"
   ]
  },
  {
   "cell_type": "markdown",
   "metadata": {
    "slideshow": {
     "slide_type": "fragment"
    }
   },
   "source": [
    "##### Sampling Techniques\n",
    "\n",
    "* **Random sample:** every member of the population has an equal chance of being selected.\n",
    "* **Simple random sample:** every possible sample of the same size has the same chance of being selected.\n",
    "* **Stratified sample:** divide a population into groups (strata) and select a random sample from each group.\n",
    "    * ##### Example:\n",
    "    To collect a stratified sample of the number of people who live in West Ridge County households, you could divide the households into socioeconomic levels and then randomly select households from each level.\n",
    "    <img src=\"Stratified_sample.jpg\">\n",
    "* **Cluster sample:** divide the population into groups (clusters) and select all of the members in one or more, but not all, of the clusters.\n",
    "    * ##### Example:\n",
    "    Again, using the West Ridge County example, you could divide the households into clusters according to zip codes, then select all the households in one or more, but not all, zip codes.\n",
    "    <img src=\"Cluster_sample.jpg\">\n",
    "* **Systematic sample:** choose a starting value at random. Then choose every $k^{\\text{th}}$ member of the population.\n",
    "    * ##### Example:\n",
    "    In the West Ridge County example you could assign a different number to each household, randomly choose a starting number, then select every $100^{\\text{th}}$ household.\n",
    "    <img src=\"Systematic_sample.jpg\">\n",
    "* **Convenience sample:** choose only members of the population that are easy to get\n",
    "    * This often leads to biased studies and is *not recommended*.\n",
    "    * Just because a sample is convenient and easy to get does not mean the sample represents the population well.\n",
    "    * Convenience sampling should be avoided."
   ]
  },
  {
   "cell_type": "markdown",
   "metadata": {
    "slideshow": {
     "slide_type": "slide"
    }
   },
   "source": [
    "##### End of Section"
   ]
  }
 ],
 "metadata": {
  "celltoolbar": "Slideshow",
  "kernelspec": {
   "display_name": "Python 3",
   "language": "python",
   "name": "python3"
  },
  "language_info": {
   "codemirror_mode": {
    "name": "ipython",
    "version": 3
   },
   "file_extension": ".py",
   "mimetype": "text/x-python",
   "name": "python",
   "nbconvert_exporter": "python",
   "pygments_lexer": "ipython3",
   "version": "3.7.6"
  },
  "rise": {
   "enable_chalkboard": true,
   "theme": "sky",
   "transition": "zoom"
  }
 },
 "nbformat": 4,
 "nbformat_minor": 4
}
