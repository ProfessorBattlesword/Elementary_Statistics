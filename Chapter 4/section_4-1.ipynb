{
 "cells": [
  {
   "cell_type": "markdown",
   "metadata": {
    "slideshow": {
     "slide_type": "slide"
    }
   },
   "source": [
    "# Chapter 4: Discrete Probability Distributions"
   ]
  },
  {
   "cell_type": "markdown",
   "metadata": {
    "slideshow": {
     "slide_type": "slide"
    }
   },
   "source": [
    "### Section 4.1: Probability Distributions\n",
    "\n",
    "##### Objective 1: Distinguishing between discrete random variables and continuous random variables\n",
    "\n",
    "##### Definitions:\n",
    "\n",
    "<ul>\n",
    "    <li>A <em><b>random variable</b></em>, $x$, represents a numerical value associated with each outcome of a probability experiment. Here the word \"random\" indicates that $x$ is determined by chance.</li>\n",
    "    <li>A randome variable is <em><b>discrete</b></em> when it has a finite or countable number of possible outcomes that can be listed.\n",
    "        <ul>\n",
    "            <li><em><b>Finite</b></em> means that there is a fixed number of outcomes. For example, $\\{ 1,2,3,4 \\}$.</li>\n",
    "            <li><em><b>Countable</b></em> means that you can list all values out even if the set is infinite. For example, $\\{ 1,2,3,4,5, \\dots \\}$</li>\n",
    "        </ul>\n",
    "    </li>\n",
    "    <li>A random variable is <em><b>continuous</b></em> when it has an uncountable number of possible outcomes, represented by an interval on a number line. For example, <em>every</em> number (including decimals and fractions) between $0$ and $10$.</li>\n",
    "</ul>"
   ]
  },
  {
   "cell_type": "markdown",
   "metadata": {
    "slideshow": {
     "slide_type": "fragment"
    }
   },
   "source": [
    "##### Example:\n",
    "\n",
    "Determine whether the random variable $x$ is discrete or continuous.\n",
    "\n",
    "<ul>\n",
    "    <li>Let $x$ represent the number of phone calls made in a day.</li>\n",
    "    <li>Let $x$ represent the time (in hours) spent on phone calls in a day.</li>\n",
    "    <li>Let $x$ represent the heights of players on a football team.</li>\n",
    "    <li>Let $x$ represent the mass (in grams) of iron in a human body.</li>\n",
    "    <li>Let $x$ represent the cartons of milk in a grocery store.</li>\n",
    "</ul>"
   ]
  },
  {
   "cell_type": "markdown",
   "metadata": {
    "slideshow": {
     "slide_type": "fragment"
    }
   },
   "source": [
    "##### Solution:\n",
    "\n",
    "Determine whether the random variable $x$ is discrete or continuous.\n",
    "\n",
    "<ul>\n",
    "    <li>Let $x$ represent the number of phone calls made in a day.\n",
    "        <ul>\n",
    "            <li>$x$ is <em>discrete</em>.</li>\n",
    "        </ul>\n",
    "    </li>\n",
    "    <li>Let $x$ represent the time (in hours) spent on phone calls in a day.\n",
    "    <ul>\n",
    "            <li>$x$ is a <em>continuous</em></li>\n",
    "        </ul>\n",
    "    </li>\n",
    "    <li>Let $x$ represent the heights of players on a football team.\n",
    "    <ul>\n",
    "            <li>$x$ is a <em>continous</em></li>\n",
    "        </ul>\n",
    "    </li>\n",
    "    <li>Let $x$ represent the mass (in grams) of iron in a human body.\n",
    "    <ul>\n",
    "            <li>$x$ is a <em>continuous</em></li>\n",
    "        </ul>\n",
    "    </li>\n",
    "    <li>Let $x$ represent the cartons of milk in a grocery store.\n",
    "    <ul>\n",
    "            <li>$x$ is a <em>discrete</em></li>\n",
    "        </ul>\n",
    "    </li>\n",
    "</ul>"
   ]
  },
  {
   "cell_type": "markdown",
   "metadata": {
    "slideshow": {
     "slide_type": "slide"
    }
   },
   "source": [
    "##### Objective 2: Constructing and graphing a discrete probability distribution\n",
    "\n",
    "##### Definition:\n",
    "\n",
    "Each value of a <em>discrete random variable</em> can be assigned a probability. A <em><b>discrete probability distribution</b></em> lists each possible value the random variable can assume, together with its probability.\n",
    "\n",
    "##### Properties:\n",
    "\n",
    "<ul>\n",
    "    <li>For <em>ALL</em> discrete probability distributions the following must be true:\n",
    "        <ul>\n",
    "            <li>The probability of each value of the discrete random variable is between $0$ and $1$ $\\left( 0 \\le P(x) \\le 1 \\right)$.</li>\n",
    "            <li>The sum of all the probabilites in the distribution must be $1$ $\\left( \\sum_{x} P(x) = 1 \\right)$.</li>\n",
    "        </ul>\n",
    "    </li>\n",
    "</ul>"
   ]
  },
  {
   "cell_type": "markdown",
   "metadata": {
    "slideshow": {
     "slide_type": "fragment"
    }
   },
   "source": [
    "##### Constructing discrete probability distributions:\n",
    "\n",
    "<ol>\n",
    "    <li>Let $x$ represent a discrete random variable.</li>\n",
    "    <li>Make a frequency distribution for the possible outcomes.</li>\n",
    "    <li>Find the sum of the frequencies: $\\Sigma f = n$.</li>\n",
    "    <li>Find the probability of each possible outcome: $P(x) = \\frac{f}{n}$.</li>\n",
    "    <li>Check that $0 \\le P(x) \\le 1$ for each $x$ and that $\\sum_{x} P(x) = 1$.</li>\n",
    "</ol>"
   ]
  },
  {
   "cell_type": "markdown",
   "metadata": {
    "slideshow": {
     "slide_type": "fragment"
    }
   },
   "source": [
    "##### Example:\n",
    "\n",
    "An industrial psychologist administered a personality inventory test for passive-aggressive traits to $150$ employees. Each individual was given a score from $1$ to $5$, where $1$ is extremely passive and $5$ is extermely aggressive. A score of $3$ indicated neither trait. The results are shown below. Construct a probability distribution for the random variable $x$. Then graph the distribution using a histogram.\n",
    "\n",
    "<table style=\"width:50%\">\n",
    "    <tr> <th>Score, $x$</th> <th>Frequency, $f$</th> </tr>\n",
    "    <tr> <td>1</td> <td>24</td></tr>\n",
    "    <tr> <td>2</td> <td>33</td></tr>\n",
    "    <tr> <td>3</td> <td>42</td></tr>\n",
    "    <tr> <td>4</td> <td>30</td></tr>\n",
    "    <tr> <td>5</td> <td>21</td></tr>\n",
    "</table>"
   ]
  },
  {
   "cell_type": "markdown",
   "metadata": {
    "slideshow": {
     "slide_type": "fragment"
    }
   },
   "source": [
    "##### Solution:\n",
    "\n",
    "<table style=\"width:50%\">\n",
    "    <tr> <th>Score, $x$</th> <th>Frequency, $f$</th> <th>Relative Frequency, $P(x)=\\frac{f}{n}$</th> </tr>\n",
    "    <tr> <td>1</td> <td>24</td> <td>0.16</td></tr>\n",
    "    <tr> <td>2</td> <td>33</td> <td>0.22</td></tr>\n",
    "    <tr> <td>3</td> <td>42</td> <td>0.28</td></tr>\n",
    "    <tr> <td>4</td> <td>30</td> <td>0.20</td></tr>\n",
    "    <tr> <td>5</td> <td>21</td> <td>0.14</td></tr>\n",
    "</table>\n",
    "\n",
    "We can verify that this is a discrete probability distribution by observing $0 \\le P(x) \\le 1$ for <em>every</em> entry $x$ in our table and that $\\sum_{x}\\frac{f}{n} = 1$."
   ]
  },
  {
   "cell_type": "markdown",
   "metadata": {
    "slideshow": {
     "slide_type": "fragment"
    }
   },
   "source": [
    "##### Graphing the distribution:"
   ]
  },
  {
   "cell_type": "code",
   "execution_count": 1,
   "metadata": {
    "slideshow": {
     "slide_type": "fragment"
    }
   },
   "outputs": [
    {
     "data": {
      "text/plain": [
       "Text(0, 0.5, 'Relative Frequency, $P(x)$')"
      ]
     },
     "execution_count": 1,
     "metadata": {},
     "output_type": "execute_result"
    },
    {
     "data": {
      "image/png": "[encoded data removed]",
      "text/plain": [
       "<Figure size 432x288 with 1 Axes>"
      ]
     },
     "metadata": {
      "needs_background": "light"
     },
     "output_type": "display_data"
    }
   ],
   "source": [
    "import pandas as pd\n",
    "import matplotlib.pyplot as plt\n",
    "%matplotlib inline\n",
    "\n",
    "discrete_df = pd.DataFrame({'Score': [1,2,3,4,5],\n",
    "                            'Frequency': [24,33,42,30,21], \n",
    "                            'Relative Frequency': [0.16,0.22,0.28,0.20,0.14]})\n",
    "\n",
    "fig, ax = plt.subplots()\n",
    "ax.bar(discrete_df['Score'],discrete_df['Relative Frequency'],1,edgecolor='black')\n",
    "ax.set_title('Passive-Aggressive Traits')\n",
    "ax.set_xlabel('Score, $x$')\n",
    "ax.set_ylabel('Relative Frequency, $P(x)$')"
   ]
  },
  {
   "cell_type": "markdown",
   "metadata": {
    "slideshow": {
     "slide_type": "slide"
    }
   },
   "source": [
    "##### Objective 3: Determining whether a distribution is a probability distribution\n",
    "\n",
    "##### Example:\n",
    "\n",
    "Determine if the following is a probability distribution.\n",
    "\n",
    "<table>\n",
    "    <tr><th>$x$</th> <td>5</td> <td>6</td> <td>7</td> <td>8</td></tr>\n",
    "    <tr><th>$P(x)$</th> <td>0.28</td> <td>0.21</td> <td>0.43</td> <td>0.15</td></tr>\n",
    "</table>"
   ]
  },
  {
   "cell_type": "markdown",
   "metadata": {
    "slideshow": {
     "slide_type": "fragment"
    }
   },
   "source": [
    "##### Solution:\n",
    "\n",
    "<table>\n",
    "    <tr><th>$x$</th> <td>5</td> <td>6</td> <td>7</td> <td>8</td> <td></td></tr>\n",
    "    <tr><th>$P(x)$</th> <td>0.28</td> <td>0.21</td> <td>0.43</td> <td>0.15</td><td>$\\sum_{x} P(x) = 1.07 \\ne 1$</td></tr>\n",
    "</table>\n",
    "\n",
    "The sum of all relative frequencies is NOT equal to 1 $\\left( \\sum_{x} \\frac{f}{n} \\ne 1 \\right)$, so this is NOT a probability distribution."
   ]
  },
  {
   "cell_type": "markdown",
   "metadata": {
    "slideshow": {
     "slide_type": "fragment"
    }
   },
   "source": [
    "##### Example:\n",
    "\n",
    "Determine if the following is a probability distribution.\n",
    "\n",
    "<table>\n",
    "    <tr><th>$x$</th> <td>1</td> <td>2</td> <td>3</td> <td>4</td></tr>\n",
    "    <tr><th>$P(x)$</th> <td>$\\frac{1}{16}$</td> <td>$\\frac{5}{8}$</td> <td>$\\frac{1}{4}$</td> <td>$\\frac{1}{16}$</td></tr>\n",
    "</table>"
   ]
  },
  {
   "cell_type": "markdown",
   "metadata": {
    "slideshow": {
     "slide_type": "fragment"
    }
   },
   "source": [
    "##### Solution:\n",
    "\n",
    "<table>\n",
    "    <tr><th>$x$</th> <td>1</td> <td>2</td> <td>3</td> <td>4</td> <td></td></tr>\n",
    "    <tr><th>$P(x)$</th> <td>$\\frac{1}{16}$</td> <td>$\\frac{5}{8}$</td> <td>$\\frac{1}{4}$</td> <td>$\\frac{1}{16}$</td> <td>$\\sum_{x} P(x) = 1$</td></tr>\n",
    "</table>\n",
    "\n",
    "All relative frequencies, $P(x)$, are between 0 and 1 $\\left( 0 \\le P(x) \\le 1 \\right)$. The sum of all relative frequencies is equal to 1 $\\left( \\sum_{x} P(x) = 1 \\right)$. Since both of these properties are satisfied, this is a probability distribution."
   ]
  },
  {
   "cell_type": "markdown",
   "metadata": {
    "slideshow": {
     "slide_type": "fragment"
    }
   },
   "source": [
    "##### Example:\n",
    "\n",
    "Determine if the following is a probability distribution.\n",
    "\n",
    "<table>\n",
    "    <tr><th>$x$</th> <td>1</td> <td>2</td> <td>3</td> <td>4</td></tr>\n",
    "    <tr><th>$P(x)$</th> <td>$\\frac{1}{2}$</td> <td>$\\frac{1}{4}$</td> <td>$\\frac{5}{4}$</td> <td>$-1$</td></tr>\n",
    "</table>"
   ]
  },
  {
   "cell_type": "markdown",
   "metadata": {
    "slideshow": {
     "slide_type": "fragment"
    }
   },
   "source": [
    "##### Solution:\n",
    "\n",
    "<table>\n",
    "    <tr><th>$x$</th> <td>1</td> <td>2</td> <td>3</td> <td>4</td> <td></td></tr>\n",
    "    <tr><th>$P(x)$</th> <td>$\\frac{1}{2}$</td> <td>$\\frac{1}{4}$</td> <td>$\\frac{5}{4}$</td> <td>$-1$</td> <td>$\\sum_{x} P(x) = 1$</td></tr>\n",
    "</table>\n",
    "\n",
    "Although the sum of the relative frequencies is 1, there are a couple of issues with this distribution. For $x=3$ we have $P(x) = \\frac{5}{4} > 1$ (probabilities can't be larger than 1). Also, for $x=4$ we have $P(x) = -1$ (probabilities can't be negative). So this distribution is NOT a probability distribution."
   ]
  },
  {
   "cell_type": "markdown",
   "metadata": {
    "slideshow": {
     "slide_type": "slide"
    }
   },
   "source": [
    "##### Objective 4: Find the mean, variance, and standard deviation of a discrete probability distribution\n",
    "\n",
    "##### Definition:\n",
    "\n",
    "The <em><b>mean</b></em> of a discrete random variable is given by $\\mu = \\sum_{x} \\left( x \\cdot P(x) \\right)$. We use the greek letter, $\\mu$, here since ALL probability distributions consist of a population."
   ]
  },
  {
   "cell_type": "markdown",
   "metadata": {
    "slideshow": {
     "slide_type": "fragment"
    }
   },
   "source": [
    "##### Example:\n",
    "\n",
    "Find the mean score for the probability distribution for the personality inventory test for passive-aggressive traits (table taken from previous example).\n",
    "\n",
    "<table style=\"width:50%\">\n",
    "    <tr> <th>Score, $x$</th> <th>Frequency, $f$</th> <th>Relative Frequency, $P(x)=\\frac{f}{n}$</th> </tr>\n",
    "    <tr> <td>1</td> <td>24</td> <td>0.16</td></tr>\n",
    "    <tr> <td>2</td> <td>33</td> <td>0.22</td></tr>\n",
    "    <tr> <td>3</td> <td>42</td> <td>0.28</td></tr>\n",
    "    <tr> <td>4</td> <td>30</td> <td>0.20</td></tr>\n",
    "    <tr> <td>5</td> <td>21</td> <td>0.14</td></tr>\n",
    "</table>"
   ]
  },
  {
   "cell_type": "markdown",
   "metadata": {
    "slideshow": {
     "slide_type": "fragment"
    }
   },
   "source": [
    "##### Solution:\n",
    "\n",
    "<table style=\"width:100%\">\n",
    "    <tr> <th>Score, $x$</th> <th>Frequency, $f$</th> <th>Relative Frequency, $P(x)=\\frac{f}{n}$</th> <th>$x \\cdot P(x)$</th> </tr>\n",
    "    <tr> <td>1</td> <td>24</td> <td>0.16</td> <td>0.16</td> </tr>\n",
    "    <tr> <td>2</td> <td>33</td> <td>0.22</td> <td>0.44</td> </tr>\n",
    "    <tr> <td>3</td> <td>42</td> <td>0.28</td> <td>0.84</td> </tr>\n",
    "    <tr> <td>4</td> <td>30</td> <td>0.20</td> <td>0.80</td> </tr>\n",
    "    <tr> <td>5</td> <td>21</td> <td>0.14</td> <td>0.70</td> </tr>\n",
    "    <tr> <td></td> <td></td> <td></td> <td>$\\sum_{x} x \\cdot P(x)  = 2.94$</td> </tr>\n",
    "</table>\n",
    "\n",
    "So the mean is $\\mu = 2.94 \\approx 2.9$."
   ]
  },
  {
   "cell_type": "markdown",
   "metadata": {
    "slideshow": {
     "slide_type": "fragment"
    }
   },
   "source": [
    "In your calculator:\n",
    "\n",
    "1. Enter the list for your random variable, $x$.\n",
    "2. Enter the list for your relative frequency, $P(x)$.\n",
    "3. Find the <em>weighted mean</em> with the frequency list the same as the $P(x)$."
   ]
  },
  {
   "cell_type": "markdown",
   "metadata": {
    "slideshow": {
     "slide_type": "fragment"
    }
   },
   "source": [
    "##### Definitions:\n",
    "\n",
    "The <em><b>variance</b></em> of a discrete random variable is given by $\\sigma^2 = \\sum_{x} \\left( \\left( x - \\mu \\right)^2 \\cdot P(x) \\right)$.\n",
    "\n",
    "The <em><b>standard deviation</b></em> of a deiscrete random variable is given by $\\sigma = \\sqrt{\\sigma^2} = \\sqrt{\\sum{\\left( x-\\mu \\right)^2 \\cdot P(x)}}$."
   ]
  },
  {
   "cell_type": "markdown",
   "metadata": {
    "slideshow": {
     "slide_type": "fragment"
    }
   },
   "source": [
    "##### Example:\n",
    "\n",
    "Find the variance and standard deviation of the probability distribution for personality inventory test for passive-aggressive traits (table from previous example):\n",
    "\n",
    "<table style=\"width:50%\">\n",
    "    <tr> <th>Score, $x$</th> <th>Frequency, $f$</th> <th>Relative Frequency, $\\frac{f}{n}$</th> </tr>\n",
    "    <tr> <td>1</td> <td>24</td> <td>0.16</td></tr>\n",
    "    <tr> <td>2</td> <td>33</td> <td>0.22</td></tr>\n",
    "    <tr> <td>3</td> <td>42</td> <td>0.28</td></tr>\n",
    "    <tr> <td>4</td> <td>30</td> <td>0.20</td></tr>\n",
    "    <tr> <td>5</td> <td>21</td> <td>0.14</td></tr>\n",
    "</table>"
   ]
  },
  {
   "cell_type": "markdown",
   "metadata": {
    "slideshow": {
     "slide_type": "fragment"
    }
   },
   "source": [
    "##### Solution:\n",
    "\n",
    "In your calculator, you can use similar steps as that used to find the mean, but use the standard deviation listed in the stats summary.\n",
    "\n",
    "The calculator will use the formula above to find the standard deviation and then you can square that result if the variance is needed.\n",
    "\n",
    "Standard Deviation: $\\sigma = 1.271377206 \\approx 1.3$\n",
    "\n",
    "Variance: $\\sigma^2 = 1.6164 \\approx 1.6$"
   ]
  },
  {
   "cell_type": "markdown",
   "metadata": {
    "slideshow": {
     "slide_type": "slide"
    }
   },
   "source": [
    "##### Objective 5: Finding the expected value of a discrete probability distribution\n",
    "\n",
    "##### Definition:\n",
    "\n",
    "The <em><b>expected value</b></em> of a discrete random variable is its mean. That is, the expected value is given by $E(x) = \\mu = \\sum_{x}{\\left( x \\cdot P(x) \\right)}$. This is the value that you can expect to occur <em>on average</em> as more and more trials of a probability experiment  occurs."
   ]
  },
  {
   "cell_type": "markdown",
   "metadata": {
    "slideshow": {
     "slide_type": "fragment"
    }
   },
   "source": [
    "##### Example:\n",
    "\n",
    "At a raffle, 1500 tickets are sold at $\\$2$ each for four prizes of $\\$500$, $\\$250$, $\\$150$, and $\\$75$. You buy one ticket. What is the expected value of your <em>gain</em>?"
   ]
  },
  {
   "cell_type": "markdown",
   "metadata": {
    "slideshow": {
     "slide_type": "fragment"
    }
   },
   "source": [
    "##### Solution:\n",
    "\n",
    "First, create a discrete probability distribution.\n",
    "\n",
    "Note that you have a grand total of <em>five</em> possible outcomes in this scenario: you buy a ticket (at a cost of $\\$2$) and then win a prize of $\\$500$. So your <em>net gain</em> in this particular outcome would be $\\$500 - \\$2 = \\$498$. Similarly, for the other three prizes you would have a net gain of $\\$248, \\$148$, or $\\$73$. These are four of our five possibilities. The final possibility is that we don't win anything: we lose $\\$2$. Said another way, we have a net gain of $-\\$2$. Each of these outcomes has some probability associated with it. In each case of winning a prize, there is precisely one way to obtain that dollar amount out of a total of 1500 (1500 raffle tickets sold). And there are $1500 - 4 = 1496$ ways to lose out of a total of 1500."
   ]
  },
  {
   "cell_type": "markdown",
   "metadata": {
    "slideshow": {
     "slide_type": "fragment"
    }
   },
   "source": [
    "Putting all of this info into a table:\n",
    "\n",
    "<table>\n",
    "    <tr><th>$x$</th> <td>498</td> <td>248</td> <td>148</td> <td>73</td> <td>-2</td></tr>\n",
    "    <tr><th>$P(x)$</th> <td>$\\frac{1}{1500}$</td> <td>$\\frac{1}{1500}$</td> <td>$\\frac{1}{1500}$</td> <td>$\\frac{1}{1500}$</td> <td>$\\frac{1496}{1500}$</td></tr>\n",
    "</table>\n",
    "\n",
    "Finding the expected value of this probability distribution (weighted mean), we get $E(x) = \\mu = -1.35$. Or in other words, you can expect to lose $\\$1.35$ per raffle round (on average). If you were to participate in the same raffle 100 times, $\\left( 100 \\cdot -\\$1.35 = -\\$135\\right)$, you'd expect to lose about $\\$135$. Therefore, it's not in your best interest to participate in the raffle."
   ]
  },
  {
   "cell_type": "markdown",
   "metadata": {
    "slideshow": {
     "slide_type": "fragment"
    }
   },
   "source": [
    "##### Example:\n",
    "\n",
    "In American roulette, the wheel has the 38 numbers, $00, 0, 1, 2,\\dots, 34, 35, 36$, marked on equally spaced slots. If a player bets $\\$1$ on a number and wins, then the player <em>keeps the dollar</em> and receives an <em>additional</em> $\\$35$. Otherwise, the dollar is lost. Find the expected net gain to the player for one play of the game."
   ]
  },
  {
   "cell_type": "markdown",
   "metadata": {
    "slideshow": {
     "slide_type": "fragment"
    }
   },
   "source": [
    "##### Solution:\n",
    "\n",
    "First, construct a discrete probability distribution.\n",
    "\n",
    "How many possible outcomes do we have in terms of gaining/losing money?\n",
    "1. The roulette wheel could land on the winning number, in which case, we get our dollar back and then gain $\\$35$. This only happens if the <em>one</em> number we bet on is selected though. So we have a probability of $\\frac{1}{38}$ for a gain of $\\$35$.\n",
    "2. For all other outcomes, we lose our dollar. This means that we have 37 ways to lose the game and, as a result, lose our dollar. So this outcome has a probability of $\\frac{37}{38}$."
   ]
  },
  {
   "cell_type": "markdown",
   "metadata": {
    "slideshow": {
     "slide_type": "fragment"
    }
   },
   "source": [
    "The probability distribution will therefore look like this (a very simple table):\n",
    "\n",
    "<table>\n",
    "    <tr><th>$x$</th> <td>35</td> <td>-1</td> </tr>\n",
    "    <tr><th>$P(x)$</th> <td>$\\frac{1}{38}$</td> <td>$\\frac{37}{38}$</td> </tr>\n",
    "</table>\n",
    "\n",
    "Finding the expected value (weighted mean): $E(x) = \\mu = 35 \n",
    "\\cdot \\frac{1}{38} + (-1) \\cdot \\frac{37}{38} \\approx -0.05$. So we can expect to lose $\\$0.05$ per game on average."
   ]
  },
  {
   "cell_type": "markdown",
   "metadata": {
    "slideshow": {
     "slide_type": "fragment"
    }
   },
   "source": [
    "##### Example:\n",
    "\n",
    "I ask you to play the following game. You draw two cards (without replacement) from a standard deck of 52 playing cards. If you get two kings, I pay you $\\$500$. If you draw two aces, I pay you $\\$1000$. If you draw any two cards of the same suite, you give me $\\$25$. If you draw any other combination of cards, the game is declared a draw and no payments are made at all. Should you play this game? Should I play this game? How much would you expect to win or lose if you played this game 1000 times?"
   ]
  },
  {
   "cell_type": "markdown",
   "metadata": {
    "slideshow": {
     "slide_type": "fragment"
    }
   },
   "source": [
    "Construct the probability distribution.\n",
    "\n",
    "What are the outcomes in terms of gaining/losing?\n",
    "1. You draw two kings (and gain $\\$500$).\n",
    "2. You draw two aces (and gain $\\$1000$).\n",
    "3. You draw two of the same suite (and lose $\\$25$).\n",
    "4. The game ends in a draw (no gain or loss)."
   ]
  },
  {
   "cell_type": "markdown",
   "metadata": {
    "slideshow": {
     "slide_type": "fragment"
    }
   },
   "source": [
    "For event 1, the probability is\n",
    "\n",
    "\\begin{eqnarray}\n",
    "\\nonumber P(\\mbox{king, and then king}) & = & P(\\mbox{king}) \\cdot P(\\mbox{king | king}) \\\\\n",
    "\\nonumber & = & \\frac{4}{52} \\cdot \\frac{3}{51} \\\\\n",
    "\\nonumber & = & \\frac{1}{221}\n",
    "\\end{eqnarray}"
   ]
  },
  {
   "cell_type": "markdown",
   "metadata": {
    "slideshow": {
     "slide_type": "fragment"
    }
   },
   "source": [
    "For event 2, the probability is\n",
    "\n",
    "\\begin{eqnarray}\n",
    "\\nonumber P(\\mbox{ace, and then ace}) & = & P(\\mbox{ace}) \\cdot P(\\mbox{ace | ace}) \\\\\n",
    "\\nonumber & = & \\frac{4}{52} \\cdot \\frac{3}{51} \\\\\n",
    "\\nonumber & = & \\frac{1}{221}\n",
    "\\end{eqnarray}"
   ]
  },
  {
   "cell_type": "markdown",
   "metadata": {
    "slideshow": {
     "slide_type": "fragment"
    }
   },
   "source": [
    "For event 3, the probability is\n",
    "\\begin{eqnarray}\n",
    "\\nonumber P(\\mbox{both same suite}) & = & P(\\mbox{card with suite}) \\cdot P(\\mbox{same suite}) \\\\\n",
    "\\nonumber & = & 1 \\cdot \\frac{12}{51} \\\\\n",
    "\\nonumber & = & \\frac{4}{17}\n",
    "\\end{eqnarray}"
   ]
  },
  {
   "cell_type": "markdown",
   "metadata": {
    "slideshow": {
     "slide_type": "fragment"
    }
   },
   "source": [
    "For event 4, the probability is that none of the above occur. Or said a different way, it's the complement of $P(\\mbox{1 or 2 or 3})$ (the probability of events 1,2, or 3). Since events 1 through 3 are mutually exclusive,\n",
    "\n",
    "\\begin{eqnarray}\n",
    "\\nonumber P(\\mbox{1 or 2 or 3}) & = & P(\\mbox{1}) + P(\\mbox{2}) + P(\\mbox{3}) \\\\\n",
    "\\nonumber & = & \\frac{1}{221} + \\frac{1}{221} + \\frac{4}{17}= \\frac{54}{221}\n",
    "\\end{eqnarray}\n",
    "\n",
    "$P(4) = 1 - \\frac{54}{221} = \\frac{167}{221}$"
   ]
  },
  {
   "cell_type": "markdown",
   "metadata": {
    "slideshow": {
     "slide_type": "fragment"
    }
   },
   "source": [
    "Our probability table looks something like this:\n",
    "\n",
    "<table>\n",
    "    <tr><th>$x$</th> <td>500</td> <td>1000</td> <td>-25</td> <td>0</td\n",
    "    </tr>\n",
    "    <tr><th>$P(x)$</th> <td>$\\frac{1}{221}$</td> <td>$\\frac{1}{221}$</td> <td>$\\frac{4}{17}$</td> <td>$\\frac{167}{221}$</td>\n",
    "    </tr>\n",
    "</table>\n",
    "    \n",
    "So the expected value is $E(x) = 500 \\cdot \\frac{1}{221} + 1000 \\cdot \\frac{1}{221} + (-25) \\cdot \\frac{4}{17} + 0 \\cdot \\frac{167}{221} \\approx \\$0.90$.\n",
    "\n",
    "This result is <em>positive</em> for <em>you</em>, which must mean it's the exact opposite for me! This means you most certainly should play this game if I were to offer to play. However, since I would be expected to lose $\\$0.90$ on average per game we play, I would not offer to play this game. After all, I would be expected to pay you roughtly $1000 \\cdot \\$0.90 = \\$900$ if we played 1000 times! I think I'll pass..."
   ]
  }
 ],
 "metadata": {
  "celltoolbar": "Slideshow",
  "kernelspec": {
   "display_name": "Python 3",
   "language": "python",
   "name": "python3"
  },
  "language_info": {
   "codemirror_mode": {
    "name": "ipython",
    "version": 3
   },
   "file_extension": ".py",
   "mimetype": "text/x-python",
   "name": "python",
   "nbconvert_exporter": "python",
   "pygments_lexer": "ipython3",
   "version": "3.7.4"
  },
  "rise": {
   "enable_chalkboard": true,
   "theme": "sky",
   "transition": "zoom"
  }
 },
 "nbformat": 4,
 "nbformat_minor": 2
}
