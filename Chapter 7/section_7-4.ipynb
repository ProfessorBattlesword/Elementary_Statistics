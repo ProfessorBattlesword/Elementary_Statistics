{
 "cells": [
  {
   "cell_type": "markdown",
   "metadata": {
    "slideshow": {
     "slide_type": "slide"
    }
   },
   "source": [
    "# Chapter 7: Hypothesis Testing"
   ]
  },
  {
   "cell_type": "markdown",
   "metadata": {
    "slideshow": {
     "slide_type": "slide"
    }
   },
   "source": [
    "### Section 7.4: Hypothesis Testing About a Population Proportion"
   ]
  },
  {
   "cell_type": "markdown",
   "metadata": {
    "slideshow": {
     "slide_type": "fragment"
    }
   },
   "source": [
    "##### Objective 1: Using the $z$-Test to Test a Population Proportion $p$"
   ]
  },
  {
   "cell_type": "markdown",
   "metadata": {
    "slideshow": {
     "slide_type": "fragment"
    }
   },
   "source": [
    "##### Definitions:\n",
    "\n",
    "The <em><b>$z$-test for a proportion, $p$,</b></em> is a statistical test for a population proportion.\n",
    "\n",
    "The $z$-test can be used when a binomial distribution is given such that $np \\geq 5$ and $nq \\geq 5$ (recall that $q = 1- p$).\n",
    "\n",
    "The <em><b>test statistic</b></em> is the sample proportion, $\\hat{p}$, and the <em><b>standardized test statistic</b></em> is given by \n",
    "\n",
    "$$z = \\frac{\\hat{p} - p}{\\sqrt{\\frac{pq}{n}}}$$"
   ]
  },
  {
   "cell_type": "markdown",
   "metadata": {
    "slideshow": {
     "slide_type": "fragment"
    }
   },
   "source": [
    "##### Steps for Using a $z$-Test for a Proportion $p$\n",
    "\n",
    "1. Verify that the sampling distribution of $\\hat{p}$ can be approximated by a normal distribution ($np \\geq 5$ and $nq \\geq 5$).\n",
    "2. State the claim mathematically and verbally and identify the null and alternative hypotheses.\n",
    "3. Specify the level of significance, $\\alpha$.\n",
    "4. Determine the critical value(s) (use the standard normal table and the appropriate tailed test).\n",
    "5. Determine the rejection region(s).\n",
    "6. Find the standardized test statistic $\\left( z = \\frac{\\hat{p} - p}{\\sqrt{\\frac{pq}{n}}} \\right)$.\n",
    "7. Make a deicision to reject or fail to reject the null hypothesis.\n",
    "8. Interpret the decision in the context of the original claim."
   ]
  },
  {
   "cell_type": "markdown",
   "metadata": {
    "slideshow": {
     "slide_type": "fragment"
    }
   },
   "source": [
    "##### Example:\n",
    "\n",
    "A researcher claims that less than $40\\%$ of U.S. cell phone owners use their phone for most of their online browsing. In a random sample of 100 adults, $31\\%$ say they use their phone for most of their online browsing. At $\\alpha = 0.01$, is there enough evidence to support the researcher's claim?"
   ]
  },
  {
   "cell_type": "markdown",
   "metadata": {
    "slideshow": {
     "slide_type": "fragment"
    }
   },
   "source": [
    "##### Solution:\n",
    "\n",
    "1. We have a random sample that is of size $n = 100 \\geq 30$ and the claim is related to the proportion $p = 0.40 \\Rightarrow np = 100 \\cdot 0.40 = 40 \\geq 5$ and $nq = 100 \\cdot 0.60 = 60 \\geq 5$, so we can use the normal ditribution."
   ]
  },
  {
   "cell_type": "markdown",
   "metadata": {
    "slideshow": {
     "slide_type": "fragment"
    }
   },
   "source": [
    "2. The hypotheses are\n",
    "\n",
    "\\begin{eqnarray}\n",
    "\\nonumber H_0: p & \\geq & 0.40 \\\\\n",
    "\\nonumber H_a: p & < & 0.40 \\; \\text{(claim)}\n",
    "\\end{eqnarray}\n",
    "\n",
    "So this is a left-tailed test."
   ]
  },
  {
   "cell_type": "markdown",
   "metadata": {
    "slideshow": {
     "slide_type": "fragment"
    }
   },
   "source": [
    "3. The level of significance is given: $\\alpha = 0.01$."
   ]
  },
  {
   "cell_type": "markdown",
   "metadata": {
    "slideshow": {
     "slide_type": "fragment"
    }
   },
   "source": [
    "4. Note that this is a <em>left-tailed test</em> $\\Rightarrow$ to find $z_0$ we know that $A_{left} = 0.01 \\Rightarrow z_0 = -2.33$."
   ]
  },
  {
   "cell_type": "markdown",
   "metadata": {
    "slideshow": {
     "slide_type": "fragment"
    }
   },
   "source": [
    "5. Since we are dealing with a left-tailed test the rejection region is all $z$ values to the left (less than) $z_0 = -2.33$. So if our standardized test statistic is in the region we reject $H_0$. If our standardized test statistic is <em>above</em> the critical number, we <em>do not</em> reject $H_0$.\n",
    "\n",
    "Summarizing:\n",
    "\n",
    "$$\\text{Rejection region: } z < -2.33$$"
   ]
  },
  {
   "cell_type": "markdown",
   "metadata": {
    "slideshow": {
     "slide_type": "fragment"
    }
   },
   "source": [
    "6. Now we calculate the standardized test statistic noting that our <em>sample</em> has a proportion of $\\hat{p} = 0.31$:\n",
    "\n",
    "$$z = \\frac{\\hat{p} - p}{\\sqrt{\\frac{pq}{n}}} = \\frac{0.31-0.40}{\\sqrt{\\frac{0.40 \\cdot 0.60}{100}}} \\approx -1.84$$"
   ]
  },
  {
   "cell_type": "markdown",
   "metadata": {
    "slideshow": {
     "slide_type": "fragment"
    }
   },
   "source": [
    "7. Since $z = -1.84 > -2.33 = z_0$, we <em>do not reject</em> $H_0$."
   ]
  },
  {
   "cell_type": "markdown",
   "metadata": {
    "slideshow": {
     "slide_type": "fragment"
    }
   },
   "source": [
    "8. Interpretation: There is <u>not enough</u> evidence at the $1\\%$ level of significance to <u>support</u> the researcher's claim that less than $40\\%$ of U.S. cell phone owners use their phone for most of their online browsing."
   ]
  },
  {
   "cell_type": "markdown",
   "metadata": {
    "slideshow": {
     "slide_type": "slide"
    }
   },
   "source": [
    "##### Example:\n",
    "\n",
    "A researcher claims that $86\\%$ of college graduates say their college degree has been a good investment. In a random sample of 1000 graduates, 845 say their college degree has been a good investment. At $\\alpha = 0.10$, is there enough evidence to reject the researcher's claim?"
   ]
  },
  {
   "cell_type": "markdown",
   "metadata": {
    "slideshow": {
     "slide_type": "fragment"
    }
   },
   "source": [
    "##### Solution:\n",
    "\n",
    "1. We have a random sample that is of size $n = 1000 \\geq 30$ and the claim is related to the proportion $p = 0.86 \\Rightarrow np = 1000 \\cdot 0.86 = 860 \\geq 5$ and $nq = 1000 \\cdot 0.14 = 140 \\geq 5$, so we can use the normal ditribution."
   ]
  },
  {
   "cell_type": "markdown",
   "metadata": {
    "slideshow": {
     "slide_type": "fragment"
    }
   },
   "source": [
    "2. The hypotheses are\n",
    "\n",
    "\\begin{eqnarray}\n",
    "\\nonumber H_0: p & = & 0.86 \\; \\text{(claim)} \\\\\n",
    "\\nonumber H_a: p & \\neq & 0.86\n",
    "\\end{eqnarray}\n",
    "\n",
    "So this is a two-tailed test."
   ]
  },
  {
   "cell_type": "markdown",
   "metadata": {
    "slideshow": {
     "slide_type": "fragment"
    }
   },
   "source": [
    "3. The level of significance is given: $\\alpha = 0.10$."
   ]
  },
  {
   "cell_type": "markdown",
   "metadata": {
    "slideshow": {
     "slide_type": "fragment"
    }
   },
   "source": [
    "4. Note that since this is a <em>two-tailed test</em> we will have <em>two critical values</em> ($-z_0$ and $z_0$). We find these critical values by first finding $-z_0$ and then, using symmetry, noting that $z_0$ is just the opposite sign.\n",
    "\n",
    "To find $-z_0$ we look for $A_{left} = \\alpha / 2 = 0.10 / 2 = 0.05 \\Rightarrow -z_0 = -1.645$.\n",
    "\n",
    "The $\\alpha /2$ in the left tail is again because we are dealing with a two-tailed test."
   ]
  },
  {
   "cell_type": "markdown",
   "metadata": {
    "slideshow": {
     "slide_type": "fragment"
    }
   },
   "source": [
    "5. Since we are dealing with a two-tailed test the rejection regions are all $z$ values to the left (less than) $-z_0 = -1.645$ and all $z$ values to the right (more than) $z_0 = 1.645$. So if our standardized test statistic is in <em>either</em> region we reject $H_0$. If our standardized test statistic is <em>between</em> these critical numbers, we <em>do not</em> reject $H_0$.\n",
    "\n",
    "Summarizing:\n",
    "\n",
    "$$\\text{Rejection regions are: } z < -1.645 \\text{ and } z > 1.645$$"
   ]
  },
  {
   "cell_type": "markdown",
   "metadata": {
    "slideshow": {
     "slide_type": "fragment"
    }
   },
   "source": [
    "6. Now we calculate the standardized test statistic noting that our <em>sample</em> has a proportion of $\\hat{p} = \\frac{845}{1000} = 0.845$:\n",
    "\n",
    "$$z = \\frac{\\hat{p} - p}{\\sqrt{\\frac{pq}{n}}} = \\frac{0.845 - 0.86}{\\sqrt{\\frac{0.86 \\cdot 0.14}{1000}}} \\approx -1.37$$"
   ]
  },
  {
   "cell_type": "markdown",
   "metadata": {
    "slideshow": {
     "slide_type": "fragment"
    }
   },
   "source": [
    "7. Since $z = -1.37 > -1.645 = -z_0$, we <em>do not reject</em> $H_0$."
   ]
  },
  {
   "cell_type": "markdown",
   "metadata": {
    "slideshow": {
     "slide_type": "fragment"
    }
   },
   "source": [
    "8. Interpretation: There is <u>not enough</u> evidence at the $10\\%$ level of significance to <u>reject</u> the researcher's claim that $86\\%$ of college graduates say their college degree has been a good investment."
   ]
  },
  {
   "cell_type": "markdown",
   "metadata": {
    "slideshow": {
     "slide_type": "slide"
    }
   },
   "source": [
    "##### End of Section"
   ]
  }
 ],
 "metadata": {
  "celltoolbar": "Slideshow",
  "kernelspec": {
   "display_name": "Python 3",
   "language": "python",
   "name": "python3"
  },
  "language_info": {
   "codemirror_mode": {
    "name": "ipython",
    "version": 3
   },
   "file_extension": ".py",
   "mimetype": "text/x-python",
   "name": "python",
   "nbconvert_exporter": "python",
   "pygments_lexer": "ipython3",
   "version": "3.7.7"
  },
  "rise": {
   "enable_chalkboard": true,
   "theme": "sky",
   "transition": "zoom"
  }
 },
 "nbformat": 4,
 "nbformat_minor": 4
}
