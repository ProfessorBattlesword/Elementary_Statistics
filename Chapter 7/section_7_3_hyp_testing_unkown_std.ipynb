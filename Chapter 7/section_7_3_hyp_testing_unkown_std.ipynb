{
 "cells": [
  {
   "cell_type": "markdown",
   "metadata": {
    "slideshow": {
     "slide_type": "slide"
    }
   },
   "source": [
    "# Chapter 7: Hypothesis Testing"
   ]
  },
  {
   "cell_type": "markdown",
   "metadata": {
    "slideshow": {
     "slide_type": "slide"
    }
   },
   "source": [
    "### Section 7.3: Hypothesis Testing About the Mean ($\\sigma$ Unkown)\n",
    "##### Objective 1: Finding Critical Values in a $t$-Distribution\n",
    "##### Objective 2: Using the $t$-Test to Test a Mean, $\\mu$, When $\\sigma$ is Not Known"
   ]
  },
  {
   "cell_type": "markdown",
   "metadata": {
    "slideshow": {
     "slide_type": "slide"
    }
   },
   "source": [
    "##### Objective 1: Finding Critical Values in a $t$-Distribution"
   ]
  },
  {
   "cell_type": "markdown",
   "metadata": {
    "slideshow": {
     "slide_type": "fragment"
    }
   },
   "source": [
    "##### Critical Values in a $t$-Distribution\n",
    "\n",
    "* Specify the level of signifnicance, $\\alpha$.\n",
    "* Identify the degrees of freedom, $d.f. = n - 1$.\n",
    "* Find the critical value(s) using the $t$-distribtuion table.\n",
    "  * Left tailed test: use the \"Area in One Tail\" column with a negative sign.\n",
    "  * Right-tailed test: use the \"Area in One Tail\" column with a postive sign (take the number directly from the table).\n",
    "  * Two-tailed Test: use the \"Area in Two Tails\" column with a negative and positive sign for the value determined in the table."
   ]
  },
  {
   "cell_type": "markdown",
   "metadata": {
    "slideshow": {
     "slide_type": "fragment"
    }
   },
   "source": [
    "##### Example 1\n",
    "\n",
    "Find the critical value, $t_0$, for a left-tailed test with $\\alpha = 0.05$ and $n = 21$."
   ]
  },
  {
   "cell_type": "markdown",
   "metadata": {
    "slideshow": {
     "slide_type": "fragment"
    }
   },
   "source": [
    "##### Solution:\n",
    "\n",
    "$d.f. = 21 - 1 = 20$ and area in one tail is $\\alpha=0.05 \\Rightarrow$ from the $t$-distribution table we have $t_0 = -1.725$."
   ]
  },
  {
   "cell_type": "markdown",
   "metadata": {
    "slideshow": {
     "slide_type": "fragment"
    }
   },
   "source": [
    "##### Example 2\n",
    "\n",
    "Find the critical value $t_0$ for a right-tailed test with $\\alpha = 0.01$ and $n = 17$."
   ]
  },
  {
   "cell_type": "markdown",
   "metadata": {
    "slideshow": {
     "slide_type": "fragment"
    }
   },
   "source": [
    "##### Solution:\n",
    "\n",
    "$d.f = 17 -1 = 16$ and area in one tail is $\\alpha = 0.01 \\Rightarrow$ from the $t$-distribution table we have $t_0 = 2.583$."
   ]
  },
  {
   "cell_type": "markdown",
   "metadata": {
    "slideshow": {
     "slide_type": "fragment"
    }
   },
   "source": [
    "##### Example 3\n",
    "\n",
    "Find the critical values $-t_0$ and $t_0$ for a two-tailed test with $\\alpha = 0.10$ and $n = 26$."
   ]
  },
  {
   "cell_type": "markdown",
   "metadata": {
    "slideshow": {
     "slide_type": "fragment"
    }
   },
   "source": [
    "##### Solution:\n",
    "\n",
    "$d.f = 26 -1 = 25$ and area in two tails is $\\alpha = 0.10 \\Rightarrow$ from the $t$-distribution table we have $-t_0 = -1.708$ and $t_0 = 1.708$."
   ]
  },
  {
   "cell_type": "markdown",
   "metadata": {
    "slideshow": {
     "slide_type": "slide"
    }
   },
   "source": [
    "##### Objective 2: Using the $t$-Test to Test a Mean, $\\mu$, When $\\sigma$ is Not Known"
   ]
  },
  {
   "cell_type": "markdown",
   "metadata": {
    "slideshow": {
     "slide_type": "fragment"
    }
   },
   "source": [
    "##### $t$-test for a Mean $\\mu$\n",
    "\n",
    "The <em><b>$t$-test for a mean $\\mu$</b></em> is a statistical test for a population mean.\n",
    "\n",
    "The <em><b>test statistic</b></em> is the sample mean $\\bar{x}$.\n",
    "\n",
    "The <em><b>standardized test statistic</b></em> is determined by\n",
    "\n",
    "$$t = \\frac{\\bar{x} - \\mu}{\\frac{s}{\\sqrt{n}}}$$\n",
    "\n",
    "The sample must be random and either $n \\geq 30$ or the population must be normally distributed (Central Limit Theorem must apply)."
   ]
  },
  {
   "cell_type": "markdown",
   "metadata": {
    "slideshow": {
     "slide_type": "fragment"
    }
   },
   "source": [
    "##### Steps for Using the $t$-Test for a Mean $\\mu$ ($\\sigma$ Unkown)\n",
    "\n",
    "1. Verify that $\\sigma$ is not known, the sample is random, and either $n \\geq 30$ or the population is normally distributed.\n",
    "2. State the claim mathematically and verbally and identify the null and alternative hypotheses.\n",
    "3. Specify the level of significance, $\\alpha$.\n",
    "4. Identify the degrees of freedom $\\left( d.f. = n - 1 \\right)$.\n",
    "5. Determine the critical value(s) (use the $t$-distribution table and the appropriate tails).\n",
    "6. Determine the rejection region(s).\n",
    "7. Find the standardized test statistic $\\left( t = \\frac{\\bar{x} - \\mu}{\\frac{s}{\\sqrt{n}}} \\right)$.\n",
    "8. Make a decision to reject or fail to reject the null hypothesis.\n",
    "9. Interpret the decision in the context of the original claim."
   ]
  },
  {
   "cell_type": "markdown",
   "metadata": {
    "slideshow": {
     "slide_type": "fragment"
    }
   },
   "source": [
    "##### Example 4\n",
    "\n",
    "A used car dealer says that the mean price of a two-year-old sedan (in good condition) is at least $\\$20500$. You suspect this claim is incorrect and find that a random sample of 14 similar vehicles has a mean price of $\\$19850$ and a standard deviation of $\\$1084$. Is there enough evidence to reject the dealer's claim at $\\alpha = 0.05$? Assume the population is normally distributed."
   ]
  },
  {
   "cell_type": "markdown",
   "metadata": {
    "slideshow": {
     "slide_type": "fragment"
    }
   },
   "source": [
    "##### Solution:\n",
    "\n",
    "1. We know nothing about the population standard deviation, so we do <em>not</em> know $\\sigma \\Rightarrow$ use a $t$-test. We are only given the standard deviation of the <em>random</em> sample we gathered which is $s = 1084$. We also are gathering $n = 14$ similar vehicles, but we are assuming that the population is normally distributed. So the Central Limit Theorem applies."
   ]
  },
  {
   "cell_type": "markdown",
   "metadata": {
    "slideshow": {
     "slide_type": "fragment"
    }
   },
   "source": [
    "2. The hyptheses and claim is given by\n",
    "\n",
    "\\begin{eqnarray}\n",
    "\\nonumber H_0: \\mu & \\geq & 20500 \\; \\text{(claim)} \\\\\n",
    "\\nonumber H_a: \\mu & < & 20500\n",
    "\\end{eqnarray}\n",
    "\n",
    "Since $H_a$ contains $<$, we have a left-tailed $t$-test."
   ]
  },
  {
   "cell_type": "markdown",
   "metadata": {
    "slideshow": {
     "slide_type": "fragment"
    }
   },
   "source": [
    "3. The level of significance is given as $\\alpha = 0.05$."
   ]
  },
  {
   "cell_type": "markdown",
   "metadata": {
    "slideshow": {
     "slide_type": "fragment"
    }
   },
   "source": [
    "4. The degrees of freedom are $d.f. = 14 -1 = 13$."
   ]
  },
  {
   "cell_type": "markdown",
   "metadata": {
    "slideshow": {
     "slide_type": "fragment"
    }
   },
   "source": [
    "5. Since we have a left-tailed test with $d.f. = 13$ and significance level $\\alpha = 0.05$, we add a negative to the value from the table and get\n",
    "\n",
    "$$t_0 = -1.771$$"
   ]
  },
  {
   "cell_type": "markdown",
   "metadata": {
    "slideshow": {
     "slide_type": "fragment"
    }
   },
   "source": [
    "6. The rejection region is all $t$-values that are to the left (less than) $t_0 = -1.771$.\n",
    "\n",
    "$$\\text{Rejection region: } t < -1.771$$"
   ]
  },
  {
   "cell_type": "markdown",
   "metadata": {
    "slideshow": {
     "slide_type": "fragment"
    }
   },
   "source": [
    "7. We need to calculate the standardized test statistic and compare with the critical value (note that $\\bar{x} = 19850$):\n",
    "\n",
    "$$t = \\frac{\\bar{x} - \\mu}{\\frac{s}{\\sqrt{n}}} = \\frac{19850 - 20500}{\\frac{1084}{\\sqrt{14}}} \\approx -2.24$$"
   ]
  },
  {
   "cell_type": "markdown",
   "metadata": {
    "slideshow": {
     "slide_type": "fragment"
    }
   },
   "source": [
    "8. Since $t = -2.24 < -1.771 = t_0$, we <em>reject</em> $H_0$."
   ]
  },
  {
   "cell_type": "markdown",
   "metadata": {
    "slideshow": {
     "slide_type": "fragment"
    }
   },
   "source": [
    "9. Interpretation: There is <u>enough</u> evidence at the $5\\%$ level of significance to <u>reject</u> the claim that the mean price of these vehicles is at least $\\$20500$ (this dealer appears to either be misinformed or trying to sucker you into paying more than you should)."
   ]
  },
  {
   "cell_type": "markdown",
   "metadata": {
    "slideshow": {
     "slide_type": "fragment"
    }
   },
   "source": [
    "##### Example 5\n",
    "\n",
    "An industrial company claims that the mean pH level of the water in a nearby river is 6.8. You randomly select 39 water samples and measure the pH of each. The sample mean and standard deviation are 6.7 and 0.35 respectively. Is there enough evidence to reject the company's claim at $\\alpha = 0.05$?"
   ]
  },
  {
   "cell_type": "markdown",
   "metadata": {
    "slideshow": {
     "slide_type": "fragment"
    }
   },
   "source": [
    "##### Solution:\n",
    "\n",
    "1. We do not have any information about $\\sigma$. However, we do know that the <em>random</em> sample collected has a standard deviation of $s = 0.35$ and is of size $n = 39 \\geq 30$ So the Central Limit Theorem applies."
   ]
  },
  {
   "cell_type": "markdown",
   "metadata": {
    "slideshow": {
     "slide_type": "fragment"
    }
   },
   "source": [
    "2. The hyptheses and claim is given by\n",
    "\n",
    "\\begin{eqnarray}\n",
    "\\nonumber H_0: \\mu & = & 6.8 \\; \\text{(claim)} \\\\\n",
    "\\nonumber H_a: \\mu & \\neq & 6.8\n",
    "\\end{eqnarray}\n",
    "\n",
    "Since $H_a$ contains $\\neq$, we have a two-tailed $t$-test."
   ]
  },
  {
   "cell_type": "markdown",
   "metadata": {
    "slideshow": {
     "slide_type": "fragment"
    }
   },
   "source": [
    "3. The level of significance is given as $\\alpha = 0.05$."
   ]
  },
  {
   "cell_type": "markdown",
   "metadata": {
    "slideshow": {
     "slide_type": "fragment"
    }
   },
   "source": [
    "4. The degrees of freedom are $d.f. = 39 -1 = 38$."
   ]
  },
  {
   "cell_type": "markdown",
   "metadata": {
    "slideshow": {
     "slide_type": "fragment"
    }
   },
   "source": [
    "5. Since we have a two-tailed test with $d.f. = 39$ and significance level $\\alpha = 0.05$, we have two critical values (one negative; one positive) and they are\n",
    "\n",
    "$$-t_0 = -2.024 \\text{ and } t_0 = 2.024$$"
   ]
  },
  {
   "cell_type": "markdown",
   "metadata": {
    "slideshow": {
     "slide_type": "fragment"
    }
   },
   "source": [
    "6. The rejection regions are all $t$-values that are to the left of (less than) $-t_0 = -2.024$ and all $t$-values that are to the right of (more than) $t_0 = 2.024$\n",
    "\n",
    "$$\\text{Rejection regions: } t < -2.024 \\; \\text{and} \\; t > 2.024$$"
   ]
  },
  {
   "cell_type": "markdown",
   "metadata": {
    "slideshow": {
     "slide_type": "fragment"
    }
   },
   "source": [
    "7. We need to calculate the standardized test statistic and compare with the critical value (note that $\\bar{x} = 6.7$):\n",
    "\n",
    "$$t = \\frac{\\bar{x} - \\mu}{\\frac{s}{\\sqrt{n}}} = \\frac{6.7 - 6.8}{\\frac{0.35}{\\sqrt{39}}} \\approx -1.784$$"
   ]
  },
  {
   "cell_type": "markdown",
   "metadata": {
    "slideshow": {
     "slide_type": "fragment"
    }
   },
   "source": [
    "8. Since $t = -1.784 > -2.024 = t_0$, we <em>do not</em> reject $H_0$."
   ]
  },
  {
   "cell_type": "markdown",
   "metadata": {
    "slideshow": {
     "slide_type": "fragment"
    }
   },
   "source": [
    "9. Interpretation: There is <u>not enough</u> evidence at the $5\\%$ level of significance to <u>reject</u> the claim that the mean pH level of the water in the river is 6.8 (this company appears to be telling the truth)."
   ]
  },
  {
   "cell_type": "markdown",
   "metadata": {
    "slideshow": {
     "slide_type": "slide"
    }
   },
   "source": [
    "##### End of Section"
   ]
  }
 ],
 "metadata": {
  "celltoolbar": "Slideshow",
  "kernelspec": {
   "display_name": "Python 3",
   "language": "python",
   "name": "python3"
  },
  "language_info": {
   "codemirror_mode": {
    "name": "ipython",
    "version": 3
   },
   "file_extension": ".py",
   "mimetype": "text/x-python",
   "name": "python",
   "nbconvert_exporter": "python",
   "pygments_lexer": "ipython3",
   "version": "3.7.6"
  },
  "rise": {
   "enable_chalkboard": true,
   "theme": "sky",
   "transition": "zoom"
  }
 },
 "nbformat": 4,
 "nbformat_minor": 4
}
