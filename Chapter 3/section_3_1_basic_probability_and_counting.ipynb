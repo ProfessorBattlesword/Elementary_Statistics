{
 "cells": [
  {
   "cell_type": "markdown",
   "metadata": {
    "slideshow": {
     "slide_type": "slide"
    }
   },
   "source": [
    "# Chapter 3: Probability\n",
    "$$\n",
    "    \\newcommand{\\ub}[2]{\\underbrace{#1}_{#2}}\n",
    "    \\newcommand{\\ob}[2]{\\overbrace{#1}^{#2}}\n",
    "$$"
   ]
  },
  {
   "cell_type": "markdown",
   "metadata": {
    "slideshow": {
     "slide_type": "slide"
    }
   },
   "source": [
    "### Section 3.1: Basic Concepts of Probability and Counting\n",
    "\n",
    "### Section Objectives:\n",
    "##### Objective 1: Identifying sample space of probability experiments\n",
    "##### Objective 2: Identifying simple events\n",
    "##### Objective 3: Apply Fundamental Counting Principle\n",
    "##### Objective 4: Distinguish between classical, empirical, and subjective probability\n",
    "##### Objective 5: Finding probability of the complement of an event\n",
    "##### Objective 6: Using the Fundamental Counting Principle to find probabilities"
   ]
  },
  {
   "cell_type": "markdown",
   "metadata": {
    "slideshow": {
     "slide_type": "slide"
    }
   },
   "source": [
    "##### Objective 1: Identifying sample space of probability experiments"
   ]
  },
  {
   "cell_type": "markdown",
   "metadata": {
    "slideshow": {
     "slide_type": "fragment"
    }
   },
   "source": [
    "##### Probability Experiments\n",
    "\n",
    "* A **probability experiment** is an action, or trial, through which specific results are obtained\n",
    "\n",
    "* An **outcome** is the result of a single trial in a probability experiment\n",
    "\n",
    "* The **sample space** of a probability experiment is the set of all possible outcomes of that experiment\n",
    "\n",
    "* An **event** is a subset of the sample space (can consist of one or more outcomes)"
   ]
  },
  {
   "cell_type": "markdown",
   "metadata": {
    "slideshow": {
     "slide_type": "fragment"
    }
   },
   "source": [
    "##### Example 1\n",
    "\n",
    "A probability experiment consists of tossing a coin and then rolling a six-sided die. Determine the number of outcomes and identify the sample space."
   ]
  },
  {
   "cell_type": "markdown",
   "metadata": {
    "slideshow": {
     "slide_type": "fragment"
    }
   },
   "source": [
    "##### Solution:\n",
    "\n",
    "* The sample space is $\\{ H1, H2, H3, H4, H5, H6, T1, T2, T3, T4, T5, T6 \\}$\n",
    "\n",
    "* The number of outcomes is $12$"
   ]
  },
  {
   "cell_type": "markdown",
   "metadata": {
    "slideshow": {
     "slide_type": "fragment"
    }
   },
   "source": [
    "##### Example 2\n",
    "\n",
    "A probability experiment consists of flipping two coins and recording the results. Determine the number of outcomes and identify the sample space."
   ]
  },
  {
   "cell_type": "markdown",
   "metadata": {
    "slideshow": {
     "slide_type": "fragment"
    }
   },
   "source": [
    "##### Solution:\n",
    "\n",
    "* The sample space is $\\{ HH, HT, TT, TH \\}$\n",
    "\n",
    "* The number of outcomes is $4$."
   ]
  },
  {
   "cell_type": "markdown",
   "metadata": {
    "slideshow": {
     "slide_type": "slide"
    }
   },
   "source": [
    "##### Objective 2: Identifying simple events"
   ]
  },
  {
   "cell_type": "markdown",
   "metadata": {
    "slideshow": {
     "slide_type": "fragment"
    }
   },
   "source": [
    "##### Simple Event\n",
    "\n",
    "* A **simple event** is an event that consists of a single outcome\n",
    "    * Example: From the coin-dice experiment: tossing tails and rolling a 2 is a simple event"
   ]
  },
  {
   "cell_type": "markdown",
   "metadata": {
    "slideshow": {
     "slide_type": "fragment"
    }
   },
   "source": [
    "##### Example 3\n",
    "\n",
    "What is the sample space of rolling two six-sided dice and recording the results? Would rolling a four and then a two be a simple event? What about rolling a two and then a four? Would rolling two dice and obtaining a sum of six be a simple event?"
   ]
  },
  {
   "cell_type": "markdown",
   "metadata": {
    "slideshow": {
     "slide_type": "fragment"
    }
   },
   "source": [
    "##### Solution:\n",
    "\n"
   ]
  },
  {
   "cell_type": "markdown",
   "metadata": {
    "slideshow": {
     "slide_type": "fragment"
    }
   },
   "source": [
    "* $(2, 4)$ and $(4,2)$ are both simple events (i.e. rolling a two and then a four; and rolling a four and then a two are both simple events)\n",
    "* The event of rolling two dice with a sum of six is *not* a simple event\n",
    "    * Possible outcomes:\n",
    "        * $(2,4)$, $(4,2)$, $(1, 5)$, $(5, 1)$, and $(3,3)$"
   ]
  },
  {
   "cell_type": "markdown",
   "metadata": {
    "slideshow": {
     "slide_type": "fragment"
    }
   },
   "source": [
    "##### Example 4\n",
    "\n",
    "Consider the probability experiment of drawing a card from a deck of casino playing cards for the following events. What is the total number of outcomes for each event? Which events are simple?\n",
    "\n",
    "**(a)** Event $A$: drawing a king.\n",
    "\n",
    "**(b)** Event $B$: drawing a red 3.\n",
    "\n",
    "**(c)** Event $C$: drawing the jack of diamonds.\n",
    "\n",
    "**(d)** Event $D$: drawing a jack and a diamond."
   ]
  },
  {
   "cell_type": "markdown",
   "metadata": {
    "slideshow": {
     "slide_type": "fragment"
    }
   },
   "source": [
    "##### Solution:\n",
    "\n",
    "**(a)** Event $A$: drawing a king.\n",
    "\n",
    "Since there are 4 different kings in any given deck of cards (king of hearts, diamonds, spades, and clubs), there are 4 different possible outcomes for this event. Therefore, **event $A$ is not a simple event.**"
   ]
  },
  {
   "cell_type": "markdown",
   "metadata": {
    "slideshow": {
     "slide_type": "fragment"
    }
   },
   "source": [
    "**(b)** Event $B$: drawing a red 3.\n",
    "\n",
    "Since there are 2 different red threes in any given deck of cards (3 of hearts and 3 of diamonds), there are 2 different possible outcomes for this event. Therefore, **event $B$ is not a simple event.**"
   ]
  },
  {
   "cell_type": "markdown",
   "metadata": {
    "slideshow": {
     "slide_type": "fragment"
    }
   },
   "source": [
    "**(c)** Event $C$: drawing the jack of diamonds.\n",
    "\n",
    "Since there is precisely *one* jack of diamonds in any given deck of cards, there is only one possible outcome for this event. Therefore, **event $C$ is a simple event.**"
   ]
  },
  {
   "cell_type": "markdown",
   "metadata": {
    "slideshow": {
     "slide_type": "fragment"
    }
   },
   "source": [
    "**(d)** Event $D$: drawing a jack and a diamond.\n",
    "\n",
    "In order for a card to be both a jack and a diamond simultaneously, we must have the jack of diamonds. So this event is the same as that of event $C$. Therefore, **event $D$ is a simple event.**"
   ]
  },
  {
   "cell_type": "markdown",
   "metadata": {
    "slideshow": {
     "slide_type": "slide"
    }
   },
   "source": [
    "##### Objective 3: Apply Fundamental Counting Principle"
   ]
  },
  {
   "cell_type": "markdown",
   "metadata": {
    "slideshow": {
     "slide_type": "fragment"
    }
   },
   "source": [
    "* Consider the following:\n",
    "    * What are the total number of outcomes of rolling a single six-sided die and then tossing a fair, two-sided coin?\n",
    "    * What are the total number of outcomes of rolling two dice?\n",
    "    * What are the total number of outcomes of rolling three dice?\n",
    "    * What are the total number of outcomes of flipping a coin, rolling five dice, and then drawing a card from a standard deck of playing cards?"
   ]
  },
  {
   "cell_type": "markdown",
   "metadata": {
    "slideshow": {
     "slide_type": "fragment"
    }
   },
   "source": [
    "##### Fundamental Counting Principle\n",
    "\n",
    "The **Fundamental Counting Principle** states that if one event can occur in $m$ ways and a second event can occur in $n$ ways, then the number of ways the two events can occur in sequence is $m \\cdot n$. *This can be extended to any number of events occurring in sequence.*"
   ]
  },
  {
   "cell_type": "markdown",
   "metadata": {
    "slideshow": {
     "slide_type": "fragment"
    }
   },
   "source": [
    "##### Example 5\n",
    "\n",
    "Use the Fundamental Counting Principle to determine the total number of outcomes for the following probability experiments.\n",
    "\n",
    "**(a)** What are the total number of outcomes of rolling a single six-sided die and then tossing a fair, two-sided coin?\n",
    "\n",
    "**(b)** What are the total number of outcomes of rolling two dice?\n",
    "\n",
    "**(c)** What are the total number of outcomes of rolling three dice?\n",
    "\n",
    "**(d)** What are the total number of outcomes of flipping a coin, rolling five dice, and then drawing a card from a standard deck of playing cards?"
   ]
  },
  {
   "cell_type": "markdown",
   "metadata": {
    "slideshow": {
     "slide_type": "fragment"
    }
   },
   "source": [
    "##### Solution:\n",
    "\n",
    "**(a)** What are the total number of outcomes of rolling a single six-sided die and then tossing a fair, two-sided coin?\n",
    "\n",
    "\\begin{align}\n",
    "    \\ub{2}{\\text{coin}} \\cdot \\ob{6}{\\text{die}} = \\boxed{12}\n",
    "\\end{align}"
   ]
  },
  {
   "cell_type": "markdown",
   "metadata": {
    "slideshow": {
     "slide_type": "fragment"
    }
   },
   "source": [
    "**(b)** What are the total number of outcomes of rolling two dice?\n",
    "\n",
    "\\begin{align}\n",
    "    \\ub{6}{\\text{die 1}} \\cdot \\ob{6}{\\text{die 2}} = \\boxed{36}\n",
    "\\end{align}"
   ]
  },
  {
   "cell_type": "markdown",
   "metadata": {
    "slideshow": {
     "slide_type": "fragment"
    }
   },
   "source": [
    "**(c)** What are the total number of outcomes of rolling three dice?\n",
    "\n",
    "\\begin{align}\n",
    "    \\ub{6}{\\text{die 1}} \\cdot \\ob{6}{\\text{die 2}} \\cdot \\ub{6}{\\text{die 3}} = \\boxed{216}\n",
    "\\end{align}"
   ]
  },
  {
   "cell_type": "markdown",
   "metadata": {
    "slideshow": {
     "slide_type": "fragment"
    }
   },
   "source": [
    "**(d)** What are the total number of outcomes of flipping a coin, rolling five dice, and then drawing a card from a standard deck of playing cards?\n",
    "\n",
    "\\begin{align}\n",
    "    \\ob{2}{\\text{coin}} \\cdot \\ub{6^5}{\\text{dice}} \\cdot \\ob{52}{\\text{cards}} = \\boxed{808704}\n",
    "\\end{align}"
   ]
  },
  {
   "cell_type": "markdown",
   "metadata": {
    "slideshow": {
     "slide_type": "fragment"
    }
   },
   "source": [
    "##### Example 6\n",
    "The access code for a car's security system consists of four digits. Each digit can be any number from $0$ through $9$. How many access codes are possible when\n",
    "\n",
    "**(a)** each digit can be used only once and not repeated?\n",
    "\n",
    "**(b)** each digit can be repeated?\n",
    "\n",
    "**(c)** each digit can be repeated, but the first digit cannot be $0$ or $1$?"
   ]
  },
  {
   "cell_type": "markdown",
   "metadata": {
    "slideshow": {
     "slide_type": "fragment"
    }
   },
   "source": [
    "##### Solution:\n",
    "\n",
    "**(a)** each digit can be used only once and not repeated?\n",
    "\n",
    "\\begin{align}\n",
    "    \\ub{10}{1^{\\text{st}} \\text{ digit}} \\cdot \\ob{9}{2^{\\text{nd}} \\text{ digit}} \\cdot \\ub{8}{3^{\\text{rd}} \\text{ digit}} \\cdot \\ob{7}{4^{\\text{th}} \\text{ digit}} = \\boxed{5040}\n",
    "\\end{align}"
   ]
  },
  {
   "cell_type": "markdown",
   "metadata": {
    "slideshow": {
     "slide_type": "fragment"
    }
   },
   "source": [
    "**(b)** each digit can be repeated?\n",
    "\n",
    "\\begin{align}\n",
    "    \\ub{10}{1^{\\text{st}} \\text{ digit}} \\cdot \\ob{10}{2^{\\text{nd}} \\text{ digit}} \\cdot \\ub{10}{3^{\\text{rd}} \\text{ digit}} \\cdot \\ob{10}{4^{\\text{th}} \\text{ digit}} = 10^4 = \\boxed{10000}\n",
    "\\end{align}"
   ]
  },
  {
   "cell_type": "markdown",
   "metadata": {
    "slideshow": {
     "slide_type": "fragment"
    }
   },
   "source": [
    "**(c)** each digit can be repeated, but the first digit cannot be $0$ or $1$?\n",
    "\n",
    "\\begin{align}\n",
    "    \\ub{8}{1^{\\text{st}} \\text{ digit}} \\cdot \\ob{10}{2^{\\text{nd}} \\text{ digit}} \\cdot \\ub{10}{3^{\\text{rd}} \\text{ digit}} \\cdot \\ob{10}{4^{\\text{th}} \\text{ digit}} = 8 \\cdot 10^3 = \\boxed{8000}\n",
    "\\end{align}"
   ]
  },
  {
   "cell_type": "markdown",
   "metadata": {
    "slideshow": {
     "slide_type": "fragment"
    }
   },
   "source": [
    "##### Example 7\n",
    "\n",
    "**(a)** How many different phone numbers can be made if the first digit cannot\n",
    "be 0?\n",
    "\n",
    "**(b)** How many different phone numbers can be made for an area code of 817\n",
    "or 682 or 214 and the last four digits must consist of only numbers between 4\n",
    "and 8, inclusive?\n",
    "\n",
    "**(c)** How many different phone numbers can TCC have if the school uses an\n",
    "area code of 817 and the next three digits must be 515?"
   ]
  },
  {
   "cell_type": "markdown",
   "metadata": {
    "slideshow": {
     "slide_type": "fragment"
    }
   },
   "source": [
    "##### Solution:\n",
    "\n",
    "A ten digit phone number has the general form: $\\ub{(\\_ \\, \\_ \\, \\_)}{\\text{Area code}} \\ub{\\, \\_ \\, \\_ \\, \\_}{\\text{prefix}} \\, \\text{-} \\, \\ub{\\_ \\, \\_ \\, \\_ \\, \\_}{\\text{suffix}}$\n",
    "\n",
    "**(a)** The first digit cannot be zero, therefore, we only have 9 digits to choose from for the first digit in the number. Once that digit is decided, the other 9 remaining digits don't have any restrictions. Therefore, there are 10 choices for each of the remaining 9 digits: $9 \\cdot 10^{9} = \\boxed{9000000000}$"
   ]
  },
  {
   "cell_type": "markdown",
   "metadata": {
    "slideshow": {
     "slide_type": "fragment"
    }
   },
   "source": [
    "**(b)** Now we are looking at phone numbers of the form $(817) \\, \\_ \\, \\_ \\, \\_ \\, \\text{-} \\, \\ub{\\_ \\, \\_ \\, \\_ \\, \\_}{\\text{only digits 4-8}}$; $(682) \\, \\_ \\, \\_ \\, \\_ \\, \\text{-} \\, \\ub{\\_ \\, \\_ \\, \\_ \\, \\_}{\\text{only digits 4-8}}$; or $(214) \\, \\_ \\, \\_ \\, \\_ \\, \\text{-} \\, \\ub{\\_ \\, \\_ \\, \\_ \\, \\_}{\\text{only digits 4-8}}$. So there are 5 choices for each of the last four digits and three different possible area codes with no restrictions for the prefix numbers: $3 \\cdot 10^3 \\cdot 5^4 = \\boxed{1875000}$."
   ]
  },
  {
   "cell_type": "markdown",
   "metadata": {
    "slideshow": {
     "slide_type": "fragment"
    }
   },
   "source": [
    "**(c)** Now we have phone numbers of the form $(817) \\, 515 \\, \\text{-} \\, \\_ \\, \\_ \\, \\_ \\, \\_$ but there are no restrictions on the last four digits. Therefore, there are $10^4 = \\boxed{10000}$ phone numbers available."
   ]
  },
  {
   "cell_type": "markdown",
   "metadata": {
    "slideshow": {
     "slide_type": "slide"
    }
   },
   "source": [
    "##### Objective 4: Distinguish between classical, empirical, and subjective probability"
   ]
  },
  {
   "cell_type": "markdown",
   "metadata": {
    "slideshow": {
     "slide_type": "fragment"
    }
   },
   "source": [
    "##### Typds of Probability\n",
    "\n",
    "* Classical (theoretical) probability\n",
    "* Empirical (statistical) probability\n",
    "* Subjective probability"
   ]
  },
  {
   "cell_type": "markdown",
   "metadata": {
    "slideshow": {
     "slide_type": "fragment"
    }
   },
   "source": [
    "##### Classical (Theoretical) Probability\n",
    "\n",
    "* **Classical (theoretical) probability** is when each outcome in a sample space is equally likely to occur\n",
    "    * Notationally we represent this type of probability as\n",
    "$$\n",
    "    P(E) = \\cfrac{\\text{Number of outcomes in event $E$}}{\\text{Total number of outcomes in sample space}}\n",
    "$$\n",
    "    * Informally:\n",
    "$$\n",
    "    P(E) = \\cfrac{\\text{Number of desired outcomes}}{\\text{Total number of outcomes}}\n",
    "$$"
   ]
  },
  {
   "cell_type": "markdown",
   "metadata": {
    "slideshow": {
     "slide_type": "fragment"
    }
   },
   "source": [
    "##### Example 8\n",
    "\n",
    "You roll a six-sided die. Find the probability of each event.\n",
    "\n",
    "**(a)** Event A: rolling a 3\n",
    "\n",
    "**(b)** Event B: rolling a 7\n",
    "\n",
    "**(c)** Event C: rolling a number less than 5\n",
    "\n",
    "**(d)** Event D: rolling a number between 1 and 6, inclusive"
   ]
  },
  {
   "cell_type": "markdown",
   "metadata": {
    "slideshow": {
     "slide_type": "fragment"
    }
   },
   "source": [
    "##### Solution:\n",
    "\n",
    "**(a)** Event A: rolling a 3\n",
    "$$\n",
    "    \\boxed{P(A) = \\cfrac{1}{6} \\approx 0.167}\n",
    "$$"
   ]
  },
  {
   "cell_type": "markdown",
   "metadata": {
    "slideshow": {
     "slide_type": "fragment"
    }
   },
   "source": [
    "**(b)** Event B: rolling a 7\n",
    "$$\n",
    "    P(B) = \\cfrac{0}{6} \\\\ \\boxed{P(B) = 0}\n",
    "$$"
   ]
  },
  {
   "cell_type": "markdown",
   "metadata": {
    "slideshow": {
     "slide_type": "fragment"
    }
   },
   "source": [
    "**(c)** Event C: rolling a number less than 5\n",
    "$$\n",
    "    P(C) = \\cfrac{4}{6} \\\\ \\boxed{P(C) = \\cfrac{2}{3} \\approx 0.667}\n",
    "$$"
   ]
  },
  {
   "cell_type": "markdown",
   "metadata": {
    "slideshow": {
     "slide_type": "fragment"
    }
   },
   "source": [
    "**(d)** Event D: rolling a number between 1 and 6, inclusive\n",
    "$$\n",
    "    P(D) = \\cfrac{6}{6} \\\\\n",
    "    \\boxed{P(D) = 1}\n",
    "$$"
   ]
  },
  {
   "cell_type": "markdown",
   "metadata": {
    "slideshow": {
     "slide_type": "fragment"
    }
   },
   "source": [
    "##### Properties of Probabilities\n",
    "\n",
    "* Probabilities are *always* between $0$ and $1$, inclusive $\\Rightarrow$ for an event $E$, $0 \\leq P(E) \\leq 1$\n",
    "* **The above statement means a proability can never be negative or larger than one**\n",
    "* A probability of $0$ means that the event cannot happen or that there is a $0\\%$ chance for that event to occur\n",
    "* A probability of $1$ means that the event is guarenteed to happen or that there is a $100\\%$ chance for that event to occur"
   ]
  },
  {
   "cell_type": "markdown",
   "metadata": {
    "slideshow": {
     "slide_type": "fragment"
    }
   },
   "source": [
    "##### Empirical (Statistical) Probability\n",
    "\n",
    "* **Empirical (statistical) probability** is purely based on observational studies.\n",
    "    * The empirical probability of an event $E$ is the relative frequency of event $E$\n",
    "    * Notationally we represent this type of probability as\n",
    "$$\n",
    "    P(E) = \\cfrac{\\text{Frequency of event $E$}}{\\text{Total frequency}} = \\cfrac{f}{n}\n",
    "$$\n",
    "    * Informally:\n",
    "$$\n",
    "  P(E) = \\cfrac{\\text{Number of desired observations}}{\\text{Total number of observations}}  \n",
    "$$"
   ]
  },
  {
   "cell_type": "markdown",
   "metadata": {
    "slideshow": {
     "slide_type": "fragment"
    }
   },
   "source": [
    "##### Example 9\n",
    "\n",
    "A company is conducting an online survey of randomly selected individuals to determine how often they recycle. So far, $2451$ people have been surveyed. The frequency distribution shows the results. What is the probability that the next person surveyed always recycles? The probability that the next person sometimes recycles?\n",
    "\n",
    "|Response|Number of times, $f$|\n",
    "|:-:|:-:|\n",
    "|Always|1054|\n",
    "|Often|613|\n",
    "|Sometimes|417|\n",
    "|Rarely|196|\n",
    "|Never|171|\n",
    "|||"
   ]
  },
  {
   "cell_type": "markdown",
   "metadata": {
    "slideshow": {
     "slide_type": "fragment"
    }
   },
   "source": [
    "##### Solution:\n",
    "\n",
    "|Response|Number of times, $f$|\n",
    "|:-:|:-:|\n",
    "|Always|1054|\n",
    "|Often|613|\n",
    "|Sometimes|417|\n",
    "|Rarely|196|\n",
    "|Never|171|\n",
    "||$\\displaystyle n = \\sum{f} = 2451$|\n",
    "\n",
    "* $P(\\text{always}) = \\cfrac{1054}{2451} \\approx 0.430$\n",
    "* $P(\\text{sometimes}) = \\cfrac{417}{2451} \\approx 0.170$"
   ]
  },
  {
   "cell_type": "markdown",
   "metadata": {
    "slideshow": {
     "slide_type": "fragment"
    }
   },
   "source": [
    "##### Example 10\n",
    "\n",
    "You roll a die 10 times and obtain the following results. Based on these results, what is the probability that you roll a 4 on the next roll? A 6? A 5? A number less than 3? A number larger than or equal to 6? Between 2 and 5, inclusive?\n",
    "\n",
    "||||||\n",
    "|:-:|:-:|:-:|:-:|:-:|\n",
    "|1|2|1|4|6|\n",
    "|3|3|4|3|6|"
   ]
  },
  {
   "cell_type": "markdown",
   "metadata": {
    "slideshow": {
     "slide_type": "fragment"
    }
   },
   "source": [
    "##### Solution:\n",
    "\n",
    "* $P(4) = \\cfrac{2}{10} = \\cfrac{1}{5} = 0.2$\n",
    "* $P(6) = \\cfrac{2}{10} = \\cfrac{1}{5} = 0.2$\n",
    "* $P(5) = \\cfrac{0}{10} = 0$\n",
    "* $P(x < 3) = \\cfrac{3}{10} = 0.3$\n",
    "* $P(x \\geq 6) \\cfrac{2}{10} = 0.2$\n",
    "* $P(2 \\leq x \\leq 5) = \\cfrac{6}{10} = 0.6$"
   ]
  },
  {
   "cell_type": "markdown",
   "metadata": {
    "slideshow": {
     "slide_type": "fragment"
    }
   },
   "source": [
    "##### Law of Large Numbers\n",
    "\n",
    "* The **Law of Large Numbers** states that as an experiment is repeated over and over, the empirical probability of an event approaches the theoretical probability of the event.\n",
    "    * i.e. in the previous example, if we were to roll 100 dice instead of 10, the empirical probabilities would approach the actual probabilities as determined by the theoretical calculations"
   ]
  },
  {
   "cell_type": "markdown",
   "metadata": {
    "slideshow": {
     "slide_type": "fragment"
    }
   },
   "source": [
    "##### Subjective Probability\n",
    "\n",
    "* **Subjective probability** is based on intution, educated, guesses, and estimates. This probability is based on personal experience(s)."
   ]
  },
  {
   "cell_type": "markdown",
   "metadata": {
    "slideshow": {
     "slide_type": "fragment"
    }
   },
   "source": [
    "##### Example 11\n",
    "\n",
    "Classify each statement as an example of classical probability, empirical probability, or subjective probability.\n",
    "\n",
    "**(a)** The probability that you will get an $A$ on your next test is $0.9$\n",
    "\n",
    "**(b)** The probability that a voter chosen at random will be younger than 35 years old is $0.3$\n",
    "\n",
    "**(c)** The probability of winning a 1000-ticket raffle with one ticket is $\\cfrac{1}{1000}$"
   ]
  },
  {
   "cell_type": "markdown",
   "metadata": {
    "slideshow": {
     "slide_type": "fragment"
    }
   },
   "source": [
    "##### Solution:\n",
    "\n",
    "**(a)** Subjective probability (this is something based on past experience and confidence in one's self)"
   ]
  },
  {
   "cell_type": "markdown",
   "metadata": {
    "slideshow": {
     "slide_type": "fragment"
    }
   },
   "source": [
    "**(b)** Empirical probability (this is based on the age frequency of those who voted)"
   ]
  },
  {
   "cell_type": "markdown",
   "metadata": {
    "slideshow": {
     "slide_type": "fragment"
    }
   },
   "source": [
    "**(c)** Theoretical probability (we have a mathematical formulation to determine the likelihood of the event)"
   ]
  },
  {
   "cell_type": "markdown",
   "metadata": {
    "slideshow": {
     "slide_type": "slide"
    }
   },
   "source": [
    "##### Objective 5: Finding probability of the complement of an event"
   ]
  },
  {
   "cell_type": "markdown",
   "metadata": {
    "slideshow": {
     "slide_type": "fragment"
    }
   },
   "source": [
    "##### Complementary Events\n",
    "\n",
    "* The **complement of an event $E$** is the set of all outcomes in a sample space that are not included in event $E$.\n",
    "    * The complement of event $E$ is denoted by $E'$ and is read as \"$E$ prime\" or \"$E$ complement\" or \"the complement of $E$.\"\n",
    "    * The probability of two complementary events must add to one since event $E$ must either occur or not occur: $P(E) + P(E') = 1$\n",
    "        * The above equation implies that $P(E') = 1 - P(E)$ and $P(E) = 1 - P(E')$"
   ]
  },
  {
   "cell_type": "markdown",
   "metadata": {
    "slideshow": {
     "slide_type": "fragment"
    }
   },
   "source": [
    "##### Example 12\n",
    "\n",
    "**(a)** You roll a six-sided die. What is the probability of *not* rolling a 5?\n",
    "\n",
    "**(b)** You flip a coin and roll a six-sided die. What is the probability of flipping heads and rolling a 3? What is the probability of not flipping heads and rolling a 3?"
   ]
  },
  {
   "cell_type": "markdown",
   "metadata": {
    "slideshow": {
     "slide_type": "fragment"
    }
   },
   "source": [
    "##### Solution:\n",
    "\n",
    "**(a)** The probability of not rolling a 5:\n",
    "$$\n",
    "    P(\\text{not } 5) = 1 - P(5) \\\\\n",
    "    P(\\text{not } 5) = 1 - \\cfrac{1}{6} \\\\\n",
    "    \\boxed{P(\\text{not } 5) = \\cfrac{5}{6}}\n",
    "$$"
   ]
  },
  {
   "cell_type": "markdown",
   "metadata": {
    "slideshow": {
     "slide_type": "fragment"
    }
   },
   "source": [
    "**(b)** The probability of flipping heads and rolling a 3:\n",
    "$$\n",
    "    \\boxed{P(H3) = \\cfrac{1}{12} \\approx 0.083}\n",
    "$$\n",
    "The probability of not flipping heads and rolling a 3:\n",
    "$$\n",
    "    P(\\text{not} H3) = 1 - P(H3) \\\\ P(\\text{not } H3) = 1 - \\cfrac{1}{12} \\\\ \\boxed{P(\\text{not } H3) = \\cfrac{11}{12} \\approx 0.917}\n",
    "$$"
   ]
  },
  {
   "cell_type": "markdown",
   "metadata": {
    "slideshow": {
     "slide_type": "slide"
    }
   },
   "source": [
    "##### Objective 6: Using the Fundamental Counting Principle to find probabilities"
   ]
  },
  {
   "cell_type": "markdown",
   "metadata": {
    "slideshow": {
     "slide_type": "fragment"
    }
   },
   "source": [
    "##### Example 13\n",
    "\n",
    "A probability experiment consists of tossing a coin and spinning a spinner with eight equal parts (each labeled accordingly). The spinner is equally likely to land on each number. Find the probability of each event below.\n",
    "\n",
    "**(a)** Event $A$: tossing a tail and spinning an odd number\n",
    "\n",
    "**(b)** Event $B$: tossing a head and spinning an even number\n",
    "\n",
    "**(c)** Event $C$: tossing a head or spinning a number greater than 3"
   ]
  },
  {
   "cell_type": "markdown",
   "metadata": {
    "slideshow": {
     "slide_type": "fragment"
    }
   },
   "source": [
    "**(a)**\n",
    "* There is one possible outcome for getting tails and four posible odd numbers on the spinner: $\\text{desired outcomes} = 1 \\cdot 4 = 4$\n",
    "* There are two possible outcomes in flipping the coin and eight possible outcomes for the spinner: $\\text{total possible outcomes} = 2 \\cdot 8 = 16$\n",
    "$$\n",
    "    P(A) = \\cfrac{4}{16} \\\\\n",
    "    \\boxed{P(A) = \\cfrac{1}{4} = 0.25}\n",
    "$$"
   ]
  },
  {
   "cell_type": "markdown",
   "metadata": {
    "slideshow": {
     "slide_type": "fragment"
    }
   },
   "source": [
    "**(b)**\n",
    "\n",
    "* There is one possible outcome for getting heads and four possible even numbers on the spinner: $\\text{desired outcomes} = 1 \\cdot 4 = 4$\n",
    "* The total outcomes are the same as in **(a):** $\\text{total possible outcomes} = 16$\n",
    "$$\n",
    "    P(B) = \\cfrac{4}{16} \\\\\n",
    "    \\boxed{P(B) = \\cfrac{1}{4} = 0.25}\n",
    "$$"
   ]
  },
  {
   "cell_type": "markdown",
   "metadata": {
    "slideshow": {
     "slide_type": "fragment"
    }
   },
   "source": [
    "**(c)**\n",
    "\n",
    "* We have two general types of desired outcomes:\n",
    "    * Toss heads regardless of spinner outcome: $1 \\cdot 8 = 8$\n",
    "    * The spinner lands on a number greater than 3 regardless of coin toss: $2 \\cdot 5 = 10$\n",
    "    * We might be tempted to add these two results, but this would end up counting some of the same outcomes *twice*\n",
    "    * We need to count only the *unique* outcomes among the two general types of outcomes above: $\\ub{1 \\cdot 8}{\\text{heads and any number}} + \\ub{1 \\cdot 5}{\\text{tails and a number greater than 3}} = 8 + 5 = 13$\n",
    "* Again, the total outcomes is the same: $\\text{total possible outcomes = 16}$\n",
    "$$\n",
    "    P(C) = \\cfrac{8 + 5}{16} \\\\\n",
    "    \\boxed{P(C) = \\cfrac{13}{16} \\approx 0.813}\n",
    "$$"
   ]
  },
  {
   "cell_type": "markdown",
   "metadata": {
    "slideshow": {
     "slide_type": "fragment"
    }
   },
   "source": [
    "##### Example 14\n",
    "\n",
    "Suppose a college ID number consists of eight digits. Each digit can be 0 through 9 and each digit can be repeated. What is the probability of getting your college identification number when randomly generating eight digits?"
   ]
  },
  {
   "cell_type": "markdown",
   "metadata": {
    "slideshow": {
     "slide_type": "fragment"
    }
   },
   "source": [
    "##### Solution:\n",
    "\n",
    "* There is presicely one student ID that represents your own: $\\text{desired outcomes} = 1$\n",
    "* There are eight digits with no restrictions: $\\text{total possible outcomes} = 10^8 = 100000000$\n",
    "$$\n",
    "    \\boxed{P(\\text{your ID}) = \\cfrac{1}{100000000} = 10^{-8}}\n",
    "$$\n",
    "    * Your calculator may give you something of the form $1E-8$; this is the same as $10$ to the power of $-8$\n",
    "* An event is said to be **unusual (or unlikely)** if the probability of that event is less than or equal to $0.05$ (less than or equal to a $5\\%$ chance)\n",
    "    * This event would be considered (highly) *unlikely*\n",
    "* In the coming sections we will investigate how to uniquely determine outcomes of overlapping events more easily"
   ]
  },
  {
   "cell_type": "markdown",
   "metadata": {
    "slideshow": {
     "slide_type": "slide"
    }
   },
   "source": [
    "##### End of Section"
   ]
  }
 ],
 "metadata": {
  "celltoolbar": "Slideshow",
  "kernelspec": {
   "display_name": "Python 3",
   "language": "python",
   "name": "python3"
  },
  "language_info": {
   "codemirror_mode": {
    "name": "ipython",
    "version": 3
   },
   "file_extension": ".py",
   "mimetype": "text/x-python",
   "name": "python",
   "nbconvert_exporter": "python",
   "pygments_lexer": "ipython3",
   "version": "3.7.6"
  },
  "rise": {
   "enable_chalkboard": true,
   "theme": "sky",
   "transition": "zoom"
  }
 },
 "nbformat": 4,
 "nbformat_minor": 4
}
