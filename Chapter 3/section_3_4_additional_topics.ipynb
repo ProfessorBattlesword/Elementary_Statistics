{
 "cells": [
  {
   "cell_type": "markdown",
   "metadata": {
    "slideshow": {
     "slide_type": "slide"
    }
   },
   "source": [
    "# Chapter 3: Probability"
   ]
  },
  {
   "cell_type": "markdown",
   "metadata": {
    "slideshow": {
     "slide_type": "slide"
    }
   },
   "source": [
    "### Section 3.4: Additional Topics in Probability and Counting\n",
    "\n",
    "### Section Objectives:\n",
    "##### Objective 1: Find the number of ways a group of objects can be arranged in order\n",
    "##### Objective 2: Find the number of ways to choose several objects from a group without regard to order\n",
    "##### Objective 3: Use counting principles to find probabilities"
   ]
  },
  {
   "cell_type": "markdown",
   "metadata": {
    "slideshow": {
     "slide_type": "slide"
    }
   },
   "source": [
    "##### Objective 1: Find the number of ways a group of objects can be arranged in order"
   ]
  },
  {
   "cell_type": "markdown",
   "metadata": {
    "slideshow": {
     "slide_type": "fragment"
    }
   },
   "source": [
    "##### Motivating Examples\n",
    "\n",
    "* Suppose you want to find the number of ways of forming four-digit codes in which no digit is repeated\n",
    "\n",
    "* One way to go about this is to list all the possible orderings of 4 digits:\n",
    "\n",
    "\\begin{align}\n",
    "    \\text{Not very practical} \\left\\{ \\begin{array}{cccc}\n",
    "    (1, 2, 3, 4), & (1,3,4,5), & (1,4,5,6), & (1,5,6,7), \\dots \\\\\n",
    "    (2,1,3,4), & (2,3,4,5), & (2,4,5,6), & (2,5,6,7), \\dots \\\\\n",
    "    \\vdots & \\vdots & \\vdots & \\vdots & & \\\\\n",
    "    (9, 1, 2, 3), & (9,2,3,4), & (9,3,4,5), & (9,4,5,6), \\dots\n",
    "    \\end{array} \\right.\n",
    "\\end{align}\n",
    "\n",
    "* Fundamental counting principal: $10 \\cdot 9 \\cdot 8 \\cdot 7 = 5040$\n",
    "\n",
    "* What about if we wanted to find the number of ways a fifteen character password could be made using only lower case English letters and no repeats?\n",
    "\n",
    "* Fundamental counting principal:\n",
    "\n",
    "$$\n",
    "    \\underbrace{26 \\cdot 25 \\cdot 24 \\cdots 14 \\cdot 13 \\cdot 12}_{\\text{lots of multiplying}} = \\underbrace{10103301395066880000}_{\\text{a really large number}}\n",
    "$$\n",
    "\n",
    "* Perhaps we could introduce some notation to help us express this..."
   ]
  },
  {
   "cell_type": "markdown",
   "metadata": {
    "slideshow": {
     "slide_type": "fragment"
    }
   },
   "source": [
    "##### Permutations and Factorial Notation\n",
    "\n",
    "* A **permutation** is an ordered arrangement of objects\n",
    "\n",
    "* The number of different permutations of $n$ distinct objects is $n!$\n",
    "\n",
    "* $n!$ is read as \"$n$ **factorial**\" and is defined as $n! = n \\cdot (n - 1) \\cdot (n -2) \\cdot \\cdots \\cdot 2 \\cdot 1$\n",
    "\n",
    "    * Examples:\n",
    "        \n",
    "\\begin{align}\n",
    "    0! & = 1 \\quad \\text{(by definition, there is 1 way to order zero objects)} \\\\\n",
    "    1! & = 1 \\quad \\text{(1 way to order 1 object)} \\\\\n",
    "    2! & = 2 \\cdot 1 = 2 \\quad \\text{(2 ways to order 2 objects)} \\\\\n",
    "    3! & = 3 \\cdot 2 \\cdot 1 = 6 \\quad \\text{(6 ways to order 3 objects)} \\\\\n",
    "    4! & = 4 \\cdot 3 \\cdot 2 \\cdot 1 = 24 \\quad \\text{(24 ways to order 4 objects)} \\\\\n",
    "    5! & = 5 \\cdot 4 \\cdot 3 \\cdot 2 \\cdot 1 = 120 \\quad \\text{(120 ways to order 5 objects)} \\\\\n",
    "    & \\vdots\n",
    "\\end{align}"
   ]
  },
  {
   "cell_type": "markdown",
   "metadata": {
    "slideshow": {
     "slide_type": "fragment"
    }
   },
   "source": [
    "##### Example 1\n",
    "\n",
    "Suppose you have 4 Skittles left in a package: yellow, green, orange, and red. Assuming you eat one at a time, in how many different ways can you eat these last 4 Skittles?"
   ]
  },
  {
   "cell_type": "markdown",
   "metadata": {
    "slideshow": {
     "slide_type": "fragment"
    }
   },
   "source": [
    "##### Solution:\n",
    "\n",
    "* We have 4 uniquely identifiable or 4 *distinguishable* objects\n",
    "\n",
    "* So we can determine the number of ways by using factorial:\n",
    "\n",
    "$$\n",
    "    4! = 4 \\cdot 3 \\cdot 2 \\cdot 1 = \\boxed{24}\n",
    "$$"
   ]
  },
  {
   "cell_type": "markdown",
   "metadata": {
    "slideshow": {
     "slide_type": "fragment"
    }
   },
   "source": [
    "##### Example 2\n",
    "\n",
    "How many different 26 letter words can be made from the English alphabet (real or imaginary) without repeating any letters?"
   ]
  },
  {
   "cell_type": "markdown",
   "metadata": {
    "slideshow": {
     "slide_type": "fragment"
    }
   },
   "source": [
    "##### Solution:\n",
    "\n",
    "* The English alphabet has 26 letters and we are making 26 letter words\n",
    "\n",
    "* So ultimatley we wish to organize 26 objects:\n",
    "\n",
    "$$\n",
    "    26! = 26 \\cdot 25 \\cdot 24 \\cdot \\cdots \\cdot 2 \\cdot 1 \\\\\n",
    "    26! = \\underbrace{4.0329 \\times 10^{26}}_{\\text{a really, really big number}}\n",
    "$$\n",
    "\n",
    "* Factorials grow kind of fast..."
   ]
  },
  {
   "cell_type": "markdown",
   "metadata": {
    "slideshow": {
     "slide_type": "fragment"
    }
   },
   "source": [
    "##### Permutation Formula\n",
    "\n",
    "* The number of permutations of $n$ distinct objects taken $r$ objects at a time is\n",
    "\n",
    "$$\n",
    "    _nP_r = \\cfrac{n!}{(n - r)!}\n",
    "$$\n",
    "\n",
    "where $r \\leq n$"
   ]
  },
  {
   "cell_type": "markdown",
   "metadata": {
    "slideshow": {
     "slide_type": "fragment"
    }
   },
   "source": [
    "##### Example 3\n",
    "\n",
    "Find the number of ways a fifteen character password could be made using only lower case English letters with no repeats."
   ]
  },
  {
   "cell_type": "markdown",
   "metadata": {
    "slideshow": {
     "slide_type": "fragment"
    }
   },
   "source": [
    "##### Solution:\n",
    "\n",
    "* We need only use the permutation formula with $n = 26$ and $r = 15$:\n",
    "\n",
    "$$\n",
    "    _{26}P_{15} = \\cfrac{26!}{(26 - 15)!} \\\\\n",
    "    _{26}P_{15} = \\cfrac{26!}{11!} \\\\\n",
    "    \\boxed{_{26}P_{15} = 1.0103 \\times 10^{19}}\n",
    "$$"
   ]
  },
  {
   "cell_type": "markdown",
   "metadata": {
    "slideshow": {
     "slide_type": "fragment"
    }
   },
   "source": [
    "##### Example 4\n",
    "\n",
    "Each year, 33 race cars start the Indianapolis 500. How many ways can the cars finish first, second, and third?"
   ]
  },
  {
   "cell_type": "markdown",
   "metadata": {
    "slideshow": {
     "slide_type": "fragment"
    }
   },
   "source": [
    "##### Solution:\n",
    "\n",
    "* We use the permutation formula with $n = 33$ and $r = 3$:\n",
    "\n",
    "$$\n",
    "    _{33}P_{3} = \\cfrac{33!}{(33 - 3)!} \\\\\n",
    "    _{33}P_{3} = \\cfrac{33!}{30!} \\\\\n",
    "    _{33}P_{3} = 33 \\cdot 32 \\cdot 31 \\\\\n",
    "    \\boxed{_{33}P_{3} = 32736}\n",
    "$$"
   ]
  },
  {
   "cell_type": "markdown",
   "metadata": {
    "slideshow": {
     "slide_type": "fragment"
    }
   },
   "source": [
    "##### Distinguishable Permutations\n",
    "\n",
    "* Suppose we want to order a group of objects for which some of the objects are the same:\n",
    "\n",
    "    * How many different *distinguishable* words (real or imaginary) can be made from reordering the letters in the word \"STATISTICS?\"\n",
    "    \n",
    "        * Since some letters are now repeated we can't just use $_{n}P_{r}$ because the ordering of the same letters is indistinguishable\n",
    "    \n",
    "        * So we need another formula"
   ]
  },
  {
   "cell_type": "markdown",
   "metadata": {
    "slideshow": {
     "slide_type": "fragment"
    }
   },
   "source": [
    "##### Distinguishable Permutations Formula\n",
    "\n",
    "* The number of **distinguishable permutations** of $n$ total objects and $k$ distinguishable objects, where $n_1$ are of one type, $n_2$ are of another type, and so on, is\n",
    "\n",
    "$$\n",
    "    \\cfrac{n!}{n_1! \\cdot n_2! \\cdot n_3! \\cdot \\cdots \\cdot n_k!}\n",
    "$$\n",
    "\n",
    "where $n_1 + n_2 + n_3 + \\cdots + n_k = n$"
   ]
  },
  {
   "cell_type": "markdown",
   "metadata": {
    "slideshow": {
     "slide_type": "fragment"
    }
   },
   "source": [
    "##### Example 5\n",
    "\n",
    "How many different distinguishable words (realy or imaginary) can be made from reordering the letters in the word \"STATISTICS?\""
   ]
  },
  {
   "cell_type": "markdown",
   "metadata": {
    "slideshow": {
     "slide_type": "fragment"
    }
   },
   "source": [
    "##### Solution:\n",
    "\n",
    "* There are three S's, three T's, one A, two I's, and one C\n",
    "\n",
    "* So we have $n_1 = 3$, $n_2 = 3$, $n_3 = 1$, $n_4 = 2$, and $n_5 = 1$\n",
    "\n",
    "* This gives us $n = n_1 + n_2 + n_3 + n_4 + n_5 = 10$ and $k = 5$\n",
    "\n",
    "* Therefore, we get\n",
    "\n",
    "$$\n",
    "    \\cfrac{n!}{n_1! \\cdot n_2! \\cdot n_3! \\cdot n_4! \\cdot n_5!} = \\cfrac{10!}{3! \\cdot 3! \\cdot 1! \\cdot 2! \\cdot 1!} \\\\\n",
    "    \\cfrac{n!}{n_1! \\cdot n_2! \\cdot n_3! \\cdot n_4! \\cdot n_5!} = \\cfrac{10!}{3! \\cdot 3! \\cdot 2!} \\\\\n",
    "    \\cfrac{n!}{n_1! \\cdot n_2! \\cdot n_3! \\cdot n_4! \\cdot n_5!} = \\boxed{50400}\n",
    "$$"
   ]
  },
  {
   "cell_type": "markdown",
   "metadata": {
    "slideshow": {
     "slide_type": "fragment"
    }
   },
   "source": [
    "##### Example 6\n",
    "\n",
    "A byte is a sequence of eight bits. A bit can be a 0 or a 1. In how many distinguishable ways can you have a byte with five 0's and three 1's?"
   ]
  },
  {
   "cell_type": "markdown",
   "metadata": {
    "slideshow": {
     "slide_type": "fragment"
    }
   },
   "source": [
    "##### Solution:\n",
    "\n",
    "* We only have two distinguishable objects: 0 and 1\n",
    "\n",
    "* We have $n_1 = 5$ 0's and $n_2 = 3$ 1's\n",
    "\n",
    "* This gives us $n = n_1 + n_2 = 8$ and $k = 2$\n",
    "\n",
    "* Therefore, we get\n",
    "\n",
    "$$\n",
    "    \\cfrac{n!}{n_1! \\cdot n_2!} = \\cfrac{8!}{5! \\cdot 3!} \\\\\n",
    "    \\cfrac{n!}{n_1! \\cdot n_2!} = \\boxed{56}\n",
    "$$"
   ]
  },
  {
   "cell_type": "markdown",
   "metadata": {
    "slideshow": {
     "slide_type": "slide"
    }
   },
   "source": [
    "##### Objective 2: Find the number of ways to choose several objects from a group without regard to order"
   ]
  },
  {
   "cell_type": "markdown",
   "metadata": {
    "slideshow": {
     "slide_type": "fragment"
    }
   },
   "source": [
    "##### Motivating Example\n",
    "\n",
    "* How many 5 card poker hands are possible?\n",
    "\n",
    "* Now the order does not matter (we can draw the cards in any order and we still have the same poker hand)\n",
    "\n",
    "* To avoid counting too many possibilities we need another formula..."
   ]
  },
  {
   "cell_type": "markdown",
   "metadata": {
    "slideshow": {
     "slide_type": "fragment"
    }
   },
   "source": [
    "##### Combination Formula\n",
    "\n",
    "* The number of combinations of $r$ objects selected from a group of $n$ objects *without regard to order* is\n",
    "\n",
    "$$\n",
    "    _{n}C_{r} = \\cfrac{n!}{(n - r)! \\cdot r!}\n",
    "$$\n",
    "\n",
    "where $r \\leq n$"
   ]
  },
  {
   "cell_type": "markdown",
   "metadata": {
    "slideshow": {
     "slide_type": "fragment"
    }
   },
   "source": [
    "##### Example 7\n",
    "\n",
    "How many 5 card poker hands are possible?"
   ]
  },
  {
   "cell_type": "markdown",
   "metadata": {
    "slideshow": {
     "slide_type": "fragment"
    }
   },
   "source": [
    "##### Solution:\n",
    "\n",
    "* Since we are working with a standard deck of playing cards $n = 52$ and we are drawing $r=5$ cards at a time:\n",
    "\n",
    "$$\n",
    "    _{52}C_{5} = \\cfrac{52!}{(52 - 5)! \\cdot 5!} \\\\\n",
    "    _{52}C_{5} = \\cfrac{52!}{47! \\cdot 5!} \\\\\n",
    "    \\boxed{_{52}C_{5} = 2598960}\n",
    "$$"
   ]
  },
  {
   "cell_type": "markdown",
   "metadata": {
    "slideshow": {
     "slide_type": "fragment"
    }
   },
   "source": [
    "##### Example 8\n",
    "\n",
    "In order to conduct an experiment, 4 subjects are randomly selected from a group of 20 subjects. How many different groups of four subjects are possible?"
   ]
  },
  {
   "cell_type": "markdown",
   "metadata": {
    "slideshow": {
     "slide_type": "fragment"
    }
   },
   "source": [
    "##### Solution:\n",
    "\n",
    "* Order does not matter: use combination:\n",
    "\n",
    "$$\n",
    "    _{20}C_{4} = \\cfrac{20!}{(20 - 4)! \\cdot 4!} \\\\\n",
    "    _{20}C_{4} = \\cfrac{20!}{16! \\cdot 4!} \\\\\n",
    "    \\boxed{_{20}C_{4} = 4845}\n",
    "$$"
   ]
  },
  {
   "cell_type": "markdown",
   "metadata": {
    "slideshow": {
     "slide_type": "slide"
    }
   },
   "source": [
    "##### Objective 3: Use counting principles to find probabilities"
   ]
  },
  {
   "cell_type": "markdown",
   "metadata": {
    "slideshow": {
     "slide_type": "fragment"
    }
   },
   "source": [
    "##### Example 9\n",
    "\n",
    "At a blood drive, 8 donors with type 0+ blood, 6 donors with type A+ blood, and 3 donors with type B+ blood are in line. In how many distinguishable ways can the donors be in line (by bloodtype)?"
   ]
  },
  {
   "cell_type": "markdown",
   "metadata": {
    "slideshow": {
     "slide_type": "fragment"
    }
   },
   "source": [
    "##### Solution:\n",
    "\n",
    "* Order matters so we need a permutation formula"
   ]
  },
  {
   "cell_type": "markdown",
   "metadata": {
    "slideshow": {
     "slide_type": "fragment"
    }
   },
   "source": [
    "* Just based on blood type alone there are indistinguishable ways to represent the order here"
   ]
  },
  {
   "cell_type": "markdown",
   "metadata": {
    "slideshow": {
     "slide_type": "fragment"
    }
   },
   "source": [
    "* So we need to use the formula $\\cfrac{n!}{n_1! \\cdot n_2! \\cdot n_3! \\cdot \\cdots \\cdot n_k!}$"
   ]
  },
  {
   "cell_type": "markdown",
   "metadata": {
    "slideshow": {
     "slide_type": "fragment"
    }
   },
   "source": [
    "* Applying the formula we have\n",
    "\n",
    "\\begin{align}\n",
    "    \\cfrac{n!}{n_1! \\cdot n_2! \\cdot n_3! \\cdot \\cdots \\cdot n_k!} & = \\cfrac{17!}{8! \\cdot 6! \\cdot 3!} \\\\\n",
    "    & = 2042040\n",
    "\\end{align}"
   ]
  },
  {
   "cell_type": "markdown",
   "metadata": {
    "slideshow": {
     "slide_type": "fragment"
    }
   },
   "source": [
    "##### Example 10\n",
    "\n",
    "A horse race has 12 entries. Assuming that there are no ties, what is the probability that the three horses owned by one person finish first, second, and third (without regard to order)?"
   ]
  },
  {
   "cell_type": "markdown",
   "metadata": {
    "slideshow": {
     "slide_type": "fragment"
    }
   },
   "source": [
    "##### Solution:\n",
    "\n",
    "* To determine the *total* number of possible outcomes we need to know all the ways we can order 12 horses in groups of 3 without regard to order: $_{12}C_{3} = 220$"
   ]
  },
  {
   "cell_type": "markdown",
   "metadata": {
    "slideshow": {
     "slide_type": "fragment"
    }
   },
   "source": [
    "* The desired number of outcomes for the event in question to occur is determined by $_{3}C_{3} = 1$"
   ]
  },
  {
   "cell_type": "markdown",
   "metadata": {
    "slideshow": {
     "slide_type": "fragment"
    }
   },
   "source": [
    "* So we have\n",
    "\n",
    "\\begin{align}\n",
    "    P(\\text{all three win}) & = \\cfrac{_{3}C_{3}}{_{12}C_{3}} \\\\\n",
    "    & = \\boxed{\\cfrac{1}{220}} \\\\\n",
    "    & \\approx 0.005\n",
    "\\end{align}"
   ]
  },
  {
   "cell_type": "markdown",
   "metadata": {
    "slideshow": {
     "slide_type": "fragment"
    }
   },
   "source": [
    "##### Example 11\n",
    "\n",
    "Find the probability of being dealt two clubs and one of each of the other three suits."
   ]
  },
  {
   "cell_type": "markdown",
   "metadata": {
    "slideshow": {
     "slide_type": "fragment"
    }
   },
   "source": [
    "##### Solution:\n",
    "\n",
    "* The total number of ways to draw 5 cards from a standard deck of playing cards without regard to order is $_{52}C_{5} = 2598960$\n",
    "\n",
    "* The event in question is obtaining two clubs and exactly one of each of the other suits\n",
    "\n",
    "    * All the ways we can draw two clubs (in any order): $_{13}C_{2} = 78$\n",
    "    \n",
    "    * The probability that we draw exactly one diamond: $_{13}C_{1} = 13$\n",
    "    \n",
    "    * The probability that we draw exactly one heart: $_{13}C_{1} = 13$\n",
    "    \n",
    "    * The probability that we draw exactly one spade: $_{13}C_{1} = 13$\n",
    "    \n",
    "    * Putting this together using the fundamental counting principal: $_{13}C_{2} \\cdot 13^3 = 78 \\cdot 13^3$"
   ]
  },
  {
   "cell_type": "markdown",
   "metadata": {
    "slideshow": {
     "slide_type": "fragment"
    }
   },
   "source": [
    "* Therefore, the probability is\n",
    "\n",
    "\\begin{align}\n",
    "    P(\\text{2 clubs, 1 of each other suit}) & = \\cfrac{_{13}C_{2} \\cdot 13^3}{_{52}C_{5}} \\\\\n",
    "    & = \\cfrac{78 \\cdot 13^3}{2598960} \\\\\n",
    "    & \\boxed{\\approx 0.066}\n",
    "\\end{align}"
   ]
  },
  {
   "cell_type": "markdown",
   "metadata": {
    "slideshow": {
     "slide_type": "fragment"
    }
   },
   "source": [
    "##### Example 12\n",
    "\n",
    "Find the probability of being dealth a full house (three cards of one rank and two cards of another rank)."
   ]
  },
  {
   "cell_type": "markdown",
   "metadata": {
    "slideshow": {
     "slide_type": "fragment"
    }
   },
   "source": [
    "##### Solution:\n",
    "\n",
    "* Again, the total number of ways to draw 5 cards from a standard ddeck of playing cards without regard to order is $_{52}C_{5} = 2598960$"
   ]
  },
  {
   "cell_type": "markdown",
   "metadata": {
    "slideshow": {
     "slide_type": "fragment"
    }
   },
   "source": [
    "* The event in question is obtaining three cards of one rank (e.g. three kings) and two of another rank (e.g. two aces)\n",
    "\n",
    "    * We have a total of thirteen ranks and only one of these ranks will consist of three cards in the hand: $_{13}C_{1} = 13$\n",
    "        * e.g. we might draw three cards of the rank of ace, three cards of the rank of king, or three cards of the rank of 5, etc, but we need to determine what rank we are drawing three of\n",
    "    \n",
    "    * Once the rank of the three cards is determined, we can draw any three suits of this rank: $_{4}C_{3}$\n",
    "    \n",
    "        * e.g. we might happen to draw the ace of spades, ace of diamonds, and ace of hearts; or perhaps the ace of spades, ace of hearts, and ace of clubs; etc\n",
    "    \n",
    "    * The above determines only three of the five cards\n",
    "\n",
    "    * The rank of the other two cards must be determined by the remaining twelve ranks: $_{12}C_{1}$\n",
    "\n",
    "        * e.g. if we have three aces, then the other rank must consist of any other rank other than ace\n",
    "    \n",
    "    * Once the rank of the two cards is determined, we can draw any two suits of this rank: $_{4}C_{2}$\n",
    "    \n",
    "        * e.g. we might happen to draw the king of clubs and the king of spades; or maybe the king of hearts and the king of clubs; etc"
   ]
  },
  {
   "cell_type": "markdown",
   "metadata": {
    "slideshow": {
     "slide_type": "fragment"
    }
   },
   "source": [
    "* We use the fundamental counting principal to determine the total number of ways the event can be satistfied: $_{13}C_{1} \\cdot _{4}C_{3} \\cdot _{12}C_{1} \\cdot _{4}C_{2}$"
   ]
  },
  {
   "cell_type": "markdown",
   "metadata": {
    "slideshow": {
     "slide_type": "fragment"
    }
   },
   "source": [
    "* Putting it all together:\n",
    "\n",
    "\\begin{align}\n",
    "    P(\\text{full house}) & = \\cfrac{_{13}C_{1} \\cdot _{4}C_{3} \\cdot _{12}C_{1} \\cdot _{4}C_{2}}{_{52}C_{5}} \\\\\n",
    "    & \\approx \\boxed{0.001}\n",
    "\\end{align}"
   ]
  },
  {
   "cell_type": "markdown",
   "metadata": {
    "slideshow": {
     "slide_type": "slide"
    }
   },
   "source": [
    "##### End of Section"
   ]
  }
 ],
 "metadata": {
  "celltoolbar": "Slideshow",
  "kernelspec": {
   "display_name": "Python 3",
   "language": "python",
   "name": "python3"
  },
  "language_info": {
   "codemirror_mode": {
    "name": "ipython",
    "version": 3
   },
   "file_extension": ".py",
   "mimetype": "text/x-python",
   "name": "python",
   "nbconvert_exporter": "python",
   "pygments_lexer": "ipython3",
   "version": "3.7.7"
  },
  "rise": {
   "enable_chalkboard": true,
   "theme": "sky",
   "transition": "zoom"
  }
 },
 "nbformat": 4,
 "nbformat_minor": 4
}
