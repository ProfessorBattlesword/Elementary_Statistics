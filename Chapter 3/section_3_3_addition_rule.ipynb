{
 "cells": [
  {
   "cell_type": "markdown",
   "metadata": {
    "slideshow": {
     "slide_type": "slide"
    }
   },
   "source": [
    "# Chapter 3: Probability"
   ]
  },
  {
   "cell_type": "markdown",
   "metadata": {
    "slideshow": {
     "slide_type": "slide"
    }
   },
   "source": [
    "### Section 3.3: The Addition Rule\n",
    "\n",
    "### Section Objectives:\n",
    "##### Objective 1: Determining if two events are mutually exclusive\n",
    "##### Objective 2: Using the addition rule to find the probability of two events"
   ]
  },
  {
   "cell_type": "markdown",
   "metadata": {
    "slideshow": {
     "slide_type": "slide"
    }
   },
   "source": [
    "##### Objective 1: Determining if two events are mutually exclusive"
   ]
  },
  {
   "cell_type": "markdown",
   "metadata": {
    "slideshow": {
     "slide_type": "fragment"
    }
   },
   "source": [
    "##### Mutually Exclusive Events\n",
    "\n",
    "* Two events $A$ and $B$ are **mutually exclusive** when $A$ and $B$ cannot occur at the same time"
   ]
  },
  {
   "cell_type": "markdown",
   "metadata": {
    "slideshow": {
     "slide_type": "fragment"
    }
   },
   "source": [
    "##### Example 1\n",
    "\n",
    "Determine if the following events are mutually exclusive.\n",
    "\n",
    "**(a)**\n",
    "\n",
    "* Event $A$: Rolling a 5 on a six-sided die\n",
    "* Event $B$: Rolling a 1 on a six-sided die\n",
    "\n",
    "**(b)**\n",
    "\n",
    "* Event $A$: Flipping heads on a coin\n",
    "* Event $B$: Flipping tails on a coin\n",
    "\n",
    "**(c)**\n",
    "\n",
    "* Event $A$: Randomly selecting female blood donor\n",
    "* Event $B$: Randomly selecting a person with type O blood\n",
    "\n",
    "**(d)**\n",
    "\n",
    "* Event $A$: Drawing an ace from a standard 52 card deck\n",
    "* Event $B$: Drawing a heart from a standard 52 card deck"
   ]
  },
  {
   "cell_type": "markdown",
   "metadata": {
    "slideshow": {
     "slide_type": "fragment"
    }
   },
   "source": [
    "##### Solution:\n",
    "\n",
    "**(a)** A and B are mutually exclusive\n",
    "\n",
    "**(b)** A and B are mutually exclusive\n",
    "\n",
    "**(c)** A and B are not mutually exclusive\n",
    "\n",
    "**(d)** A and B are not mutually exclusive"
   ]
  },
  {
   "cell_type": "markdown",
   "metadata": {
    "slideshow": {
     "slide_type": "slide"
    }
   },
   "source": [
    "##### Objective 2: Using the addition rule to find the probability of two events"
   ]
  },
  {
   "cell_type": "markdown",
   "metadata": {
    "slideshow": {
     "slide_type": "fragment"
    }
   },
   "source": [
    "##### Addition Rule\n",
    "\n",
    "* For two events $A$ and $B$ the probability of one *or* the other occuring is given by\n",
    "\n",
    "$$\n",
    "        P(A \\text{ or } B) = P(A) + P(B) - P(A \\text{ and } B)\n",
    "$$\n",
    "    \n",
    "* If $A$ and $B$ are mutually exclusive, then\n",
    "\n",
    "$$\n",
    "        P(A \\text{ or } B) = P(A) + P(B)\n",
    "$$\n",
    "    \n",
    "* The rule for mutually exclusive events can be extended to however many mutually exclusive events you may have"
   ]
  },
  {
   "cell_type": "markdown",
   "metadata": {
    "slideshow": {
     "slide_type": "fragment"
    }
   },
   "source": [
    "##### Example 2\n",
    "\n",
    "You draw a sing card from a standard deck of 52 playing cards.\n",
    "\n",
    "**(a)** Find the probability of drawing an ace or a king from a standard deck of\n",
    "52 playing cards.\n",
    "\n",
    "**(b)** Find the probability of drawing an ace or a diamond from a standard deck\n",
    "of 52 playing cards.\n",
    "\n",
    "**(c)** Find the probability of drawing a heart or a number card from a standard\n",
    "deck of 52 playing cards."
   ]
  },
  {
   "cell_type": "markdown",
   "metadata": {
    "slideshow": {
     "slide_type": "fragment"
    }
   },
   "source": [
    "##### Solution:\n",
    "\n",
    "**(a)** You draw a card at random from a standard deck of playing cards. Find the probability of drawing an ace or a king.\n",
    "\n",
    "* Since we are drawing only one card, we cannot draw an ace and a king simultaneously\n",
    "\n",
    "* Therefore, $P(\\text{ace or king}) = P(\\text{ace}) + P(\\text{king})$:\n",
    "\n",
    "\\begin{align}\n",
    "        P(\\text{ace or king}) & = P(\\text{ace}) + P(\\text{king}) \\\\\n",
    "        & = \\cfrac{4}{52} + \\cfrac{4}{52} \\\\\n",
    "        & = \\cfrac{8}{52} \\\\\n",
    "        P(\\text{ace or king}) & = \\boxed{\\cfrac{2}{13}}\n",
    "\\end{align}"
   ]
  },
  {
   "cell_type": "markdown",
   "metadata": {
    "slideshow": {
     "slide_type": "fragment"
    }
   },
   "source": [
    "**(b)** Find the probability of drawing an ace or a diamond from a standard deck\n",
    "of 52 playing cards.\n",
    "\n",
    "* Now, even though we are drawing only one card, we could end up drawing an ace and a diamond simultaneously (if we drew the *ace of diamonds*):\n",
    "\n",
    "$$\n",
    "        P(\\text{ace and diamond}) = \\cfrac{1}{52}\n",
    "$$\n",
    "\n",
    "* Therefore\n",
    "\n",
    "\\begin{align}\n",
    "        P(\\text{ace or diamond}) & = P(\\text{ace}) + P(\\text{diamond}) - P(\\text{ace and diamond}) \\\\\n",
    "        & = \\cfrac{4}{52} + \\cfrac{13}{52} - \\cfrac{1}{52} \\\\\n",
    "        & = \\cfrac{16}{52} \\\\\n",
    "        P(\\text{ace or diamond}) & = \\boxed{\\cfrac{4}{13}}\n",
    "\\end{align}"
   ]
  },
  {
   "cell_type": "markdown",
   "metadata": {
    "slideshow": {
     "slide_type": "fragment"
    }
   },
   "source": [
    "**(c)** Find the probability of drawing a heart or a number card from a standard\n",
    "deck of 52 playing cards.\n",
    "\n",
    "* Again, even though we are drawing only one card, we could end up drawing a heat and a number card simultaneously (there are 9 number cards that are hearts):\n",
    "\n",
    "$$\n",
    "        P(\\text{heart and number}) = \\cfrac{9}{52}\n",
    "$$\n",
    "\n",
    "* Note that there are 13 total hearts and 36 total number cards (9 number cards for each of the 4 suits) in a standard deck of cards\n",
    "\n",
    "* Therefore\n",
    "\n",
    "\\begin{align}\n",
    "        P(\\text{heart or number}) & = P(\\text{heart}) + P(\\text{number}) - P(\\text{heart and number}) \\\\\n",
    "        & = \\cfrac{13}{52} + \\cfrac{36}{52} - \\cfrac{9}{52} \\\\\n",
    "        & = \\cfrac{40}{52} \\\\\n",
    "        P(\\text{heart or number}) & = \\boxed{\\cfrac{10}{13}}\n",
    "\\end{align}"
   ]
  },
  {
   "cell_type": "markdown",
   "metadata": {
    "slideshow": {
     "slide_type": "fragment"
    }
   },
   "source": [
    "##### Example 3\n",
    "\n",
    "You roll a six-sided die. Find the probability of the following events.\n",
    "\n",
    "**(a)** Rolling a 3 or a 5\n",
    "\n",
    "**(b)** Rolling a 3 and a 5\n",
    "\n",
    "**(c)** Rolling a number between 3 and 5 inclusive or rolling an even number\n",
    "\n",
    "**(d)** Rolling a number between 3 and 5 not inclusive or rolling an even number"
   ]
  },
  {
   "cell_type": "markdown",
   "metadata": {
    "slideshow": {
     "slide_type": "fragment"
    }
   },
   "source": [
    "##### Solution:\n",
    "\n",
    "**(a)** Rolling a 3 or a 5\n",
    "\n",
    "* We cannot roll a 3 and a 5 simultaneously so we can just add the individual probabilities:\n",
    "\n",
    "\\begin{align}\n",
    "        P(3 \\text{ or } 5) & = P(3) + P(5) \\\\\n",
    "        & = \\cfrac{1}{6} + \\cfrac{1}{6} \\\\\n",
    "        & = \\cfrac{2}{6} \\\\\n",
    "       P(3 \\text{ or } 5) & = \\boxed{\\cfrac{1}{3}}\n",
    "\\end{align}"
   ]
  },
  {
   "cell_type": "markdown",
   "metadata": {
    "slideshow": {
     "slide_type": "fragment"
    }
   },
   "source": [
    "**(b)** Rolling a 3 and a 5\n",
    "\n",
    "* Since we cannot roll a 3 *and* a 5 at the same time (these events are mutually exclusive):\n",
    "\n",
    "\\begin{align}\n",
    "        P(3 \\text{ and } 5) & = \\boxed{0}\n",
    "\\end{align}"
   ]
  },
  {
   "cell_type": "markdown",
   "metadata": {
    "slideshow": {
     "slide_type": "fragment"
    }
   },
   "source": [
    "**(c)** Rolling a number between 3 and 5 inclusive or rolling an even number\n",
    "\n",
    "* Let $A$ be the event rolling a number between 3 and 5 inclusive and $B$ be the event rolling an even number\n",
    "\n",
    "* The probability of rolling a number between 3 and 5 inclusive *and* rolling an even number can only occur if the number we roll is a 4:\n",
    "\n",
    "$$\n",
    "        P(A \\text{ and } B) = P(4) = \\cfrac{1}{6} \n",
    "$$\n",
    "\n",
    "* Now applying our addition rule:\n",
    "\n",
    "\\begin{align}\n",
    "        P(A \\text{ or } B) & = P(A) + P(B) - P(A \\text{ and } B) \\\\\n",
    "        & = \\cfrac{3}{6} + \\cfrac{3}{6} - \\cfrac{1}{6} \\\\\n",
    "        & = \\boxed{\\cfrac{5}{6}}\n",
    "\\end{align}"
   ]
  },
  {
   "cell_type": "markdown",
   "metadata": {
    "slideshow": {
     "slide_type": "fragment"
    }
   },
   "source": [
    "**(d)** Rolling a number between 3 and 5 not inclusive or rolling an even number\n",
    "\n",
    "* Let $A$ be the event rolling a number between 3 and 5 not inclusive and $B$ be the event rolling an even number\n",
    "\n",
    "* The probability of rolling a number between 3 and 5 not inclusive *and* rolling an even number can only occur if the number we roll is a 4 (just as before in part **(c)**):\n",
    "\n",
    "$$\n",
    "        P(A \\text{ and } B) = P(4) = \\cfrac{1}{6} \n",
    "$$\n",
    "\n",
    "* The probabiliy of event $A$ is also the same as rolling a 4:\n",
    "\n",
    "$$\n",
    "        P(A) = \\cfrac{1}{6}\n",
    "$$\n",
    "\n",
    "* Now applying our addition rule:\n",
    "\n",
    "\\begin{align}\n",
    "        P(A \\text{ or } B) & = P(A) + P(B) - P(A \\text{ and } B) \\\\\n",
    "        & = \\cfrac{1}{6} + \\cfrac{3}{6} - \\cfrac{1}{6} \\\\\n",
    "        & = \\cfrac{3}{6} \\\\\n",
    "        & = \\boxed{\\cfrac{1}{2}}\n",
    "\\end{align}"
   ]
  },
  {
   "cell_type": "markdown",
   "metadata": {
    "slideshow": {
     "slide_type": "fragment"
    }
   },
   "source": [
    "##### Example 4\n",
    "\n",
    "A blood bank catalogs the types of blood, including positive or negative Rh-factor, given by donors during the last five days. The number of donors who gave each blood type is shown in the table below. A donor is selected at random.\n",
    "\n",
    "||O|A|B|AB|Total|\n",
    "|:-:|:-:|:-:|:-:|:-:|:-:|\n",
    "|Positive|156|139|37|12|344|\n",
    "|Negative|28|25|8|4|65|\n",
    "|Total|184|164|45|16|409|\n",
    "\n",
    "**(a)** Find the probability that the donor has type O or type A blood.\n",
    "\n",
    "**(b)** Find the probability that the donor has type B blood or is Rh-negative."
   ]
  },
  {
   "cell_type": "markdown",
   "metadata": {
    "slideshow": {
     "slide_type": "fragment"
    }
   },
   "source": [
    "##### Solution:\n",
    "\n",
    "**(a)** Find the probability that the donor has type O or type A blood.\n",
    "\n",
    "* A person cannot have two blood types simultaneously so these events are mutually exclusive\n",
    "\n",
    "* Therefore\n",
    "\n",
    "\\begin{align}\n",
    "        P(O \\text{ or } A) & = P(O) + P(A) \\\\\n",
    "        & = \\cfrac{184}{409} + \\cfrac{164}{409} \\\\\n",
    "        & = \\boxed{\\cfrac{348}{409}}\n",
    "\\end{align}"
   ]
  },
  {
   "cell_type": "markdown",
   "metadata": {
    "slideshow": {
     "slide_type": "fragment"
    }
   },
   "source": [
    "**(b)** Find the probability that the donor has type B blood or is Rh-negative.\n",
    "\n",
    "* These events are *not* mutually exclusive since a person can have type B blood with a negative Rh factor (type B$^{-}$ blood):\n",
    "\n",
    "$$\n",
    "        P(\\text{B}^{-}) = \\cfrac{8}{409}\n",
    "$$\n",
    "\n",
    "* Applying the addition rule:\n",
    "\n",
    "\\begin{align}\n",
    "        P(\\text{B or Rh-negative}) & = P(\\text{B}) + P(\\text{Rh-negative}) - P(\\text{B}^{-}) \\\\\n",
    "        & = \\cfrac{45}{409} + \\cfrac{65}{409} - \\cfrac{8}{409} \\\\\n",
    "        & = \\boxed{\\cfrac{102}{409}}\n",
    "\\end{align}"
   ]
  },
  {
   "cell_type": "markdown",
   "metadata": {
    "slideshow": {
     "slide_type": "slide"
    }
   },
   "source": [
    "##### End of Section"
   ]
  }
 ],
 "metadata": {
  "celltoolbar": "Slideshow",
  "kernelspec": {
   "display_name": "Python 3",
   "language": "python",
   "name": "python3"
  },
  "language_info": {
   "codemirror_mode": {
    "name": "ipython",
    "version": 3
   },
   "file_extension": ".py",
   "mimetype": "text/x-python",
   "name": "python",
   "nbconvert_exporter": "python",
   "pygments_lexer": "ipython3",
   "version": "3.7.6"
  },
  "rise": {
   "enable_chalkboard": true,
   "theme": "sky",
   "transition": "zoom"
  }
 },
 "nbformat": 4,
 "nbformat_minor": 4
}
