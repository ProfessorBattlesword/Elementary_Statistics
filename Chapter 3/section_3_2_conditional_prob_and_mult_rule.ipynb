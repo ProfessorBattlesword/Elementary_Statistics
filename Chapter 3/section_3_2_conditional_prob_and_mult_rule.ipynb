{
 "cells": [
  {
   "cell_type": "markdown",
   "metadata": {
    "slideshow": {
     "slide_type": "slide"
    }
   },
   "source": [
    "# Chapter 3: Probability"
   ]
  },
  {
   "cell_type": "markdown",
   "metadata": {
    "slideshow": {
     "slide_type": "slide"
    }
   },
   "source": [
    "### Section 3.2: Conditional Probability and the Multiplication Rule\n",
    "\n",
    "### Section Objectives:\n",
    "##### Objective 1: Finding probability of an event given that another event has occurred\n",
    "##### Objective 2: Distinguishing between independent and dependent events\n",
    "##### Objective 3: Using the Multiplication Rule to find the probability of two or more events occurring in sequence and to find conditional probabilities"
   ]
  },
  {
   "cell_type": "markdown",
   "metadata": {
    "slideshow": {
     "slide_type": "slide"
    }
   },
   "source": [
    "##### Objective 1: Finding probability of an event given that another event has occurred"
   ]
  },
  {
   "cell_type": "markdown",
   "metadata": {
    "slideshow": {
     "slide_type": "fragment"
    }
   },
   "source": [
    "##### Conditional Probability\n",
    "\n",
    "* A **conditional probability** is the probability of an event occuring, given that another event has already occured\n",
    "    * The notation $P(B|A)$ represents the probability of event $B$ given that event $A$ has already occurred and is read as \"the probability of $B$ given $A$\""
   ]
  },
  {
   "cell_type": "markdown",
   "metadata": {
    "slideshow": {
     "slide_type": "fragment"
    }
   },
   "source": [
    "##### Example 1\n",
    "\n",
    "Two cards are selected in sequence from a standard deck of 52 playing cards without replacement. Find the probability that the second card is a queen, given that the first card is a king."
   ]
  },
  {
   "cell_type": "markdown",
   "metadata": {
    "slideshow": {
     "slide_type": "fragment"
    }
   },
   "source": [
    "##### Solution:\n",
    "\n",
    "* Without replacement means once we have drawn a card, we do not place that card back into the deck before drawing the next card\n",
    "* If $K$ represents the event drawing a king and $Q$ represents the event drawing a queen, then we wish to find $P(Q|K)$ (the probability that we draw a queen, given that we first drew a king)\n",
    "* Since we know we drew a king for the first card, and we are performing this in sequence without replacement there would only be 51 cards left in the deck\n",
    "* Since we know the first card drawn is a king, all 4 queens are still in the deck\n",
    "* Therefore, our desired possible outcomes consists of 4 queens out of a total of 51 cards that are left:\n",
    "$$\n",
    "    \\boxed{P(Q|K) = \\cfrac{4}{51} \\approx 0.078}\n",
    "$$\n",
    "or about a $7.8\\%$ chance"
   ]
  },
  {
   "cell_type": "markdown",
   "metadata": {
    "slideshow": {
     "slide_type": "fragment"
    }
   },
   "source": [
    "##### Example 2\n",
    "\n",
    "The table below shows the results of a study in which researchers examined a child's IQ and the presence of a specific gene in the child. Find the probability that a child has a high IQ, given that the child has the gene.\n",
    "\n",
    "||Gene present|Gene not present|Total|\n",
    "|:-:|:-:|:-:|:-:|\n",
    "|High IQ|33|19|52|\n",
    "|Normal IQ|39|11|50|\n",
    "|Total|72|30|102|"
   ]
  },
  {
   "cell_type": "markdown",
   "metadata": {
    "slideshow": {
     "slide_type": "fragment"
    }
   },
   "source": [
    "##### Solution:\n",
    "\n",
    "||$\\color{green}{\\text{Gene present}}$|Gene not present|Total|\n",
    "|:-:|:-:|:-:|:-:|\n",
    "|High IQ|$\\color{green}{33}$|19|52|\n",
    "|Normal IQ|$\\color{green}{39}$|11|50|\n",
    "|Total|$\\color{green}{72}$|30|102|\n",
    "\n",
    "* Let event $A$ be a child who has the gene and event $B$ be a child with a high IQ\n",
    "* Since we are given that $A$ occurred, we are only dealing with values in the Gene present column\n",
    "* Now identify the row needed for our desired outcomes and calculate the probability:\n",
    "$$\n",
    "    \\boxed{P(B|A) = \\cfrac{33}{72} \\approx 0.458}\n",
    "$$"
   ]
  },
  {
   "cell_type": "markdown",
   "metadata": {
    "slideshow": {
     "slide_type": "fragment"
    }
   },
   "source": [
    "##### Example 3\n",
    "\n",
    "The table below shows the results of a study in which researchers examined a child's IQ and the presence of a specific gene in the child. Find the probability that a child does not have the gene, given that the child has a high IQ.\n",
    "\n",
    "||Gene present|Gene not present|Total|\n",
    "|:-:|:-:|:-:|:-:|\n",
    "|High IQ|33|19|52|\n",
    "|Normal IQ|39|11|50|\n",
    "|Total|72|30|102|"
   ]
  },
  {
   "cell_type": "markdown",
   "metadata": {
    "slideshow": {
     "slide_type": "fragment"
    }
   },
   "source": [
    "##### Solution:\n",
    "\n",
    "||Gene present|Gene not present|Total|\n",
    "|:-:|:-:|:-:|:-:|\n",
    "|$\\color{green}{\\text{High IQ}}$|$\\color{green}{33}$|$\\color{green}{19}$|$\\color{green}{52}$|\n",
    "|Normal IQ|39|11|50|\n",
    "|Total|72|30|102|\n",
    "\n",
    "* Let event $A$ be a child who has a high IQ and event $B$ be a child who does not have the gene\n",
    "* Since we are given that $A$ has occurred, we are only dealing with values in the High IQ row\n",
    "* Now identify the column needed for our desired outcomes and calculate the probability:\n",
    "$$\n",
    "    \\boxed{P(B|A) = \\cfrac{19}{52} \\approx 0.365}\n",
    "$$"
   ]
  },
  {
   "cell_type": "markdown",
   "metadata": {
    "slideshow": {
     "slide_type": "slide"
    }
   },
   "source": [
    "##### Objective 2: Distinguishing between independent and dependent events"
   ]
  },
  {
   "cell_type": "markdown",
   "metadata": {
    "slideshow": {
     "slide_type": "fragment"
    }
   },
   "source": [
    "##### Independent and Dependent Events\n",
    "\n",
    "* Two events are **independent** when the occurrence of one of the events does not affect the probability of the occurrence of the other event\n",
    "    * Notationally this means $P(B|A) = P(B)$ and $P(A|B) = P(A)$\n",
    "* Events that are not independent are **dependent.**"
   ]
  },
  {
   "cell_type": "markdown",
   "metadata": {
    "slideshow": {
     "slide_type": "fragment"
    }
   },
   "source": [
    "##### Example 4\n",
    "\n",
    "Determine whether the events are independent or dependent.\n",
    "\n",
    "**(a)** Selecting a king (event $A$) from a standard deck of 52 playing cards, not replacing it, and then selecting a queen (event $B$) from the deck.\n",
    "\n",
    "**(b)** Tossing a coin and getting a head (event $A$), and then rolling a six-sided die and obtaining a 6 (event $B$)\n",
    "\n",
    "**(c)** Driving over 85 miles per hour (event $A$), and then getting in a car accident (event $B$)."
   ]
  },
  {
   "cell_type": "markdown",
   "metadata": {
    "slideshow": {
     "slide_type": "fragment"
    }
   },
   "source": [
    "##### Solution:\n",
    "\n",
    "**(a)**\n",
    "\n",
    "* $P(B|A) = \\cfrac{4}{51}$ while $P(B) = \\cfrac{4}{52} = \\cfrac{1}{13}$\n",
    "* Therefore, $P(B|A) \\neq P(B) \\Rightarrow$ $A$ and $B$ are *dependent events*"
   ]
  },
  {
   "cell_type": "markdown",
   "metadata": {
    "slideshow": {
     "slide_type": "fragment"
    }
   },
   "source": [
    "**(b)**\n",
    "\n",
    "* $P(B|A) = \\cfrac{1}{6}$ and $P(B) = \\cfrac{1}{6}$\n",
    "\n",
    "* Therefore, $P(B|A) = P(B) \\Rightarrow$ $A$ and $B$ are *independent events*"
   ]
  },
  {
   "cell_type": "markdown",
   "metadata": {
    "slideshow": {
     "slide_type": "fragment"
    }
   },
   "source": [
    "**(c)**\n",
    "\n",
    "* A bit of common sense is necessary here\n",
    "\n",
    "* For example, let's assume we are not cruising on a long road trip on I-20 in west Texas, and we're within DFW city limits; most speed limits here are well below 85 mph\n",
    "\n",
    "* With typical speed limits well below 85 mph, common sense would tell us that driving well over the posted speed limit will increase chances of getting into a wreck\n",
    "\n",
    "* Therefore, $A$ and $B$ are *dependent events* since event $A$ affects the probability of event $B$"
   ]
  },
  {
   "cell_type": "markdown",
   "metadata": {
    "slideshow": {
     "slide_type": "slide"
    }
   },
   "source": [
    "##### Objective 3: Using the Multiplication Rule to find the probability of two or more events occurring in sequence and to find conditional probabilities"
   ]
  },
  {
   "cell_type": "markdown",
   "metadata": {
    "slideshow": {
     "slide_type": "fragment"
    }
   },
   "source": [
    "##### The Multiplication Rule\n",
    "\n",
    "* The probability that two events $A$ and $B$ will occur in sequence is\n",
    "\n",
    "$$\n",
    "        P(A \\text{ and } B) = P(A) \\cdot P(B|A)\n",
    "$$\n",
    "\n",
    "* If $A$ and $B$ are independent, then\n",
    "\n",
    "$$\n",
    "        P(A \\text{ and } B) = P(A) \\cdot P(B)\n",
    "$$"
   ]
  },
  {
   "cell_type": "markdown",
   "metadata": {
    "slideshow": {
     "slide_type": "fragment"
    }
   },
   "source": [
    "##### Example 5\n",
    "\n",
    "**(a)** Two cards are drawn at random without replacement from a standard deck of playing cards. Find the probability of drawing a king and then selecting a queen.\n",
    "\n",
    "**(b)** Two cards are drawn at random without replacement from a standard deck of playing cards. Find the probability of drawing a heart and then selecting a spade.\n",
    "\n",
    "**(c)** You draw two cards at random without replacement from a standard deck of playing cards. Find the probability of drawing two diamonds.\n",
    "\n",
    "**(d)** You draw two cards at random without replacement from a standard deck of playing cards. Find the probability of drawing two cards of the same suit."
   ]
  },
  {
   "cell_type": "markdown",
   "metadata": {
    "slideshow": {
     "slide_type": "fragment"
    }
   },
   "source": [
    "##### Solution:\n",
    "\n",
    "**(a)** Two cards are drawn at random without replacement from a standard deck of playing cards. Find the probability of drawing a king and then selecting a queen.\n",
    "\n",
    "* Let $Q$ be the event that we draw a queen and $K$ be the event that we draw a king\n",
    "\n",
    "* We wish to find $P(K \\text{ and } Q)$ so we need to find $P(K)$ and $P(Q|K)$:\n",
    "    \n",
    "    * $P(K) = \\cfrac{4}{52} = \\cfrac{1}{13}$\n",
    "    \n",
    "    * $P(Q|K) = \\cfrac{4}{51}$\n",
    "\n",
    "* Now we apply the formula:\n",
    "\n",
    "\\begin{align}\n",
    "        P(K \\text{ and } Q) & = P(K) \\cdot P(Q|K) \\\\\n",
    "        & = \\cfrac{1}{13} \\cdot \\cfrac{4}{51} \\\\\n",
    "        P(K \\text{ and } Q) & = \\boxed{\\cfrac{4}{663}}\n",
    "\\end{align}"
   ]
  },
  {
   "cell_type": "markdown",
   "metadata": {
    "slideshow": {
     "slide_type": "fragment"
    }
   },
   "source": [
    "**(b)** Two cards are drawn at random without replacement from a standard deck of playing cards. Find the probability of drawing a heart and then selecting a spade.\n",
    "\n",
    "* Let $H$ be the event that we draw a heart and $S$ be the event that we draw a spade\n",
    "\n",
    "* We wish to find $P(H \\text{ and } S)$ so we need to find $P(H)$ and $P(S|H)$:\n",
    "    \n",
    "    * $P(H) = \\cfrac{13}{52} = \\cfrac{1}{4}$\n",
    "    \n",
    "    * $P(S|H) = \\cfrac{13}{51}$\n",
    "\n",
    "* Now we apply the formula:\n",
    "\n",
    "\\begin{align}\n",
    "        P(H \\text{ and } S) & = P(H) \\cdot P(S|H) \\\\\n",
    "        & = \\cfrac{1}{4} \\cdot \\cfrac{13}{51} \\\\\n",
    "        P(H \\text{ and } S) & = \\boxed{\\cfrac{13}{204}}\n",
    "\\end{align}"
   ]
  },
  {
   "cell_type": "markdown",
   "metadata": {
    "slideshow": {
     "slide_type": "fragment"
    }
   },
   "source": [
    "**(c)** You draw two cards at random without replacement from a standard deck of playing cards. Find the probability of drawing two diamonds.\n",
    "\n",
    "* Let $D$ be the event that we draw a diamond\n",
    "\n",
    "* We wish to find $P(D \\text{ and } D)$ so we need to find $P(D)$ and $P(D|D)$:\n",
    "    \n",
    "    * $P(D) = \\cfrac{13}{52} = \\cfrac{1}{4}$\n",
    "    \n",
    "    * $P(D|D) = \\cfrac{12}{51} = \\cfrac{4}{17}$\n",
    "\n",
    "* Now we apply the formula:\n",
    "\n",
    "\\begin{align}\n",
    "        P(D \\text{ and } D) & = P(D) \\cdot P(D|D) \\\\\n",
    "        & = \\cfrac{1}{4} \\cdot \\cfrac{4}{17} \\\\\n",
    "        P(D \\text{ and } D) & = \\boxed{\\cfrac{1}{17}}\n",
    "\\end{align}"
   ]
  },
  {
   "cell_type": "markdown",
   "metadata": {
    "slideshow": {
     "slide_type": "fragment"
    }
   },
   "source": [
    "**(d)** You draw two cards at random without replacement from a standard deck of playing cards. Find the probability of drawing two cards of the same suit.\n",
    "\n",
    "* We don't necessarily know what suit we will draw for the first card, however, whatever we draw for the second card must be the same suit as the first\n",
    "\n",
    "* One thing we can say for sure is that the probability of drawing a card that *has* a suit is a guarentee\n",
    "    * If we let $A$ be the event that the first card has a suit, then\n",
    "    \n",
    "$$\n",
    "        P(A) = \\cfrac{52}{52} = 1\n",
    "$$\n",
    "\n",
    "* Drawing the second card, the suit matters, but it depends on what the first suit is. However, one thing we can say about the second card is whatever suit we drew for the first card, since there are 13 of any given suit, there are 12 cards of that suit left.\n",
    "    \n",
    "    * If we let $B$ be the event that the second card has the same suit as the first, then\n",
    "\n",
    "$$\n",
    "        P(B) = \\cfrac{12}{51} = \\cfrac{4}{17}\n",
    "$$\n",
    "\n",
    "* Now using the multiplication rule we have\n",
    "\n",
    "\\begin{align}\n",
    "        P(\\text{Both cards have same suit}) & = P(B \\text{ and } A) \\\\\n",
    "        & = P(B) \\cdot P(B | A) \\\\\n",
    "        & = 1 \\cdot \\cfrac{4}{17} \\\\\n",
    "        P(B \\text{ and } A) & = \\boxed{\\cfrac{4}{17}}\n",
    "\\end{align}"
   ]
  },
  {
   "cell_type": "markdown",
   "metadata": {
    "slideshow": {
     "slide_type": "fragment"
    }
   },
   "source": [
    "##### Example 6\n",
    "\n",
    "What is the probability that three people chosen at random have the same birthday, given that none were born in a leap year?"
   ]
  },
  {
   "cell_type": "markdown",
   "metadata": {
    "slideshow": {
     "slide_type": "fragment"
    }
   },
   "source": [
    "##### Solution:\n",
    "\n",
    "* We can approach this problem similar to how we approached part **(d)** in the previous example:\n",
    "\n",
    "    * We know the first person selected has a birthday: $P(1^\\text{st}) = \\cfrac{365}{365} = 1$\n",
    "    \n",
    "    * We know the second person selected must have a birthday that matches the first persons: $P(2^\\text{nd}) = \\cfrac{1}{365}$\n",
    "    \n",
    "    * We know the third person selected must have a birthday that matches the same day as the first two: $P(3^\\text{rd}) = \\cfrac{1}{365}$\n",
    "    \n",
    "* Something different than the previous example is that these events are *independent* from one another; what day one person was born on does not affect what day somebody else is born on\n",
    "\n",
    "* So we can just directly multiply these probabilities together:\n",
    "    \n",
    "$$\n",
    "        P(\\text{All have same birthday}) = 1 \\cdot \\cfrac{1}{365} \\cdot \\cfrac{1}{365} \\\\\n",
    "        \\boxed{P(\\text{All have same birthday}) = \\cfrac{1}{133225}} \\\\\n",
    "        P(\\text{All have same birthday}) \\approx 7.5 \\times 10^{-6} \\; (\\text{this is an extremely unlikely event})\n",
    "$$"
   ]
  },
  {
   "cell_type": "markdown",
   "metadata": {
    "slideshow": {
     "slide_type": "slide"
    }
   },
   "source": [
    "##### End of Section"
   ]
  }
 ],
 "metadata": {
  "celltoolbar": "Slideshow",
  "kernelspec": {
   "display_name": "Python 3",
   "language": "python",
   "name": "python3"
  },
  "language_info": {
   "codemirror_mode": {
    "name": "ipython",
    "version": 3
   },
   "file_extension": ".py",
   "mimetype": "text/x-python",
   "name": "python",
   "nbconvert_exporter": "python",
   "pygments_lexer": "ipython3",
   "version": "3.7.6"
  },
  "rise": {
   "enable_chalkboard": true,
   "theme": "sky",
   "transition": "zoom"
  }
 },
 "nbformat": 4,
 "nbformat_minor": 4
}
