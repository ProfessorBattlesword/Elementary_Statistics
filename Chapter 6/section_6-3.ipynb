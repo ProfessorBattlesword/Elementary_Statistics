{
 "cells": [
  {
   "cell_type": "markdown",
   "metadata": {
    "slideshow": {
     "slide_type": "slide"
    }
   },
   "source": [
    "# Chapter 6: Confidence Intervals"
   ]
  },
  {
   "cell_type": "markdown",
   "metadata": {
    "slideshow": {
     "slide_type": "slide"
    }
   },
   "source": [
    "### Section 6.3: Confidence Intervals for Population Proportions"
   ]
  },
  {
   "cell_type": "markdown",
   "metadata": {
    "slideshow": {
     "slide_type": "fragment"
    }
   },
   "source": [
    "##### Objective 1: Finding a Point Estimate for a Population Proportion"
   ]
  },
  {
   "cell_type": "markdown",
   "metadata": {
    "slideshow": {
     "slide_type": "fragment"
    }
   },
   "source": [
    "##### Definitions:\n",
    "\n",
    "The <em><b>point estimate for, $p$,</b></em> the population proportion of successes, is given by the proportion of successes in a sample and is denoted by $\\hat{p} = \\frac{x}{n}$ where $x$ is the number of successes in the sample and $n$ is the sample size.\n",
    "\n",
    "The <em><b>point estimate for the population proportion of failures</b></em> is given by $\\hat{q} = 1 - \\hat{p}$."
   ]
  },
  {
   "cell_type": "markdown",
   "metadata": {
    "slideshow": {
     "slide_type": "fragment"
    }
   },
   "source": [
    "##### Example:\n",
    "\n",
    "In a random sample of 1000 U.S. adults, 372 had type O- blood. Find a point estimate for the population proportion of U.S. adults with type O- blood."
   ]
  },
  {
   "cell_type": "markdown",
   "metadata": {
    "slideshow": {
     "slide_type": "fragment"
    }
   },
   "source": [
    "##### Solution:\n",
    "\n",
    "$\\hat{p} = \\frac{x}{n} = \\frac{372}{1000} = 0.372$. So we can expect about $37.2\\%$ of U.S. adults to have type O- blood."
   ]
  },
  {
   "cell_type": "markdown",
   "metadata": {
    "slideshow": {
     "slide_type": "slide"
    }
   },
   "source": [
    "##### Objective 2: Constructing and Interpreting Confidence Intervals for a Population Proportion"
   ]
  },
  {
   "cell_type": "markdown",
   "metadata": {
    "slideshow": {
     "slide_type": "fragment"
    }
   },
   "source": [
    "##### Definition:\n",
    "\n",
    "A <em><b>$c$-confidence interval for a population proportion, $p$,</b></em> is given by $\\hat{p} - E < p < \\hat{p} + E$, where $E = z_c \\cdot \\sqrt{\\frac{\\hat{p}\\hat{q}}{n}}$.\n",
    "\n",
    "The probability that the confidence interval contains $p$ is $c$, assuming that the estimation process is repeated a large number of times.\n",
    "\n",
    "We can assumed the sampling distribution of $\\hat{p}$ is approximately normally distributed provided $n\\hat{p} \\geq 5$ <em>and</em> $n\\hat{q} \\geq 5$.\n",
    "\n",
    "Here our mean is $u_{\\hat{p}}= p$ and standard error is $\\sigma_{\\hat{p}} = \\sqrt{\\frac{pq}{n}}$."
   ]
  },
  {
   "cell_type": "markdown",
   "metadata": {
    "slideshow": {
     "slide_type": "fragment"
    }
   },
   "source": [
    "##### Constructing a Confidence Interval for a Population Proportion:\n",
    "\n",
    "1. Identify the sampel statistics $n$ and $x$.\n",
    "\n",
    "2. Find the point estimate $\\hat{p}$ (if $\\hat{p}$ is given, then it is not necessary to find $x$)\n",
    "\n",
    "3. Verify that the sampling distribution of $\\hat{p}$ can be approximated by a normal distribution ($n\\hat{p} \\geq 5$ and $n\\hat{q} \\geq 5$).\n",
    "\n",
    "4. Find the critical value $z_c$  that corresponds to the confidence level $c$ (we always use $z_c$ for confidence intervals for population proportions).\n",
    "\n",
    "5. Find the margin of error $E = z_c \\cdot \\sqrt{\\frac{\\hat{p}\\hat{q}}{n}}$.\n",
    "\n",
    "6. Find the left and right endpoints and form the confidence interval:\n",
    "\n",
    "\\begin{eqnarray}\n",
    "\\text{Left endpoint:} && \\hat{p} - E \\\\\n",
    "\\text{Right endpoint: } && \\hat{p} + E \\\\\n",
    "\\text{Interval: } && \\hat{p} - E < p < \\hat{p} + E\n",
    "\\end{eqnarray}"
   ]
  },
  {
   "cell_type": "markdown",
   "metadata": {
    "slideshow": {
     "slide_type": "fragment"
    }
   },
   "source": [
    "##### Example:\n",
    "\n",
    "In a random sample of 1000 U.S. adults, 372 had type O- blood. Construct a $95\\%$ confidence interval for the population proportion of U.S. adults who have type O- blood."
   ]
  },
  {
   "cell_type": "markdown",
   "metadata": {
    "slideshow": {
     "slide_type": "fragment"
    }
   },
   "source": [
    "##### Solution:\n",
    "\n",
    "1. We know that $n = 1000$ and $x = 372$."
   ]
  },
  {
   "cell_type": "markdown",
   "metadata": {
    "slideshow": {
     "slide_type": "fragment"
    }
   },
   "source": [
    "2. Therefore we have $\\hat{p} = \\frac{x}{n} = \\frac{372}{1000} = 0.372 \\Rightarrow \\hat{q} = 1 - \\hat{p} = 0.628$."
   ]
  },
  {
   "cell_type": "markdown",
   "metadata": {
    "slideshow": {
     "slide_type": "fragment"
    }
   },
   "source": [
    "3. We have $n\\hat{p} = 372 \\geq 5$ and $n\\hat{q} = 628 \\geq 5$"
   ]
  },
  {
   "cell_type": "markdown",
   "metadata": {
    "slideshow": {
     "slide_type": "fragment"
    }
   },
   "source": [
    "4. The level of confidence gives us a critical value: $c = 0.95 \\Rightarrow z_c = 1.96$"
   ]
  },
  {
   "cell_type": "markdown",
   "metadata": {
    "slideshow": {
     "slide_type": "fragment"
    }
   },
   "source": [
    "5. The margin of error is: $E = z_c \\cdot \\sqrt{\\frac{\\hat{p}\\hat{q}}{n}} = 1.96 \\sqrt{\\frac{0.372 \\cdot 0.628}{1000}} \\approx 0.030$"
   ]
  },
  {
   "cell_type": "markdown",
   "metadata": {
    "slideshow": {
     "slide_type": "fragment"
    }
   },
   "source": [
    "6. The interval is then:\n",
    "\n",
    "\\begin{eqnarray}\n",
    "\\text{Left endpoint:} && \\hat{p} - E = 0.372 - 0.030 = 0.342 \\\\\n",
    "\\text{Right endpoint: } && \\hat{p} + E = 0.372 + 0.030 = 0.402 \\\\\n",
    "\\text{Interval: } && \\boxed{0.342 < p < 0.402} \\text{ or } \\boxed{(0.342,0.402)}\n",
    "\\end{eqnarray}\n",
    "\n",
    "So with $95\\%$ confidence, we can say that the population proportion of U.S. adults who have type O- blood is between $34.2\\%$ and $40.2\\%$."
   ]
  },
  {
   "cell_type": "markdown",
   "metadata": {
    "slideshow": {
     "slide_type": "slide"
    }
   },
   "source": [
    "##### Example:\n",
    "\n",
    "A survey of 498 U.S. adults asking, \"Who are the more dangerous drivers?\" resulted in $71\\%$ saying teenagers, $25\\%$ saying people over the age of 65, and $4\\%$ having no opinion. Construct a $99\\%$ confidence interval for the population proportion of U.S. adults who think that teenagers are the more dangerous drivers."
   ]
  },
  {
   "cell_type": "markdown",
   "metadata": {
    "slideshow": {
     "slide_type": "fragment"
    }
   },
   "source": [
    "##### Solution:\n",
    "\n",
    "1. Here we know that $n = 498$ U.S. adults are part of the survey. We actually don't need to find the number of successes, $x$, since:"
   ]
  },
  {
   "cell_type": "markdown",
   "metadata": {
    "slideshow": {
     "slide_type": "fragment"
    }
   },
   "source": [
    "2. $71\\%$ said teenagers $\\Rightarrow \\hat{p} = 0.71 \\Rightarrow \\hat{q} = 1 - \\hat{p} = 0.29$"
   ]
  },
  {
   "cell_type": "markdown",
   "metadata": {
    "slideshow": {
     "slide_type": "fragment"
    }
   },
   "source": [
    "3. $n\\hat{p} = 498 \\cdot 0.71 = 353.58 \\geq 5$ and $n\\hat{q} = 498 \\cdot 0.29 = 144.42 \\geq 5$ so we can approximate with a normal distribution."
   ]
  },
  {
   "cell_type": "markdown",
   "metadata": {
    "slideshow": {
     "slide_type": "fragment"
    }
   },
   "source": [
    "4. The level of confidence gives and critical value: $c = 0.99 \\Rightarrow z_c = 2.575$"
   ]
  },
  {
   "cell_type": "markdown",
   "metadata": {
    "slideshow": {
     "slide_type": "fragment"
    }
   },
   "source": [
    "5. The margin of error is: $E = z_c \\cdot \\sqrt{\\frac{\\hat{p}\\hat{q}}{n}} = 2.575 \\cdot \\sqrt{\\frac{0.71 \\cdot 0.29}{498}} \\approx 0.052$"
   ]
  },
  {
   "cell_type": "markdown",
   "metadata": {
    "slideshow": {
     "slide_type": "fragment"
    }
   },
   "source": [
    "6. The interval is then:\n",
    "\n",
    "\\begin{eqnarray}\n",
    "\\text{Left endpoint:} && \\hat{p} - E = 0.71 - 0.052 = 0.658 \\\\\n",
    "\\text{Right endpoint: } && \\hat{p} + E = 0.71 + 0.052 = 0.762 \\\\\n",
    "\\text{Interval: } && \\boxed{0.658 < p < 0.762} \\text{ or } \\boxed{(0.658,0.762)}\n",
    "\\end{eqnarray}\n",
    "\n",
    "So with $99\\%$ confidence, we can say that the population proportion of U.S. adults who say teenagers are the more dangerous drivers is between $65.8\\%$ and $76.2\\%$."
   ]
  },
  {
   "cell_type": "markdown",
   "metadata": {
    "slideshow": {
     "slide_type": "slide"
    }
   },
   "source": [
    "##### Objective 3: Determine the Minimum Sample Size Required When Estimating a Population Proportion"
   ]
  },
  {
   "cell_type": "markdown",
   "metadata": {
    "slideshow": {
     "slide_type": "fragment"
    }
   },
   "source": [
    "Given a $c$-confidence level and margin of error, $E$, the minimum sample size, $n$, needed to estimate the population proportion $p$ is given by\n",
    "\n",
    "$\\require{\\cancel}$\n",
    "\n",
    "\\begin{eqnarray}\n",
    "E & = & z_c \\cdot \\sqrt{\\frac{\\hat{p}\\hat{q}}{n}} \\\\\n",
    "E & = & z_c \\cdot \\color{blue}{\\frac{\\sqrt{\\hat{p}\\hat{q}}}{\\sqrt{n}}} \\\\\n",
    "E \\cdot \\color{blue}{\\sqrt{n}} & = & \\frac{\\hat{p}\\hat{q}}{\\sqrt{n}} \\color{blue}{\\cdot \\sqrt{n}} \\\\\n",
    "E \\cdot \\sqrt{n} & = & z_c \\cdot \\frac{\\hat{p}\\hat{q}}{\\cancel{\\sqrt{n}}} \\color{blue}{\\cdot \\cancel{\\sqrt{n}}} \\\\\n",
    "E \\cdot \\sqrt{n} & = & z_c \\cdot \\sqrt{\\hat{p}\\hat{q}} \\\\\n",
    "\\frac{E \\cdot \\sqrt{n}}{\\color{blue}{E}} & = & z_c \\cdot \\frac{\\sqrt{\\hat{p}\\hat{q}}}{\\color{blue}{E}} \\\\\n",
    "\\frac{\\cancel{E} \\cdot \\sqrt{n}}{\\color{blue}{\\cancel{E}}} & = & z_c \\cdot \\frac{\\sqrt{\\hat{p}\\hat{q}}}{\\color{blue}{E}} \\\\\n",
    "\\sqrt{n} & = & z_c \\cdot \\frac{\\sqrt{\\hat{p}\\hat{q}}}{E} \\\\\n",
    "\\left( \\sqrt{n} \\right)^{\\color{blue}{2}} & = & \\left( z_c \\cdot \\frac{\\sqrt{\\hat{p}\\hat{q}}}{E} \\right)^{\\color{blue}{2}} \\\\\n",
    "n & = & \\hat{p}\\hat{q}\\left( \\frac{z_c}{E} \\right)^2\n",
    "\\end{eqnarray}\n",
    "\n",
    "So the minimum random sample we require is $\\boxed{n = \\hat{p}\\hat{q}\\left( \\frac{z_c}{E} \\right)^2}$.\n",
    "\n",
    "##### Important Notes:\n",
    "\n",
    "Just as before when finding a minimum sample size for constructing a $c\\%$ confidence interval, we need to round $n$ <em>up</em>.\n",
    "\n",
    "When no perliminary information is given to find $\\hat{p}$, assumed that $\\hat{p} = 0.50$."
   ]
  },
  {
   "cell_type": "markdown",
   "metadata": {
    "slideshow": {
     "slide_type": "fragment"
    }
   },
   "source": [
    "##### Example:\n",
    "\n",
    "You are running a political campaign and wish to estimate, with $95\\%$ confidence, the poulation proportion of registered voters who will vote for your candidate. Your estimate must be accurate within $3\\%$ of the population proportion. Find the minimum sample size needed when (a) no preliminary estimate is available and (b) a preliminary estimate gives $\\hat{p} = 0.31$. Compare your results."
   ]
  },
  {
   "cell_type": "markdown",
   "metadata": {
    "slideshow": {
     "slide_type": "fragment"
    }
   },
   "source": [
    "##### Solution:\n",
    "\n",
    "(a)\n",
    "\n",
    "We are looking for the <em>minimum</em> sample size for a confidence interval involving a population proportion $\\Rightarrow$ we will need $n = \\hat{p}\\hat{q} \\cdot \\left( \\frac{z_c}{E} \\right)^2$. With no preliminary info: $\\hat{p} = 0.50 \\Rightarrow \\hat{q} = 0.50$. Since $c = 0.95$ our critical value is $z_c = 1.96$ and the margin of error is $E = 0.03$ (we wish to be within $3\\%$ in our estimate). So we have $$n = \\hat{p}\\hat{q} \\cdot \\left( \\frac{z_c}{E} \\right)^2 = 0.50 \\cdot 0.50 \\left( \\frac{1.96}{0.03} \\right)^2  = 1067.11111... \\approx 1068$$\n",
    "\n",
    "Don't forget to round <em>up</em> when finding a <em>minimum</em> sample size."
   ]
  },
  {
   "cell_type": "markdown",
   "metadata": {},
   "source": [
    "(b)\n",
    "\n",
    "We are looking for the <em>minimum</em> sample size for a confidence interval involving a population proportion $\\Rightarrow$ we will need $n = \\hat{p}\\hat{q} \\cdot \\left( \\frac{z_c}{E} \\right)^2$. We now have preliminary info: $\\hat{p} = 0.31 \\Rightarrow \\hat{q} = 0.69$. Since $c = 0.95$ our critical value is $z_c = 1.96$ and the margin of error is $E = 0.03$ (we wish to be within $3\\%$ in our estimate). So we have $$n = \\hat{p}\\hat{q} \\cdot \\left( \\frac{z_c}{E} \\right)^2 = 0.31 \\cdot 0.69 \\left( \\frac{1.96}{0.03} \\right)^2 = 913.02026... \\approx 914$$"
   ]
  },
  {
   "cell_type": "markdown",
   "metadata": {
    "slideshow": {
     "slide_type": "slide"
    }
   },
   "source": [
    "##### End of Section"
   ]
  }
 ],
 "metadata": {
  "celltoolbar": "Slideshow",
  "kernelspec": {
   "display_name": "Python 3",
   "language": "python",
   "name": "python3"
  },
  "language_info": {
   "codemirror_mode": {
    "name": "ipython",
    "version": 3
   },
   "file_extension": ".py",
   "mimetype": "text/x-python",
   "name": "python",
   "nbconvert_exporter": "python",
   "pygments_lexer": "ipython3",
   "version": "3.7.7"
  },
  "rise": {
   "enable_chalkboard": true,
   "theme": "sky",
   "transition": "zoom"
  }
 },
 "nbformat": 4,
 "nbformat_minor": 4
}
