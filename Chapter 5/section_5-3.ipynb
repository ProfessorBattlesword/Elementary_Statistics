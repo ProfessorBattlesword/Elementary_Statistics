{
 "cells": [
  {
   "cell_type": "markdown",
   "metadata": {
    "slideshow": {
     "slide_type": "slide"
    }
   },
   "source": [
    "# Chapter 5: Normal Probability Distributions"
   ]
  },
  {
   "cell_type": "markdown",
   "metadata": {
    "slideshow": {
     "slide_type": "slide"
    }
   },
   "source": [
    "### Section 5.3: Finding Values Using Standard Normal Distribution"
   ]
  },
  {
   "cell_type": "markdown",
   "metadata": {
    "slideshow": {
     "slide_type": "slide"
    }
   },
   "source": [
    "##### Objective 1: Finding $z$-Scores Given the Area Under the Normal Curve"
   ]
  },
  {
   "cell_type": "markdown",
   "metadata": {
    "slideshow": {
     "slide_type": "fragment"
    }
   },
   "source": [
    "* To find a $z$-score that corresponds to an area or probability under the standard normal curve we can either do a reverse lookup on the table or we can use a calculuator."
   ]
  },
  {
   "cell_type": "markdown",
   "metadata": {
    "slideshow": {
     "slide_type": "fragment"
    }
   },
   "source": [
    "* To use the table, you will want to look up the desired <em>area</em> (the numbers in the middle of the table rounded to four decimal places) and then find the $z$ that that area corresponds to.\n",
    "\n",
    "* Keep in mind <em><b>areas in the table are always the area to left of a given $z$</b></em>."
   ]
  },
  {
   "cell_type": "markdown",
   "metadata": {
    "slideshow": {
     "slide_type": "fragment"
    }
   },
   "source": [
    "* To use the calculator (TI-83/84) press the 2nd (shift) key and then press the \"VARS\" (\"DISTR\") key. This will pull up a menu similar to before, but now we want to select \"invNorm\" (3rd option on my TI-84).\n",
    "\n",
    "* This invNorm function asks for the <em><b>area to the left</b></em> and will return the $z$ value that the area corresponds to."
   ]
  },
  {
   "cell_type": "markdown",
   "metadata": {
    "slideshow": {
     "slide_type": "fragment"
    }
   },
   "source": [
    "##### Example:\n",
    "\n",
    "1. Find the $z$-score that corresponds to a cumulative area of 0.3632 (cumulative area implies area to the left of the $z$-score in question).\n",
    "\n",
    "2. Find the $z$-score that has 10.75\\% of the distribution's area to its <em>right</em>."
   ]
  },
  {
   "cell_type": "markdown",
   "metadata": {
    "slideshow": {
     "slide_type": "fragment"
    }
   },
   "source": [
    "##### Solution:\n",
    "\n",
    "1. We are essentially given the following: $A_{left} = 0.3632 = P(z<?)$. So we need to find this \"?\" value."
   ]
  },
  {
   "cell_type": "markdown",
   "metadata": {
    "slideshow": {
     "slide_type": "fragment"
    }
   },
   "source": [
    "A reverse lookup on the table gives us $\\boxed{z=-0.35}$"
   ]
  },
  {
   "cell_type": "markdown",
   "metadata": {
    "slideshow": {
     "slide_type": "fragment"
    }
   },
   "source": [
    "2. Since $10.75\\% \\Rightarrow 10.75/100 = 0.1075 = A_{right}$, we're basically given $P(z>?) = 0.1075$ (notice the inequality direction)."
   ]
  },
  {
   "cell_type": "markdown",
   "metadata": {
    "slideshow": {
     "slide_type": "fragment"
    }
   },
   "source": [
    "Since we're looking for area to the <em>right</em> the inequality is <em>greater than</em>."
   ]
  },
  {
   "cell_type": "markdown",
   "metadata": {
    "slideshow": {
     "slide_type": "fragment"
    }
   },
   "source": [
    "To find the area to the <em>left</em> then, we need to use the concept of compliment: $A_{left} = 1 - A_{right} = 1 - 0.1075 = 0.8925$.\n",
    "\n",
    "And now we can do a reverse lookup on the table or use this in our calculator (whichever your preference).\n",
    "\n",
    "So we end up with $\\boxed{z = 1.24}$."
   ]
  },
  {
   "cell_type": "markdown",
   "metadata": {
    "slideshow": {
     "slide_type": "slide"
    }
   },
   "source": [
    "##### Example:\n",
    "\n",
    "Find the $z$-scores corresponding to the following percentiles: $P_5, P_{50},$ and $P_{90}$."
   ]
  },
  {
   "cell_type": "markdown",
   "metadata": {
    "slideshow": {
     "slide_type": "fragment"
    }
   },
   "source": [
    "##### Solution:\n",
    "\n",
    "Recall that a percentile in the notation given is indicating that the subscript is approximately the percentage of data that lies <em>below</em> that value.\n",
    "\n",
    "So $P_5$ is representing the <em>bottom</em> 5\\% or lower 5\\% of the data (in terms of area, $A_{left} = 0.05$).\n",
    "\n",
    "Similarly, $P_{50} \\Rightarrow$ bottom 50\\% of data ($A_{left}=0.50$) and $P_{90} \\Rightarrow$ bottom 90\\% of data ($A_{left}=0.90$)"
   ]
  },
  {
   "cell_type": "markdown",
   "metadata": {
    "slideshow": {
     "slide_type": "fragment"
    }
   },
   "source": [
    "Using this notation and interpretation we then need to simply do a reverse lookup or use these areas directly in the calculator with invNorm and then we're good.\n",
    "\n",
    "So we end up with $P_5$ corresponds to $\\boxed{z = -1.645}$; $P_{50}$ corresponds to $\\boxed{z=0}$; and $P_{90}$ corresponds to $\\boxed{z=1.28}$."
   ]
  },
  {
   "cell_type": "markdown",
   "metadata": {
    "slideshow": {
     "slide_type": "slide"
    }
   },
   "source": [
    "##### Objective 2: Transforming a $z$-Score to an $x$-Value"
   ]
  },
  {
   "cell_type": "markdown",
   "metadata": {
    "slideshow": {
     "slide_type": "fragment"
    }
   },
   "source": [
    "$\\require{\\cancel}$\n",
    "\n",
    "As we have seen, we can transform an $x$-value into a $z$-score with the formula $z=\\frac{x - \\mu}{\\sigma}$.\n",
    "\n",
    "If we perform just a bit of algebra here:\n",
    "\n",
    "\\begin{eqnarray}\n",
    "z & = & \\frac{x - \\mu}{\\sigma} \\\\\n",
    "\\color{blue}{\\sigma \\cdot} z & = & \\color{blue}{\\sigma \\cdot} \\frac{x - \\mu}{\\sigma} \\\\\n",
    "\\color{blue}{\\sigma \\cdot} z & = & \\color{blue}{\\cancel{\\sigma} \\cdot} \\frac{x - \\mu}{\\cancel{\\sigma}} \\\\\n",
    "z \\cdot \\sigma & = & x - \\mu \\\\\n",
    "z \\cdot \\sigma \\color{blue}{+\\mu} & = & x - \\mu \\color{blue}{+\\mu} \\\\\n",
    "\\mu + z \\cdot \\sigma & = & x - \\cancel{\\mu} \\color{blue}{+\\cancel{\\mu}} \\\\\n",
    "x & = & \\mu + z \\cdot \\sigma\n",
    "\\end{eqnarray}\n",
    "\n",
    "So we can now find $x$-values for a given $z$-score! We don't need to go throught the algebra every time; just use the final result to convert: $\\boxed{x = \\mu + z \\cdot \\sigma}$.\n",
    "\n",
    "Taking this a bit further... we can also now find an $x$ value that a <em>probability</em> corresponds to! We can find $z$-scores based on probability. We can find $x$-values based on $z$-scores. Therefore, we have a process to convert from a probability to a relevant $x$-value for the actual distribution we are working with! Exciting stuff!\n",
    "\n",
    "Let's take a look at some examples:"
   ]
  },
  {
   "cell_type": "markdown",
   "metadata": {
    "slideshow": {
     "slide_type": "fragment"
    }
   },
   "source": [
    "##### Example:\n",
    "\n",
    "A veterinarian records the weights of cats treated at a clinic. The weights are normally distributed, with a mean of 9 pounds and a standard deviation of 2 pounds. Find the weights $x$ corresponding to $z$-scores of $z = 1.96, z = -0.44$, $z = 0$. Interpret your results."
   ]
  },
  {
   "cell_type": "markdown",
   "metadata": {
    "slideshow": {
     "slide_type": "fragment"
    }
   },
   "source": [
    "##### Solution:\n",
    "\n",
    "Note that the mean is $\\mu = 9$ pounds and the standard deviation $\\sigma = 2$ pounds.\n",
    "\n",
    "For $z = 1.96$:\n",
    "\n",
    "we use the formula $x = \\mu + z \\cdot \\sigma$ to obtain $\\boxed{x = 9 + (1.96)\\cdot(2) \\approx 12.92}$ pounds.\n",
    "\n",
    "For $z = -0.44$:\n",
    "\n",
    "again, use the formula $x = \\mu + z \\cdot \\sigma$ to obtain $\\boxed{x = 9 +(-0.44)\\cdot(2) \\approx 8.12}$ pounds.\n",
    "\n",
    "For $z=0$:\n",
    "\n",
    "we could think of this in two ways... $z=0$ should correspond to the mean of any other probability distribution and therefore, we should end up with $\\boxed{x = \\mu = 9}$ pounds."
   ]
  },
  {
   "cell_type": "markdown",
   "metadata": {
    "slideshow": {
     "slide_type": "fragment"
    }
   },
   "source": [
    "Or we could just jump to the calculation: $\\boxed{x = \\mu + z\\cdot \\sigma = 9 + (0)\\cdot(2) = 9}$ pounds."
   ]
  },
  {
   "cell_type": "markdown",
   "metadata": {
    "slideshow": {
     "slide_type": "slide"
    }
   },
   "source": [
    "##### Objective 3: Finding a Specific Data Value of a Normal Distribution Given the Probability"
   ]
  },
  {
   "cell_type": "markdown",
   "metadata": {
    "slideshow": {
     "slide_type": "slide"
    }
   },
   "source": [
    "##### Example:\n",
    "\n",
    "Scores for the California Peace Officer Standards and Training test are normally distributed, with a mean of 50 and a standard deviation of 10. An agency will only hire applicants with scores in the top 10\\%. What is the lowest score an applicant can earn and still be eligible to be hired by the agency?"
   ]
  },
  {
   "cell_type": "markdown",
   "metadata": {
    "slideshow": {
     "slide_type": "fragment"
    }
   },
   "source": [
    "##### Solution:\n",
    "\n",
    "So what's our goal here?"
   ]
  },
  {
   "cell_type": "markdown",
   "metadata": {
    "slideshow": {
     "slide_type": "fragment"
    }
   },
   "source": [
    "We need to find the cutoff <em>value</em> that identifies the top 10\\% of scores on the test. Thinking in terms of normal distributions, if we're looking for \"the top 10\\%,\" then we're looking at the area to the right of some $z$-score for which that area is $10/100 = 0.10 = A_{right}$."
   ]
  },
  {
   "cell_type": "markdown",
   "metadata": {
    "slideshow": {
     "slide_type": "fragment"
    }
   },
   "source": [
    "So we need to find that $z$-score and then convert it into an $x$-value.\n",
    "\n",
    "Finding the $z$-score:\n",
    "\n",
    "$A_{right} = 0.10 \\Rightarrow z = 1.28$ (remember to use area to the left: $A_{left} = 1 - A_{right} = 0.90$ to find the $z$).\n",
    "\n",
    "So $x = \\mu + z \\cdot \\sigma = 50 + (1.28) \\cdot (10) = 62.8 \\Rightarrow \\boxed{x \\approx 63}$\n",
    "\n",
    "So a score of 63 or higher are the only scores to be considered."
   ]
  },
  {
   "cell_type": "markdown",
   "metadata": {
    "slideshow": {
     "slide_type": "slide"
    }
   },
   "source": [
    "###### Example:\n",
    "\n",
    "In a randomly selected sample of women ages 20-34, the mean total cholesterol level is 181 milligrams per deciliter with a standard deviation of 37.6 milligrams per deciliter. Assume the total cholesterol levels are normally distributed. Find the highest total cholesterol level a woman in this 20-34 age group can have and still be in the bottom 1\\%."
   ]
  },
  {
   "cell_type": "markdown",
   "metadata": {
    "slideshow": {
     "slide_type": "fragment"
    }
   },
   "source": [
    "##### Solution:\n",
    "\n",
    "What are we looking for?"
   ]
  },
  {
   "cell_type": "markdown",
   "metadata": {
    "slideshow": {
     "slide_type": "fragment"
    }
   },
   "source": [
    "We need to find the cutoff for the <em>bottom</em> 1\\%. So this means that we have an area to the left of some $z$-score: $A_{left} = 1/100 = 0.01$."
   ]
  },
  {
   "cell_type": "markdown",
   "metadata": {},
   "source": [
    "So we find the $z$ and use that in our formula to find values $x = \\mu + z \\cdot \\sigma$.\n",
    "\n",
    "Finding the $z$-score:\n",
    "\n",
    "$A_{left} = 0.01 \\Rightarrow z = -2.33$\n",
    "\n",
    "Finding the cutoff value:\n",
    "\n",
    "$x = 181 + (-2.33) \\cdot (37.6) \\approx 93.4$.\n",
    "\n",
    "So the highest total cholesterol level a woman between 20-34 years of age can have and still be in the bottom 1\\% is 93.4 milligrams per deciliter."
   ]
  },
  {
   "cell_type": "markdown",
   "metadata": {
    "slideshow": {
     "slide_type": "slide"
    }
   },
   "source": [
    "##### End of Section"
   ]
  }
 ],
 "metadata": {
  "celltoolbar": "Slideshow",
  "kernelspec": {
   "display_name": "Python 3",
   "language": "python",
   "name": "python3"
  },
  "language_info": {
   "codemirror_mode": {
    "name": "ipython",
    "version": 3
   },
   "file_extension": ".py",
   "mimetype": "text/x-python",
   "name": "python",
   "nbconvert_exporter": "python",
   "pygments_lexer": "ipython3",
   "version": "3.7.4"
  },
  "rise": {
   "enable_chalkboard": true,
   "theme": "sky",
   "transition": "zoom"
  }
 },
 "nbformat": 4,
 "nbformat_minor": 2
}
